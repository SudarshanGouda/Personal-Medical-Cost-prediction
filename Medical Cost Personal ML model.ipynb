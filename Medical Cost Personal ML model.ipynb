{
 "cells": [
  {
   "cell_type": "markdown",
   "id": "ad23a595",
   "metadata": {},
   "source": [
    "# Medical Cost Personal ML model"
   ]
  },
  {
   "cell_type": "code",
   "execution_count": 204,
   "id": "a74d21b2",
   "metadata": {},
   "outputs": [],
   "source": [
    "import pandas as pd\n",
    "import numpy as np\n",
    "import matplotlib.pyplot as plt\n",
    "import seaborn as sns\n",
    "import warnings\n",
    "warnings.filterwarnings('ignore')"
   ]
  },
  {
   "cell_type": "code",
   "execution_count": 205,
   "id": "11e9edb1",
   "metadata": {},
   "outputs": [],
   "source": [
    "X_train=pd.read_pickle(\"./X_train.pkl\")\n",
    "X_test=pd.read_pickle(\"./X_test.pkl\")\n",
    "y_train=pd.read_pickle(\"./y_train.pkl\")\n",
    "y_test=pd.read_pickle(\"./y_test.pkl\")\n",
    "\n",
    "X=pd.read_pickle(\"./X.pkl\")\n",
    "y=pd.read_pickle(\"./y.pkl\")\n",
    "df_new=pd.read_pickle(\"./df_new.pkl\")\n",
    "df_raw=pd.read_pickle(\"./df_raw.pkl\")"
   ]
  },
  {
   "cell_type": "markdown",
   "id": "7c8167f2",
   "metadata": {},
   "source": [
    "## Standard Scalar"
   ]
  },
  {
   "cell_type": "code",
   "execution_count": 206,
   "id": "521c1a71",
   "metadata": {},
   "outputs": [],
   "source": [
    "from sklearn.preprocessing import StandardScaler\n",
    "sc=StandardScaler()\n",
    "X_train=sc.fit_transform(X_train)\n",
    "X_test=sc.transform(X_test)"
   ]
  },
  {
   "cell_type": "markdown",
   "id": "bb0a905c",
   "metadata": {},
   "source": [
    "## Model Preparation"
   ]
  },
  {
   "cell_type": "markdown",
   "id": "ca02f6b5",
   "metadata": {},
   "source": [
    "### Linear Regression"
   ]
  },
  {
   "cell_type": "code",
   "execution_count": 207,
   "id": "ecb01d0d",
   "metadata": {},
   "outputs": [
    {
     "name": "stdout",
     "output_type": "stream",
     "text": [
      "4251.022240784463\n",
      "35746488.26440502\n",
      "0.758112748234773\n"
     ]
    }
   ],
   "source": [
    "from sklearn.linear_model import LinearRegression\n",
    "M1= LinearRegression()\n",
    "M1.fit(X_train,y_train)\n",
    "P1= M1.predict(X_test)\n",
    "\n",
    "\n",
    "from sklearn.metrics import mean_squared_log_error,mean_squared_error,mean_absolute_error,r2_score\n",
    "print(mean_absolute_error(y_test,P1))\n",
    "print(mean_squared_error(y_test,P1))\n",
    "print(r2_score(y_test,P1))"
   ]
  },
  {
   "cell_type": "markdown",
   "id": "3426ea94",
   "metadata": {},
   "source": [
    "### Linear Regression digree 2"
   ]
  },
  {
   "cell_type": "code",
   "execution_count": 208,
   "id": "9b101be8",
   "metadata": {},
   "outputs": [
    {
     "name": "stdout",
     "output_type": "stream",
     "text": [
      "2984.0036781921294\n",
      "23051679.056251373\n",
      "0.844015242721256\n"
     ]
    }
   ],
   "source": [
    "from sklearn.preprocessing import PolynomialFeatures\n",
    "from sklearn.pipeline import make_pipeline\n",
    "\n",
    "M2 = make_pipeline(PolynomialFeatures(degree=2),LinearRegression())\n",
    "M2.fit(X_train,y_train)\n",
    "P2=M2.predict(X_test)\n",
    "\n",
    "\n",
    "print(mean_absolute_error(y_test,P2))\n",
    "print(mean_squared_error(y_test,P2))\n",
    "print(r2_score(y_test,P2))"
   ]
  },
  {
   "cell_type": "markdown",
   "id": "2cde41cb",
   "metadata": {},
   "source": [
    "### Linear Regression digree 3"
   ]
  },
  {
   "cell_type": "code",
   "execution_count": 209,
   "id": "6d34f86c",
   "metadata": {},
   "outputs": [
    {
     "name": "stdout",
     "output_type": "stream",
     "text": [
      "3051.8813293495373\n",
      "23436932.584183887\n",
      "0.8414083316195228\n"
     ]
    }
   ],
   "source": [
    "M3 = make_pipeline(PolynomialFeatures(degree=3),LinearRegression())\n",
    "M3.fit(X_train,y_train)\n",
    "P3=M3.predict(X_test)\n",
    "\n",
    "print(mean_absolute_error(y_test,P3))\n",
    "print(mean_squared_error(y_test,P3))\n",
    "print(r2_score(y_test,P3))"
   ]
  },
  {
   "cell_type": "markdown",
   "id": "b6657f7e",
   "metadata": {},
   "source": [
    "### Ridge Regression"
   ]
  },
  {
   "cell_type": "code",
   "execution_count": 210,
   "id": "cb32b86e",
   "metadata": {},
   "outputs": [
    {
     "name": "stdout",
     "output_type": "stream",
     "text": [
      "4252.785258021661\n",
      "35752993.02192709\n",
      "0.7580687322209824\n"
     ]
    }
   ],
   "source": [
    "from sklearn.linear_model import Ridge\n",
    "M4 = Ridge()\n",
    "M4.fit(X_train,y_train)\n",
    "P4= M4.predict(X_test)\n",
    "\n",
    "print(mean_absolute_error(y_test,P4))\n",
    "print(mean_squared_error(y_test,P4))\n",
    "print(r2_score(y_test,P4))"
   ]
  },
  {
   "cell_type": "markdown",
   "id": "b5f4c123",
   "metadata": {},
   "source": [
    "### Ridge Regression digree 2"
   ]
  },
  {
   "cell_type": "code",
   "execution_count": 211,
   "id": "92568df6",
   "metadata": {},
   "outputs": [
    {
     "name": "stdout",
     "output_type": "stream",
     "text": [
      "2917.324731172764\n",
      "22563604.311313584\n",
      "0.8473179184368612\n"
     ]
    }
   ],
   "source": [
    "M5 = make_pipeline(PolynomialFeatures(degree=2),Ridge())\n",
    "M5.fit(X_train,y_train)\n",
    "P5= M5.predict(X_test)\n",
    "\n",
    "print(mean_absolute_error(y_test,P5))\n",
    "print(mean_squared_error(y_test,P5))\n",
    "print(r2_score(y_test,P5))"
   ]
  },
  {
   "cell_type": "markdown",
   "id": "9bf389e0",
   "metadata": {},
   "source": [
    "### Ridge Regression digree 3"
   ]
  },
  {
   "cell_type": "code",
   "execution_count": 212,
   "id": "914b4aa1",
   "metadata": {},
   "outputs": [
    {
     "name": "stdout",
     "output_type": "stream",
     "text": [
      "2960.3773654938063\n",
      "23350245.081776973\n",
      "0.8419949235544985\n"
     ]
    }
   ],
   "source": [
    "M6 = make_pipeline(PolynomialFeatures(degree=3),Ridge())\n",
    "M6.fit(X_train,y_train)\n",
    "P6= M6.predict(X_test)\n",
    "\n",
    "print(mean_absolute_error(y_test,P6))\n",
    "print(mean_squared_error(y_test,P6))\n",
    "print(r2_score(y_test,P6))"
   ]
  },
  {
   "cell_type": "markdown",
   "id": "cc83b80c",
   "metadata": {},
   "source": [
    "### Lasso"
   ]
  },
  {
   "cell_type": "code",
   "execution_count": 213,
   "id": "72dfd57d",
   "metadata": {},
   "outputs": [
    {
     "name": "stdout",
     "output_type": "stream",
     "text": [
      "4251.07216076952\n",
      "35748017.97486302\n",
      "0.7581023970792707\n"
     ]
    }
   ],
   "source": [
    "from sklearn.linear_model import Lasso\n",
    "M7 = Lasso()\n",
    "M7.fit(X_train,y_train)\n",
    "P7 = M7.predict(X_test)\n",
    "\n",
    "print(mean_absolute_error(y_test,P7))\n",
    "print(mean_squared_error(y_test,P7))\n",
    "print(r2_score(y_test,P7))"
   ]
  },
  {
   "cell_type": "markdown",
   "id": "43e56bd1",
   "metadata": {},
   "source": [
    "### Lasso 2"
   ]
  },
  {
   "cell_type": "code",
   "execution_count": 214,
   "id": "cbdbc273",
   "metadata": {},
   "outputs": [
    {
     "name": "stdout",
     "output_type": "stream",
     "text": [
      "2915.6601439267224\n",
      "22558696.471880205\n",
      "0.8473511285184744\n"
     ]
    }
   ],
   "source": [
    "M8 = make_pipeline(PolynomialFeatures(degree=2),Lasso())\n",
    "M8.fit(X_train,y_train)\n",
    "P8= M8.predict(X_test)\n",
    "\n",
    "print(mean_absolute_error(y_test,P8))\n",
    "print(mean_squared_error(y_test,P8))\n",
    "print(r2_score(y_test,P8))"
   ]
  },
  {
   "cell_type": "markdown",
   "id": "d8e1e477",
   "metadata": {},
   "source": [
    "### Lasso 3"
   ]
  },
  {
   "cell_type": "code",
   "execution_count": 215,
   "id": "cca2dab0",
   "metadata": {},
   "outputs": [
    {
     "name": "stdout",
     "output_type": "stream",
     "text": [
      "2958.7581652146587\n",
      "23327408.831640545\n",
      "0.8421494505599281\n"
     ]
    }
   ],
   "source": [
    "M9 = make_pipeline(PolynomialFeatures(degree=3),Lasso())\n",
    "M9.fit(X_train,y_train)\n",
    "P9= M9.predict(X_test)\n",
    "\n",
    "print(mean_absolute_error(y_test,P9))\n",
    "print(mean_squared_error(y_test,P9))\n",
    "print(r2_score(y_test,P9))"
   ]
  },
  {
   "cell_type": "markdown",
   "id": "7badee82",
   "metadata": {},
   "source": [
    "### Stochastic Gradient Descent"
   ]
  },
  {
   "cell_type": "code",
   "execution_count": 216,
   "id": "5048ccee",
   "metadata": {},
   "outputs": [
    {
     "name": "stdout",
     "output_type": "stream",
     "text": [
      "4261.687761189947\n",
      "35755205.50319945\n",
      "0.7580537609317582\n"
     ]
    }
   ],
   "source": [
    "from sklearn.linear_model import SGDRegressor\n",
    "M10 = SGDRegressor(max_iter=2000, tol=1e-3)\n",
    "M10.fit(X_train,y_train)\n",
    "P10= M10.predict(X_test)\n",
    "\n",
    "print(mean_absolute_error(y_test,P10))\n",
    "print(mean_squared_error(y_test,P10))\n",
    "print(r2_score(y_test,P10))"
   ]
  },
  {
   "cell_type": "markdown",
   "id": "567c3f18",
   "metadata": {},
   "source": [
    "### Decision Tree Regressor"
   ]
  },
  {
   "cell_type": "code",
   "execution_count": 217,
   "id": "7cfa0f6b",
   "metadata": {},
   "outputs": [
    {
     "name": "stdout",
     "output_type": "stream",
     "text": [
      "3045.038813458333\n",
      "41519918.879609294\n",
      "6443.59518278494\n",
      "0.7190454347006605\n"
     ]
    }
   ],
   "source": [
    "from sklearn.tree import DecisionTreeRegressor\n",
    "M11 = DecisionTreeRegressor()\n",
    "M11.fit(X_train,y_train)\n",
    "P11 = M11.predict(X_test)\n",
    "\n",
    "print(mean_absolute_error(y_test,P11))\n",
    "print(mean_squared_error(y_test,P11))\n",
    "print(np.sqrt(mean_squared_error(y_test,P11)))\n",
    "print(r2_score(y_test,P11))"
   ]
  },
  {
   "cell_type": "markdown",
   "id": "98da0930",
   "metadata": {},
   "source": [
    "### Random Forest Regressor"
   ]
  },
  {
   "cell_type": "code",
   "execution_count": 218,
   "id": "aaaca4b9",
   "metadata": {},
   "outputs": [
    {
     "name": "stdout",
     "output_type": "stream",
     "text": [
      "2545.6550642006364\n",
      "21909710.240466587\n",
      "4680.780943439522\n",
      "0.8517426506951137\n"
     ]
    }
   ],
   "source": [
    "from sklearn.ensemble import RandomForestRegressor\n",
    "M12 = RandomForestRegressor()\n",
    "\n",
    "M12.fit(X_train,y_train)\n",
    "P12= M12.predict(X_test)\n",
    "\n",
    "print(mean_absolute_error(y_test,P12))\n",
    "print(mean_squared_error(y_test,P12))\n",
    "print(np.sqrt(mean_squared_error(y_test,P12)))\n",
    "print(r2_score(y_test,P12))"
   ]
  },
  {
   "cell_type": "markdown",
   "id": "e60c000c",
   "metadata": {},
   "source": [
    "### AdaBoost Regressor"
   ]
  },
  {
   "cell_type": "code",
   "execution_count": 219,
   "id": "73fc64d4",
   "metadata": {},
   "outputs": [
    {
     "name": "stdout",
     "output_type": "stream",
     "text": [
      "3748.9102703866965\n",
      "24465792.05358007\n",
      "4946.290736863339\n",
      "0.8344463053733618\n"
     ]
    }
   ],
   "source": [
    "from sklearn.ensemble import AdaBoostRegressor\n",
    "M13 =AdaBoostRegressor()\n",
    "\n",
    "M13.fit(X_train,y_train)\n",
    "P13 =M13.predict(X_test)\n",
    "\n",
    "print(mean_absolute_error(y_test,P13))\n",
    "print(mean_squared_error(y_test,P13))\n",
    "print(np.sqrt(mean_squared_error(y_test,P13)))\n",
    "print(r2_score(y_test,P13))"
   ]
  },
  {
   "cell_type": "markdown",
   "id": "6a7302fe",
   "metadata": {},
   "source": [
    "### Gradient Boosting Regressor"
   ]
  },
  {
   "cell_type": "code",
   "execution_count": 220,
   "id": "5bcf06bb",
   "metadata": {},
   "outputs": [
    {
     "name": "stdout",
     "output_type": "stream",
     "text": [
      "2358.4707860973003\n",
      "19479555.542890787\n",
      "4413.564947170347\n",
      "0.8681868797565261\n"
     ]
    }
   ],
   "source": [
    "from sklearn.ensemble import GradientBoostingRegressor\n",
    "M14 = GradientBoostingRegressor()\n",
    "\n",
    "M14.fit(X_train,y_train)\n",
    "P14 = M14.predict(X_test)\n",
    "\n",
    "print(mean_absolute_error(y_test,P14))\n",
    "print(mean_squared_error(y_test,P14))\n",
    "print(np.sqrt(mean_squared_error(y_test,P14)))\n",
    "print(r2_score(y_test,P14))"
   ]
  },
  {
   "cell_type": "markdown",
   "id": "597d6367",
   "metadata": {},
   "source": [
    "### KNN Regressor"
   ]
  },
  {
   "cell_type": "code",
   "execution_count": 221,
   "id": "64b333bb",
   "metadata": {},
   "outputs": [
    {
     "data": {
      "text/plain": [
       "Text(0, 0.5, 'Error Rate')"
      ]
     },
     "execution_count": 221,
     "metadata": {},
     "output_type": "execute_result"
    },
    {
     "data": {
      "image/png": "[encoded data removed]",
      "text/plain": [
       "<Figure size 720x576 with 1 Axes>"
      ]
     },
     "metadata": {},
     "output_type": "display_data"
    }
   ],
   "source": [
    "from sklearn.neighbors import KNeighborsRegressor\n",
    "\n",
    "error_Mat=[]\n",
    "for i in range (1,50):\n",
    "    knn=KNeighborsRegressor(n_neighbors=i)\n",
    "    knn.fit(X_train,y_train)\n",
    "    predict_i=knn.predict(X_test)\n",
    "    error_Mat.append(r2_score(y_test,predict_i))\n",
    "\n",
    "plt.figure(figsize=(10,8))\n",
    "plt.plot(range(1,50),error_Mat,color='blue', linestyle='dashed', marker='o',\n",
    "         markerfacecolor='red', markersize=10)\n",
    "plt.title('Error Rate vs. K Value')\n",
    "plt.xlabel('K')\n",
    "plt.ylabel('Error Rate')"
   ]
  },
  {
   "cell_type": "code",
   "execution_count": 222,
   "id": "21950966",
   "metadata": {},
   "outputs": [
    {
     "name": "stdout",
     "output_type": "stream",
     "text": [
      "3408.4561532946427\n",
      "29260310.603883155\n",
      "5409.280044875025\n",
      "0.8020030369020074\n"
     ]
    }
   ],
   "source": [
    "from sklearn.neighbors import KNeighborsRegressor\n",
    "M15 = KNeighborsRegressor(n_neighbors=7)\n",
    "\n",
    "M15.fit(X_train,y_train)\n",
    "\n",
    "P15= M15.predict(X_test)\n",
    "\n",
    "print(mean_absolute_error(y_test,P15))\n",
    "print(mean_squared_error(y_test,P15))\n",
    "print(np.sqrt(mean_squared_error(y_test,P15)))\n",
    "print(r2_score(y_test,P15))"
   ]
  },
  {
   "cell_type": "markdown",
   "id": "89188e55",
   "metadata": {},
   "source": [
    "### Support Vector Machine"
   ]
  },
  {
   "cell_type": "code",
   "execution_count": 223,
   "id": "00604d18",
   "metadata": {},
   "outputs": [
    {
     "name": "stdout",
     "output_type": "stream",
     "text": [
      "8634.079819990571\n",
      "167025004.01236838\n",
      "12923.815381394474\n",
      "-0.1302150549109402\n"
     ]
    }
   ],
   "source": [
    "from sklearn.svm import SVR\n",
    "M16= SVR()\n",
    "\n",
    "M16.fit(X_train,y_train)\n",
    "\n",
    "P16= M16.predict(X_test)\n",
    "\n",
    "print(mean_absolute_error(y_test,P16))\n",
    "print(mean_squared_error(y_test,P16))\n",
    "print(np.sqrt(mean_squared_error(y_test,P16)))\n",
    "print(r2_score(y_test,P16))"
   ]
  },
  {
   "cell_type": "markdown",
   "id": "4297d76c",
   "metadata": {},
   "source": [
    "### Neural Network Regression"
   ]
  },
  {
   "cell_type": "code",
   "execution_count": 224,
   "id": "c393be75",
   "metadata": {},
   "outputs": [
    {
     "name": "stdout",
     "output_type": "stream",
     "text": [
      "5232.22315544134\n",
      "65871103.43635734\n",
      "8116.10149248747\n",
      "0.5542672593987554\n"
     ]
    }
   ],
   "source": [
    "from sklearn.neural_network import MLPRegressor\n",
    "M17= MLPRegressor(hidden_layer_sizes=(5000,))\n",
    "\n",
    "M17.fit(X_train,y_train)\n",
    "\n",
    "P17= M17.predict(X_test)\n",
    "\n",
    "print(mean_absolute_error(y_test,P17))\n",
    "print(mean_squared_error(y_test,P17))\n",
    "print(np.sqrt(mean_squared_error(y_test,P17)))\n",
    "print(r2_score(y_test,P17))"
   ]
  },
  {
   "cell_type": "markdown",
   "id": "cfa7dd36",
   "metadata": {},
   "source": [
    "### Histogram Boosting"
   ]
  },
  {
   "cell_type": "code",
   "execution_count": 225,
   "id": "f819d376",
   "metadata": {},
   "outputs": [
    {
     "name": "stdout",
     "output_type": "stream",
     "text": [
      "2687.023755783031\n",
      "21187087.398446206\n",
      "4602.943340781658\n",
      "0.8566324527933282\n"
     ]
    }
   ],
   "source": [
    "from sklearn.ensemble import HistGradientBoostingRegressor\n",
    "M18= HistGradientBoostingRegressor()\n",
    "\n",
    "M18.fit(X_train,y_train)\n",
    "\n",
    "P18= M18.predict(X_test)\n",
    "\n",
    "print(mean_absolute_error(y_test,P18))\n",
    "print(mean_squared_error(y_test,P18))\n",
    "print(np.sqrt(mean_squared_error(y_test,P18)))\n",
    "print(r2_score(y_test,P18))"
   ]
  },
  {
   "cell_type": "markdown",
   "id": "81b93162",
   "metadata": {},
   "source": [
    "### XGB Boosting"
   ]
  },
  {
   "cell_type": "code",
   "execution_count": 226,
   "id": "a6e3c114",
   "metadata": {},
   "outputs": [],
   "source": [
    "from xgboost import XGBRFRegressor"
   ]
  },
  {
   "cell_type": "code",
   "execution_count": 227,
   "id": "4c9e02e3",
   "metadata": {},
   "outputs": [
    {
     "name": "stdout",
     "output_type": "stream",
     "text": [
      "2497.5929937958804\n",
      "20106730.83290433\n",
      "4484.052947156661\n",
      "0.8639429465859635\n"
     ]
    }
   ],
   "source": [
    "M19= XGBRFRegressor()\n",
    "\n",
    "M19.fit(X_train,y_train)\n",
    "\n",
    "P19= M19.predict(X_test)\n",
    "\n",
    "print(mean_absolute_error(y_test,P19))\n",
    "print(mean_squared_error(y_test,P19))\n",
    "print(np.sqrt(mean_squared_error(y_test,P19)))\n",
    "print(r2_score(y_test,P19))"
   ]
  },
  {
   "cell_type": "markdown",
   "id": "20d9bf46",
   "metadata": {},
   "source": [
    "### Light GBM"
   ]
  },
  {
   "cell_type": "code",
   "execution_count": 228,
   "id": "2961b814",
   "metadata": {},
   "outputs": [
    {
     "name": "stdout",
     "output_type": "stream",
     "text": [
      "2730.1630023257912\n",
      "21669319.106765524\n",
      "4655.03159030801\n",
      "0.8533693153971\n"
     ]
    }
   ],
   "source": [
    "from lightgbm import LGBMRegressor\n",
    "M20= LGBMRegressor()\n",
    "\n",
    "M20.fit(X_train,y_train)\n",
    "\n",
    "P20= M20.predict(X_test)\n",
    "\n",
    "print(mean_absolute_error(y_test,P20))\n",
    "print(mean_squared_error(y_test,P20))\n",
    "print(np.sqrt(mean_squared_error(y_test,P20)))\n",
    "print(r2_score(y_test,P20))"
   ]
  },
  {
   "cell_type": "markdown",
   "id": "bab8d874",
   "metadata": {},
   "source": [
    "### CAT Boosting"
   ]
  },
  {
   "cell_type": "code",
   "execution_count": 229,
   "id": "ed0809e0",
   "metadata": {},
   "outputs": [
    {
     "name": "stdout",
     "output_type": "stream",
     "text": [
      "2569.8247078305553\n",
      "21251017.19792197\n",
      "4609.882557931597\n",
      "0.8561998563551351\n"
     ]
    }
   ],
   "source": [
    "from catboost import CatBoostRegressor\n",
    "\n",
    "M21= CatBoostRegressor(verbose=0)\n",
    "\n",
    "M21.fit(X_train,y_train)\n",
    "\n",
    "P21= M21.predict(X_test)\n",
    "print(mean_absolute_error(y_test,P21))\n",
    "print(mean_squared_error(y_test,P21))\n",
    "print(np.sqrt(mean_squared_error(y_test,P21)))\n",
    "print(r2_score(y_test,P21))"
   ]
  },
  {
   "cell_type": "markdown",
   "id": "ce2ed4e8",
   "metadata": {},
   "source": [
    "### BaggingRegressor"
   ]
  },
  {
   "cell_type": "code",
   "execution_count": 230,
   "id": "c89ca485",
   "metadata": {},
   "outputs": [
    {
     "name": "stdout",
     "output_type": "stream",
     "text": [
      "2440.5006337951395\n",
      "22035270.14573083\n",
      "4694.174064276998\n",
      "0.8508930192518339\n"
     ]
    }
   ],
   "source": [
    "from sklearn.ensemble import BaggingRegressor\n",
    "\n",
    "M22= BaggingRegressor()\n",
    "\n",
    "M22.fit(X_train,y_train)\n",
    "\n",
    "P22= M22.predict(X_test)\n",
    "\n",
    "print(mean_absolute_error(y_test,P22))\n",
    "print(mean_squared_error(y_test,P22))\n",
    "print(np.sqrt(mean_squared_error(y_test,P22)))\n",
    "print(r2_score(y_test,P22))"
   ]
  },
  {
   "cell_type": "markdown",
   "id": "11a27be7",
   "metadata": {},
   "source": [
    "### NuSVR"
   ]
  },
  {
   "cell_type": "code",
   "execution_count": 231,
   "id": "719f5c6a",
   "metadata": {},
   "outputs": [
    {
     "name": "stdout",
     "output_type": "stream",
     "text": [
      "8650.761932114428\n",
      "162185245.27019906\n",
      "12735.197103704326\n",
      "-0.09746565774803684\n"
     ]
    }
   ],
   "source": [
    "from sklearn.svm import NuSVR\n",
    "M23= NuSVR()\n",
    "\n",
    "M23.fit(X_train,y_train)\n",
    "\n",
    "P23= M23.predict(X_test)\n",
    "\n",
    "print(mean_absolute_error(y_test,P23))\n",
    "print(mean_squared_error(y_test,P23))\n",
    "print(np.sqrt(mean_squared_error(y_test,P23)))\n",
    "print(r2_score(y_test,P23))"
   ]
  },
  {
   "cell_type": "markdown",
   "id": "2b599b2b",
   "metadata": {},
   "source": [
    "### ExtraTreesRegressor"
   ]
  },
  {
   "cell_type": "code",
   "execution_count": 232,
   "id": "fa778728",
   "metadata": {},
   "outputs": [
    {
     "name": "stdout",
     "output_type": "stream",
     "text": [
      "2386.0644606553233\n",
      "22754495.275474716\n",
      "4770.16721672047\n",
      "0.8460262085948701\n"
     ]
    }
   ],
   "source": [
    "from sklearn.ensemble import ExtraTreesRegressor\n",
    "M24= ExtraTreesRegressor()\n",
    "\n",
    "M24.fit(X_train,y_train)\n",
    "\n",
    "P24= M24.predict(X_test)\n",
    "\n",
    "print(mean_absolute_error(y_test,P24))\n",
    "print(mean_squared_error(y_test,P24))\n",
    "print(np.sqrt(mean_squared_error(y_test,P24)))\n",
    "print(r2_score(y_test,P24))"
   ]
  },
  {
   "cell_type": "markdown",
   "id": "4080f274",
   "metadata": {},
   "source": [
    "### PoissonRegressor"
   ]
  },
  {
   "cell_type": "code",
   "execution_count": 233,
   "id": "cd2b7f4f",
   "metadata": {},
   "outputs": [
    {
     "name": "stdout",
     "output_type": "stream",
     "text": [
      "2439.593227284606\n",
      "22937982.821580987\n",
      "4789.361421064502\n",
      "0.8447845957703459\n"
     ]
    }
   ],
   "source": [
    "from sklearn.linear_model import PoissonRegressor\n",
    "\n",
    "M25= ExtraTreesRegressor()\n",
    "\n",
    "M25.fit(X_train,y_train)\n",
    "\n",
    "P25= M25.predict(X_test)\n",
    "\n",
    "print(mean_absolute_error(y_test,P25))\n",
    "print(mean_squared_error(y_test,P25))\n",
    "print(np.sqrt(mean_squared_error(y_test,P25)))\n",
    "print(r2_score(y_test,P25))"
   ]
  },
  {
   "cell_type": "markdown",
   "id": "061fefa7",
   "metadata": {},
   "source": [
    "### HuberRegressor"
   ]
  },
  {
   "cell_type": "code",
   "execution_count": 234,
   "id": "af94da53",
   "metadata": {
    "scrolled": true
   },
   "outputs": [
    {
     "name": "stdout",
     "output_type": "stream",
     "text": [
      "3441.0834758605156\n",
      "45369446.70380173\n",
      "6735.684575735545\n",
      "0.6929966743553012\n"
     ]
    }
   ],
   "source": [
    "from sklearn.linear_model import HuberRegressor\n",
    "M26= HuberRegressor()\n",
    "\n",
    "M26.fit(X_train,y_train)\n",
    "\n",
    "P26= M26.predict(X_test)\n",
    "\n",
    "print(mean_absolute_error(y_test,P26))\n",
    "print(mean_squared_error(y_test,P26))\n",
    "print(np.sqrt(mean_squared_error(y_test,P26)))\n",
    "print(r2_score(y_test,P26))"
   ]
  },
  {
   "cell_type": "markdown",
   "id": "e2cda54f",
   "metadata": {},
   "source": [
    "### RidgeCV"
   ]
  },
  {
   "cell_type": "code",
   "execution_count": 235,
   "id": "6321f398",
   "metadata": {},
   "outputs": [
    {
     "name": "stdout",
     "output_type": "stream",
     "text": [
      "4252.785258021238\n",
      "35752993.0219251\n",
      "5979.380655379377\n",
      "0.7580687322209958\n"
     ]
    }
   ],
   "source": [
    "from sklearn.linear_model import RidgeCV\n",
    "\n",
    "M27= RidgeCV()\n",
    "\n",
    "M27.fit(X_train,y_train)\n",
    "\n",
    "P27= M27.predict(X_test)\n",
    "\n",
    "print(mean_absolute_error(y_test,P27))\n",
    "print(mean_squared_error(y_test,P27))\n",
    "print(np.sqrt(mean_squared_error(y_test,P27)))\n",
    "print(r2_score(y_test,P27))"
   ]
  },
  {
   "cell_type": "markdown",
   "id": "28c4fbc2",
   "metadata": {},
   "source": [
    "### BayesianRidge"
   ]
  },
  {
   "cell_type": "code",
   "execution_count": 236,
   "id": "b84cfa51",
   "metadata": {},
   "outputs": [
    {
     "name": "stdout",
     "output_type": "stream",
     "text": [
      "4255.830347834132\n",
      "35764610.855898395\n",
      "5980.352067888512\n",
      "0.7579901173397108\n"
     ]
    }
   ],
   "source": [
    "from sklearn.linear_model import BayesianRidge\n",
    "\n",
    "M28= BayesianRidge()\n",
    "\n",
    "M28.fit(X_train,y_train)\n",
    "\n",
    "P28= M28.predict(X_test)\n",
    "\n",
    "print(mean_absolute_error(y_test,P28))\n",
    "print(mean_squared_error(y_test,P28))\n",
    "print(np.sqrt(mean_squared_error(y_test,P28)))\n",
    "print(r2_score(y_test,P28))"
   ]
  },
  {
   "cell_type": "markdown",
   "id": "f6a34266",
   "metadata": {},
   "source": [
    "### ElasticNetCV"
   ]
  },
  {
   "cell_type": "code",
   "execution_count": 237,
   "id": "96dc7190",
   "metadata": {},
   "outputs": [
    {
     "name": "stdout",
     "output_type": "stream",
     "text": [
      "6358.708977788549\n",
      "74353935.87895134\n",
      "8622.872832122212\n",
      "0.4968661236131413\n"
     ]
    }
   ],
   "source": [
    "from sklearn.linear_model import ElasticNetCV\n",
    "\n",
    "#M29= ElasticNetCV()\n",
    "M29 = make_pipeline(PolynomialFeatures(degree=3),ElasticNetCV())\n",
    "M29.fit(X_train,y_train)\n",
    "\n",
    "P29= M29.predict(X_test)\n",
    "\n",
    "print(mean_absolute_error(y_test,P29))\n",
    "print(mean_squared_error(y_test,P29))\n",
    "print(np.sqrt(mean_squared_error(y_test,P29)))\n",
    "print(r2_score(y_test,P29))"
   ]
  },
  {
   "cell_type": "markdown",
   "id": "8d823404",
   "metadata": {},
   "source": [
    "### TransformedTargetRegressor"
   ]
  },
  {
   "cell_type": "code",
   "execution_count": 238,
   "id": "94dc6c50",
   "metadata": {},
   "outputs": [
    {
     "name": "stdout",
     "output_type": "stream",
     "text": [
      "2027.1940422347366\n",
      "18997731.734895483\n",
      "4358.638747922966\n",
      "0.8714472569966337\n"
     ]
    }
   ],
   "source": [
    "from sklearn.compose import TransformedTargetRegressor\n",
    "M30=TransformedTargetRegressor(regressor=M19,func=np.log, inverse_func=np.exp)\n",
    "M30.fit(X_train,y_train)\n",
    "\n",
    "P30= M30.predict(X_test)\n",
    "\n",
    "print(mean_absolute_error(y_test,P30))\n",
    "print(mean_squared_error(y_test,P30))\n",
    "print(np.sqrt(mean_squared_error(y_test,P30)))\n",
    "print(r2_score(y_test,P30))"
   ]
  },
  {
   "cell_type": "markdown",
   "id": "a8aa7869",
   "metadata": {},
   "source": [
    "### TweedieRegressor"
   ]
  },
  {
   "cell_type": "code",
   "execution_count": 239,
   "id": "e388136e",
   "metadata": {},
   "outputs": [
    {
     "name": "stdout",
     "output_type": "stream",
     "text": [
      "5906.99698242105\n",
      "65928362.16170744\n",
      "8119.628203415932\n",
      "0.5538798043958452\n"
     ]
    }
   ],
   "source": [
    "from sklearn.linear_model import TweedieRegressor\n",
    "\n",
    "M31=TweedieRegressor()\n",
    "M31.fit(X_train,y_train)\n",
    "\n",
    "P31= M31.predict(X_test)\n",
    "\n",
    "print(mean_absolute_error(y_test,P31))\n",
    "print(mean_squared_error(y_test,P31))\n",
    "print(np.sqrt(mean_squared_error(y_test,P31)))\n",
    "print(r2_score(y_test,P31))"
   ]
  },
  {
   "cell_type": "markdown",
   "id": "a5b171e4",
   "metadata": {},
   "source": [
    "### RANSACRegressor"
   ]
  },
  {
   "cell_type": "code",
   "execution_count": 240,
   "id": "c3590ca8",
   "metadata": {},
   "outputs": [
    {
     "name": "stdout",
     "output_type": "stream",
     "text": [
      "3590.8022030392162\n",
      "57638881.4281527\n",
      "7592.027491266921\n",
      "0.6099725791145572\n"
     ]
    }
   ],
   "source": [
    "from sklearn.linear_model import RANSACRegressor\n",
    "M32=RANSACRegressor()\n",
    "M32.fit(X_train,y_train)\n",
    "\n",
    "P32= M32.predict(X_test)\n",
    "\n",
    "print(mean_absolute_error(y_test,P32))\n",
    "print(mean_squared_error(y_test,P32))\n",
    "print(np.sqrt(mean_squared_error(y_test,P32)))\n",
    "print(r2_score(y_test,P32))"
   ]
  },
  {
   "cell_type": "markdown",
   "id": "c1f06fe9",
   "metadata": {},
   "source": [
    "### OrthogonalMatchingPursuitCV"
   ]
  },
  {
   "cell_type": "code",
   "execution_count": 241,
   "id": "4ed4ddef",
   "metadata": {},
   "outputs": [
    {
     "name": "stdout",
     "output_type": "stream",
     "text": [
      "4259.042503319003\n",
      "35799235.4788539\n",
      "5983.246232510735\n",
      "0.7577558214606815\n"
     ]
    }
   ],
   "source": [
    "from sklearn.linear_model import OrthogonalMatchingPursuitCV\n",
    "\n",
    "M33=OrthogonalMatchingPursuitCV()\n",
    "M33.fit(X_train,y_train)\n",
    "\n",
    "P33= M33.predict(X_test)\n",
    "\n",
    "print(mean_absolute_error(y_test,P33))\n",
    "print(mean_squared_error(y_test,P33))\n",
    "print(np.sqrt(mean_squared_error(y_test,P33)))\n",
    "print(r2_score(y_test,P33))"
   ]
  },
  {
   "cell_type": "markdown",
   "id": "c2fa4268",
   "metadata": {},
   "source": [
    "### PassiveAggressiveRegressor"
   ]
  },
  {
   "cell_type": "code",
   "execution_count": 242,
   "id": "8e4797b0",
   "metadata": {},
   "outputs": [
    {
     "name": "stdout",
     "output_type": "stream",
     "text": [
      "3508.330017990164\n",
      "40680404.87037147\n",
      "6378.119226729104\n",
      "0.7247262091311701\n"
     ]
    }
   ],
   "source": [
    "from sklearn.linear_model import PassiveAggressiveRegressor\n",
    "\n",
    "M34=PassiveAggressiveRegressor()\n",
    "M34.fit(X_train,y_train)\n",
    "\n",
    "P34= M34.predict(X_test)\n",
    "\n",
    "print(mean_absolute_error(y_test,P34))\n",
    "print(mean_squared_error(y_test,P34))\n",
    "print(np.sqrt(mean_squared_error(y_test,P34)))\n",
    "print(r2_score(y_test,P34))"
   ]
  },
  {
   "cell_type": "markdown",
   "id": "668cd2ab",
   "metadata": {},
   "source": [
    "## All at once"
   ]
  },
  {
   "cell_type": "code",
   "execution_count": 243,
   "id": "fcecd36e",
   "metadata": {},
   "outputs": [],
   "source": [
    "Name=['Linear Regression','Linear Regression digree 2','Linear Regression digree 3','Ridge Regression',\n",
    "      'Ridge Regression digree 2','Ridge Regression digree 3','Lasso','Lasso digree 2','Lasso digree 3','SGDRegressor',\n",
    "     'Decision Tree Regressor','Random Forest Regressor','AdaBoost Regressor','Gradient Boosting Regressor','KNN Regressor',\n",
    "      'Support Vector Machine','Neural Network Regression','Histogram Boosting','XGB Boosting','Light GBM','CAT Boosting',\n",
    "      'BaggingRegressor','NuSVR','ExtraTreesRegressor','PoissonRegressor','HuberRegressor',\n",
    "      'RidgeCV','BayesianRidge','ElasticNetCV','TransformedTargetRegressor','TweedieRegressor',\n",
    "      'RANSACRegressor','OrthogonalMatchingPursuitCV','PassiveAggressiveRegressor']\n",
    "clfs= [M1,M2,M3,M4,M5,M6,M7,M8,M9,M10,M11,M12,M13,M14,M15,M16,M17,M18,M19,M20,M21,M22,M23,M24,M25,M26,M27,M28,M29,M30,\n",
    "       M31,M32,M33,M34]"
   ]
  },
  {
   "cell_type": "code",
   "execution_count": 244,
   "id": "8ef69f85",
   "metadata": {},
   "outputs": [
    {
     "data": {
      "text/html": [
       "<div>\n",
       "<style scoped>\n",
       "    .dataframe tbody tr th:only-of-type {\n",
       "        vertical-align: middle;\n",
       "    }\n",
       "\n",
       "    .dataframe tbody tr th {\n",
       "        vertical-align: top;\n",
       "    }\n",
       "\n",
       "    .dataframe thead th {\n",
       "        text-align: right;\n",
       "    }\n",
       "</style>\n",
       "<table border=\"1\" class=\"dataframe\">\n",
       "  <thead>\n",
       "    <tr style=\"text-align: right;\">\n",
       "      <th></th>\n",
       "      <th>R2</th>\n",
       "    </tr>\n",
       "  </thead>\n",
       "  <tbody>\n",
       "    <tr>\n",
       "      <th>TransformedTargetRegressor</th>\n",
       "      <td>0.871447</td>\n",
       "    </tr>\n",
       "    <tr>\n",
       "      <th>Gradient Boosting Regressor</th>\n",
       "      <td>0.868462</td>\n",
       "    </tr>\n",
       "    <tr>\n",
       "      <th>XGB Boosting</th>\n",
       "      <td>0.863943</td>\n",
       "    </tr>\n",
       "    <tr>\n",
       "      <th>Histogram Boosting</th>\n",
       "      <td>0.856632</td>\n",
       "    </tr>\n",
       "    <tr>\n",
       "      <th>CAT Boosting</th>\n",
       "      <td>0.856200</td>\n",
       "    </tr>\n",
       "    <tr>\n",
       "      <th>Random Forest Regressor</th>\n",
       "      <td>0.853480</td>\n",
       "    </tr>\n",
       "    <tr>\n",
       "      <th>Light GBM</th>\n",
       "      <td>0.853369</td>\n",
       "    </tr>\n",
       "    <tr>\n",
       "      <th>Lasso digree 2</th>\n",
       "      <td>0.847351</td>\n",
       "    </tr>\n",
       "    <tr>\n",
       "      <th>Ridge Regression digree 2</th>\n",
       "      <td>0.847318</td>\n",
       "    </tr>\n",
       "    <tr>\n",
       "      <th>ExtraTreesRegressor</th>\n",
       "      <td>0.846990</td>\n",
       "    </tr>\n",
       "    <tr>\n",
       "      <th>Linear Regression digree 2</th>\n",
       "      <td>0.844015</td>\n",
       "    </tr>\n",
       "    <tr>\n",
       "      <th>Lasso digree 3</th>\n",
       "      <td>0.842149</td>\n",
       "    </tr>\n",
       "    <tr>\n",
       "      <th>Ridge Regression digree 3</th>\n",
       "      <td>0.841995</td>\n",
       "    </tr>\n",
       "    <tr>\n",
       "      <th>PoissonRegressor</th>\n",
       "      <td>0.841882</td>\n",
       "    </tr>\n",
       "    <tr>\n",
       "      <th>Linear Regression digree 3</th>\n",
       "      <td>0.841408</td>\n",
       "    </tr>\n",
       "    <tr>\n",
       "      <th>BaggingRegressor</th>\n",
       "      <td>0.838289</td>\n",
       "    </tr>\n",
       "    <tr>\n",
       "      <th>AdaBoost Regressor</th>\n",
       "      <td>0.823386</td>\n",
       "    </tr>\n",
       "    <tr>\n",
       "      <th>KNN Regressor</th>\n",
       "      <td>0.802003</td>\n",
       "    </tr>\n",
       "    <tr>\n",
       "      <th>Linear Regression</th>\n",
       "      <td>0.758113</td>\n",
       "    </tr>\n",
       "    <tr>\n",
       "      <th>Lasso</th>\n",
       "      <td>0.758102</td>\n",
       "    </tr>\n",
       "    <tr>\n",
       "      <th>RidgeCV</th>\n",
       "      <td>0.758069</td>\n",
       "    </tr>\n",
       "    <tr>\n",
       "      <th>Ridge Regression</th>\n",
       "      <td>0.758069</td>\n",
       "    </tr>\n",
       "    <tr>\n",
       "      <th>SGDRegressor</th>\n",
       "      <td>0.758028</td>\n",
       "    </tr>\n",
       "    <tr>\n",
       "      <th>BayesianRidge</th>\n",
       "      <td>0.757990</td>\n",
       "    </tr>\n",
       "    <tr>\n",
       "      <th>OrthogonalMatchingPursuitCV</th>\n",
       "      <td>0.757756</td>\n",
       "    </tr>\n",
       "    <tr>\n",
       "      <th>PassiveAggressiveRegressor</th>\n",
       "      <td>0.722043</td>\n",
       "    </tr>\n",
       "    <tr>\n",
       "      <th>Decision Tree Regressor</th>\n",
       "      <td>0.720376</td>\n",
       "    </tr>\n",
       "    <tr>\n",
       "      <th>HuberRegressor</th>\n",
       "      <td>0.692997</td>\n",
       "    </tr>\n",
       "    <tr>\n",
       "      <th>RANSACRegressor</th>\n",
       "      <td>0.616596</td>\n",
       "    </tr>\n",
       "    <tr>\n",
       "      <th>TweedieRegressor</th>\n",
       "      <td>0.553880</td>\n",
       "    </tr>\n",
       "    <tr>\n",
       "      <th>Neural Network Regression</th>\n",
       "      <td>0.552982</td>\n",
       "    </tr>\n",
       "    <tr>\n",
       "      <th>ElasticNetCV</th>\n",
       "      <td>0.496866</td>\n",
       "    </tr>\n",
       "    <tr>\n",
       "      <th>NuSVR</th>\n",
       "      <td>-0.097466</td>\n",
       "    </tr>\n",
       "    <tr>\n",
       "      <th>Support Vector Machine</th>\n",
       "      <td>-0.130215</td>\n",
       "    </tr>\n",
       "  </tbody>\n",
       "</table>\n",
       "</div>"
      ],
      "text/plain": [
       "                                   R2\n",
       "TransformedTargetRegressor   0.871447\n",
       "Gradient Boosting Regressor  0.868462\n",
       "XGB Boosting                 0.863943\n",
       "Histogram Boosting           0.856632\n",
       "CAT Boosting                 0.856200\n",
       "Random Forest Regressor      0.853480\n",
       "Light GBM                    0.853369\n",
       "Lasso digree 2               0.847351\n",
       "Ridge Regression digree 2    0.847318\n",
       "ExtraTreesRegressor          0.846990\n",
       "Linear Regression digree 2   0.844015\n",
       "Lasso digree 3               0.842149\n",
       "Ridge Regression digree 3    0.841995\n",
       "PoissonRegressor             0.841882\n",
       "Linear Regression digree 3   0.841408\n",
       "BaggingRegressor             0.838289\n",
       "AdaBoost Regressor           0.823386\n",
       "KNN Regressor                0.802003\n",
       "Linear Regression            0.758113\n",
       "Lasso                        0.758102\n",
       "RidgeCV                      0.758069\n",
       "Ridge Regression             0.758069\n",
       "SGDRegressor                 0.758028\n",
       "BayesianRidge                0.757990\n",
       "OrthogonalMatchingPursuitCV  0.757756\n",
       "PassiveAggressiveRegressor   0.722043\n",
       "Decision Tree Regressor      0.720376\n",
       "HuberRegressor               0.692997\n",
       "RANSACRegressor              0.616596\n",
       "TweedieRegressor             0.553880\n",
       "Neural Network Regression    0.552982\n",
       "ElasticNetCV                 0.496866\n",
       "NuSVR                       -0.097466\n",
       "Support Vector Machine      -0.130215"
      ]
     },
     "execution_count": 244,
     "metadata": {},
     "output_type": "execute_result"
    }
   ],
   "source": [
    "results=[]\n",
    "for i in clfs:\n",
    "    i.fit(X_train,y_train)\n",
    "    r2=r2_score(y_test, i.predict(X_test))\n",
    "    results.append(r2)\n",
    "\n",
    "## Dataframe from result\n",
    "score= pd.DataFrame(results,index=Name)\n",
    "score.columns=['R2']\n",
    "score.sort_values(by='R2',ascending=False)"
   ]
  },
  {
   "cell_type": "markdown",
   "id": "baed109b",
   "metadata": {},
   "source": [
    "## Cross Validation"
   ]
  },
  {
   "cell_type": "code",
   "execution_count": 245,
   "id": "234f38b0",
   "metadata": {},
   "outputs": [],
   "source": [
    "from sklearn.model_selection import KFold,cross_val_score\n",
    "kfold=KFold(n_splits=5,shuffle=False, random_state=None)"
   ]
  },
  {
   "cell_type": "code",
   "execution_count": 246,
   "id": "20eaff18",
   "metadata": {},
   "outputs": [],
   "source": [
    "kfold=KFold(n_splits=5,shuffle=False, random_state=None)\n",
    "results_mean=[]\n",
    "\n",
    "for i in clfs:\n",
    "    csv=cross_val_score(i,X_train,y_train,cv=kfold)\n",
    "    mean_score=csv.mean()\n",
    "    results_mean.append(mean_score)\n",
    "\n",
    "score= pd.DataFrame(results_mean,index=Name)\n",
    "score.columns=['Accuracy']"
   ]
  },
  {
   "cell_type": "code",
   "execution_count": 247,
   "id": "f5b1ece8",
   "metadata": {},
   "outputs": [
    {
     "data": {
      "text/html": [
       "<div>\n",
       "<style scoped>\n",
       "    .dataframe tbody tr th:only-of-type {\n",
       "        vertical-align: middle;\n",
       "    }\n",
       "\n",
       "    .dataframe tbody tr th {\n",
       "        vertical-align: top;\n",
       "    }\n",
       "\n",
       "    .dataframe thead th {\n",
       "        text-align: right;\n",
       "    }\n",
       "</style>\n",
       "<table border=\"1\" class=\"dataframe\">\n",
       "  <thead>\n",
       "    <tr style=\"text-align: right;\">\n",
       "      <th></th>\n",
       "      <th>Accuracy</th>\n",
       "    </tr>\n",
       "  </thead>\n",
       "  <tbody>\n",
       "    <tr>\n",
       "      <th>TransformedTargetRegressor</th>\n",
       "      <td>0.849308</td>\n",
       "    </tr>\n",
       "    <tr>\n",
       "      <th>Gradient Boosting Regressor</th>\n",
       "      <td>0.844642</td>\n",
       "    </tr>\n",
       "    <tr>\n",
       "      <th>XGB Boosting</th>\n",
       "      <td>0.844446</td>\n",
       "    </tr>\n",
       "    <tr>\n",
       "      <th>Lasso digree 2</th>\n",
       "      <td>0.829492</td>\n",
       "    </tr>\n",
       "    <tr>\n",
       "      <th>Ridge Regression digree 2</th>\n",
       "      <td>0.829448</td>\n",
       "    </tr>\n",
       "    <tr>\n",
       "      <th>CAT Boosting</th>\n",
       "      <td>0.826481</td>\n",
       "    </tr>\n",
       "    <tr>\n",
       "      <th>Linear Regression digree 2</th>\n",
       "      <td>0.825207</td>\n",
       "    </tr>\n",
       "    <tr>\n",
       "      <th>Light GBM</th>\n",
       "      <td>0.823949</td>\n",
       "    </tr>\n",
       "    <tr>\n",
       "      <th>Random Forest Regressor</th>\n",
       "      <td>0.822285</td>\n",
       "    </tr>\n",
       "    <tr>\n",
       "      <th>Histogram Boosting</th>\n",
       "      <td>0.820606</td>\n",
       "    </tr>\n",
       "    <tr>\n",
       "      <th>Lasso digree 3</th>\n",
       "      <td>0.805434</td>\n",
       "    </tr>\n",
       "    <tr>\n",
       "      <th>Ridge Regression digree 3</th>\n",
       "      <td>0.805199</td>\n",
       "    </tr>\n",
       "    <tr>\n",
       "      <th>ExtraTreesRegressor</th>\n",
       "      <td>0.801130</td>\n",
       "    </tr>\n",
       "    <tr>\n",
       "      <th>BaggingRegressor</th>\n",
       "      <td>0.801081</td>\n",
       "    </tr>\n",
       "    <tr>\n",
       "      <th>AdaBoost Regressor</th>\n",
       "      <td>0.800281</td>\n",
       "    </tr>\n",
       "    <tr>\n",
       "      <th>Linear Regression digree 3</th>\n",
       "      <td>0.798178</td>\n",
       "    </tr>\n",
       "    <tr>\n",
       "      <th>PoissonRegressor</th>\n",
       "      <td>0.796952</td>\n",
       "    </tr>\n",
       "    <tr>\n",
       "      <th>KNN Regressor</th>\n",
       "      <td>0.756705</td>\n",
       "    </tr>\n",
       "    <tr>\n",
       "      <th>SGDRegressor</th>\n",
       "      <td>0.742644</td>\n",
       "    </tr>\n",
       "    <tr>\n",
       "      <th>Linear Regression</th>\n",
       "      <td>0.742528</td>\n",
       "    </tr>\n",
       "    <tr>\n",
       "      <th>BayesianRidge</th>\n",
       "      <td>0.742498</td>\n",
       "    </tr>\n",
       "    <tr>\n",
       "      <th>Lasso</th>\n",
       "      <td>0.742493</td>\n",
       "    </tr>\n",
       "    <tr>\n",
       "      <th>Ridge Regression</th>\n",
       "      <td>0.742490</td>\n",
       "    </tr>\n",
       "    <tr>\n",
       "      <th>RidgeCV</th>\n",
       "      <td>0.742490</td>\n",
       "    </tr>\n",
       "    <tr>\n",
       "      <th>OrthogonalMatchingPursuitCV</th>\n",
       "      <td>0.741647</td>\n",
       "    </tr>\n",
       "    <tr>\n",
       "      <th>PassiveAggressiveRegressor</th>\n",
       "      <td>0.707768</td>\n",
       "    </tr>\n",
       "    <tr>\n",
       "      <th>HuberRegressor</th>\n",
       "      <td>0.675583</td>\n",
       "    </tr>\n",
       "    <tr>\n",
       "      <th>Decision Tree Regressor</th>\n",
       "      <td>0.648348</td>\n",
       "    </tr>\n",
       "    <tr>\n",
       "      <th>RANSACRegressor</th>\n",
       "      <td>0.571011</td>\n",
       "    </tr>\n",
       "    <tr>\n",
       "      <th>TweedieRegressor</th>\n",
       "      <td>0.556561</td>\n",
       "    </tr>\n",
       "    <tr>\n",
       "      <th>ElasticNetCV</th>\n",
       "      <td>0.506240</td>\n",
       "    </tr>\n",
       "    <tr>\n",
       "      <th>Neural Network Regression</th>\n",
       "      <td>0.383256</td>\n",
       "    </tr>\n",
       "    <tr>\n",
       "      <th>NuSVR</th>\n",
       "      <td>-0.062766</td>\n",
       "    </tr>\n",
       "    <tr>\n",
       "      <th>Support Vector Machine</th>\n",
       "      <td>-0.090981</td>\n",
       "    </tr>\n",
       "  </tbody>\n",
       "</table>\n",
       "</div>"
      ],
      "text/plain": [
       "                             Accuracy\n",
       "TransformedTargetRegressor   0.849308\n",
       "Gradient Boosting Regressor  0.844642\n",
       "XGB Boosting                 0.844446\n",
       "Lasso digree 2               0.829492\n",
       "Ridge Regression digree 2    0.829448\n",
       "CAT Boosting                 0.826481\n",
       "Linear Regression digree 2   0.825207\n",
       "Light GBM                    0.823949\n",
       "Random Forest Regressor      0.822285\n",
       "Histogram Boosting           0.820606\n",
       "Lasso digree 3               0.805434\n",
       "Ridge Regression digree 3    0.805199\n",
       "ExtraTreesRegressor          0.801130\n",
       "BaggingRegressor             0.801081\n",
       "AdaBoost Regressor           0.800281\n",
       "Linear Regression digree 3   0.798178\n",
       "PoissonRegressor             0.796952\n",
       "KNN Regressor                0.756705\n",
       "SGDRegressor                 0.742644\n",
       "Linear Regression            0.742528\n",
       "BayesianRidge                0.742498\n",
       "Lasso                        0.742493\n",
       "Ridge Regression             0.742490\n",
       "RidgeCV                      0.742490\n",
       "OrthogonalMatchingPursuitCV  0.741647\n",
       "PassiveAggressiveRegressor   0.707768\n",
       "HuberRegressor               0.675583\n",
       "Decision Tree Regressor      0.648348\n",
       "RANSACRegressor              0.571011\n",
       "TweedieRegressor             0.556561\n",
       "ElasticNetCV                 0.506240\n",
       "Neural Network Regression    0.383256\n",
       "NuSVR                       -0.062766\n",
       "Support Vector Machine      -0.090981"
      ]
     },
     "execution_count": 247,
     "metadata": {},
     "output_type": "execute_result"
    }
   ],
   "source": [
    "score.sort_values(by='Accuracy',ascending=False)"
   ]
  },
  {
   "cell_type": "markdown",
   "id": "d9923d89",
   "metadata": {},
   "source": [
    "## Try ANN"
   ]
  },
  {
   "cell_type": "code",
   "execution_count": 248,
   "id": "dbc69f8b",
   "metadata": {},
   "outputs": [],
   "source": [
    "from tensorflow.keras import Sequential\n",
    "from tensorflow.keras.layers import Dense,Dropout\n",
    "from tensorflow.keras.callbacks import EarlyStopping"
   ]
  },
  {
   "cell_type": "code",
   "execution_count": 249,
   "id": "94764a4e",
   "metadata": {},
   "outputs": [],
   "source": [
    "model = Sequential()\n",
    "\n",
    "model.add(Dense(15,activation='relu'))\n",
    "\n",
    "model.add(Dense(14,activation='relu'))\n",
    "\n",
    "model.add(Dense(14,activation='relu'))\n",
    "\n",
    "model.add(Dense(14,activation='relu'))\n",
    "\n",
    "model.add(Dense(12,activation='relu'))\n",
    "\n",
    "model.add(Dense(10,activation='relu'))\n",
    "\n",
    "model.add(Dense(6,activation='relu'))\n",
    "\n",
    "model.add(Dense(1))\n",
    "\n",
    "model.compile(loss='mse',optimizer='adam',metrics=['mse'])"
   ]
  },
  {
   "cell_type": "code",
   "execution_count": 250,
   "id": "37238394",
   "metadata": {},
   "outputs": [
    {
     "name": "stdout",
     "output_type": "stream",
     "text": [
      "Epoch 1/100\n",
      "28/28 [==============================] - 1s 11ms/step - loss: 295390016.0000 - mse: 295390016.0000 - val_loss: 336669984.0000 - val_mse: 336669984.0000\n",
      "Epoch 2/100\n",
      "28/28 [==============================] - 0s 4ms/step - loss: 295373472.0000 - mse: 295373472.0000 - val_loss: 336630368.0000 - val_mse: 336630368.0000\n",
      "Epoch 3/100\n",
      "28/28 [==============================] - 0s 4ms/step - loss: 295267744.0000 - mse: 295267744.0000 - val_loss: 336360032.0000 - val_mse: 336360032.0000\n",
      "Epoch 4/100\n",
      "28/28 [==============================] - 0s 5ms/step - loss: 294566752.0000 - mse: 294566752.0000 - val_loss: 334661248.0000 - val_mse: 334661248.0000\n",
      "Epoch 5/100\n",
      "28/28 [==============================] - 0s 4ms/step - loss: 290585152.0000 - mse: 290585152.0000 - val_loss: 325680352.0000 - val_mse: 325680352.0000\n",
      "Epoch 6/100\n",
      "28/28 [==============================] - 0s 4ms/step - loss: 271758016.0000 - mse: 271758016.0000 - val_loss: 288306560.0000 - val_mse: 288306560.0000\n",
      "Epoch 7/100\n",
      "28/28 [==============================] - 0s 4ms/step - loss: 208560896.0000 - mse: 208560896.0000 - val_loss: 182682944.0000 - val_mse: 182682944.0000\n",
      "Epoch 8/100\n",
      "28/28 [==============================] - 0s 4ms/step - loss: 100290808.0000 - mse: 100290808.0000 - val_loss: 81051768.0000 - val_mse: 81051768.0000\n",
      "Epoch 9/100\n",
      "28/28 [==============================] - 0s 4ms/step - loss: 60847204.0000 - mse: 60847204.0000 - val_loss: 65224020.0000 - val_mse: 65224020.0000\n",
      "Epoch 10/100\n",
      "28/28 [==============================] - 0s 4ms/step - loss: 49774844.0000 - mse: 49774844.0000 - val_loss: 55801448.0000 - val_mse: 55801448.0000\n",
      "Epoch 11/100\n",
      "28/28 [==============================] - 0s 4ms/step - loss: 43610256.0000 - mse: 43610256.0000 - val_loss: 49480448.0000 - val_mse: 49480448.0000\n",
      "Epoch 12/100\n",
      "28/28 [==============================] - 0s 4ms/step - loss: 39483368.0000 - mse: 39483368.0000 - val_loss: 45638628.0000 - val_mse: 45638628.0000\n",
      "Epoch 13/100\n",
      "28/28 [==============================] - 0s 4ms/step - loss: 36586872.0000 - mse: 36586872.0000 - val_loss: 42555632.0000 - val_mse: 42555632.0000\n",
      "Epoch 14/100\n",
      "28/28 [==============================] - 0s 4ms/step - loss: 34606636.0000 - mse: 34606636.0000 - val_loss: 39910432.0000 - val_mse: 39910432.0000\n",
      "Epoch 15/100\n",
      "28/28 [==============================] - 0s 5ms/step - loss: 32849326.0000 - mse: 32849326.0000 - val_loss: 38507260.0000 - val_mse: 38507260.0000\n",
      "Epoch 16/100\n",
      "28/28 [==============================] - 0s 3ms/step - loss: 31635276.0000 - mse: 31635276.0000 - val_loss: 37326868.0000 - val_mse: 37326868.0000\n",
      "Epoch 17/100\n",
      "28/28 [==============================] - 0s 4ms/step - loss: 30847212.0000 - mse: 30847212.0000 - val_loss: 36099672.0000 - val_mse: 36099672.0000\n",
      "Epoch 18/100\n",
      "28/28 [==============================] - 0s 5ms/step - loss: 30319460.0000 - mse: 30319460.0000 - val_loss: 35468600.0000 - val_mse: 35468600.0000\n",
      "Epoch 19/100\n",
      "28/28 [==============================] - 0s 4ms/step - loss: 29806928.0000 - mse: 29806928.0000 - val_loss: 35241212.0000 - val_mse: 35241212.0000\n",
      "Epoch 20/100\n",
      "28/28 [==============================] - 0s 5ms/step - loss: 29831034.0000 - mse: 29831034.0000 - val_loss: 34501284.0000 - val_mse: 34501284.0000\n",
      "Epoch 21/100\n",
      "28/28 [==============================] - 0s 4ms/step - loss: 29201646.0000 - mse: 29201646.0000 - val_loss: 34424732.0000 - val_mse: 34424732.0000\n",
      "Epoch 22/100\n",
      "28/28 [==============================] - 0s 4ms/step - loss: 28993660.0000 - mse: 28993660.0000 - val_loss: 34063352.0000 - val_mse: 34063352.0000\n",
      "Epoch 23/100\n",
      "28/28 [==============================] - 0s 4ms/step - loss: 28867516.0000 - mse: 28867516.0000 - val_loss: 34006572.0000 - val_mse: 34006572.0000\n",
      "Epoch 24/100\n",
      "28/28 [==============================] - 0s 4ms/step - loss: 28611070.0000 - mse: 28611070.0000 - val_loss: 33575216.0000 - val_mse: 33575216.0000\n",
      "Epoch 25/100\n",
      "28/28 [==============================] - 0s 4ms/step - loss: 28515632.0000 - mse: 28515632.0000 - val_loss: 33445680.0000 - val_mse: 33445680.0000\n",
      "Epoch 26/100\n",
      "28/28 [==============================] - 0s 4ms/step - loss: 28631574.0000 - mse: 28631574.0000 - val_loss: 33270166.0000 - val_mse: 33270166.0000\n",
      "Epoch 27/100\n",
      "28/28 [==============================] - 0s 6ms/step - loss: 28275776.0000 - mse: 28275776.0000 - val_loss: 33333404.0000 - val_mse: 33333404.0000\n",
      "Epoch 28/100\n",
      "28/28 [==============================] - 0s 4ms/step - loss: 28114456.0000 - mse: 28114456.0000 - val_loss: 33224370.0000 - val_mse: 33224370.0000\n",
      "Epoch 29/100\n",
      "28/28 [==============================] - 0s 6ms/step - loss: 28149988.0000 - mse: 28149988.0000 - val_loss: 33233306.0000 - val_mse: 33233306.0000\n",
      "Epoch 30/100\n",
      "28/28 [==============================] - 0s 4ms/step - loss: 28076940.0000 - mse: 28076940.0000 - val_loss: 32776076.0000 - val_mse: 32776076.0000\n",
      "Epoch 31/100\n",
      "28/28 [==============================] - 0s 5ms/step - loss: 27793840.0000 - mse: 27793840.0000 - val_loss: 32647256.0000 - val_mse: 32647256.0000\n",
      "Epoch 32/100\n",
      "28/28 [==============================] - 0s 5ms/step - loss: 27758314.0000 - mse: 27758314.0000 - val_loss: 32656978.0000 - val_mse: 32656978.0000\n",
      "Epoch 33/100\n",
      "28/28 [==============================] - 0s 3ms/step - loss: 27590940.0000 - mse: 27590940.0000 - val_loss: 32483218.0000 - val_mse: 32483218.0000\n",
      "Epoch 34/100\n",
      "28/28 [==============================] - 0s 6ms/step - loss: 27377502.0000 - mse: 27377502.0000 - val_loss: 32349700.0000 - val_mse: 32349700.0000\n",
      "Epoch 35/100\n",
      "28/28 [==============================] - 0s 4ms/step - loss: 27241142.0000 - mse: 27241142.0000 - val_loss: 32121498.0000 - val_mse: 32121498.0000\n",
      "Epoch 36/100\n",
      "28/28 [==============================] - 0s 4ms/step - loss: 27150516.0000 - mse: 27150516.0000 - val_loss: 32015806.0000 - val_mse: 32015806.0000\n",
      "Epoch 37/100\n",
      "28/28 [==============================] - 0s 5ms/step - loss: 27007710.0000 - mse: 27007710.0000 - val_loss: 32020836.0000 - val_mse: 32020836.0000\n",
      "Epoch 38/100\n",
      "28/28 [==============================] - 0s 5ms/step - loss: 26877198.0000 - mse: 26877198.0000 - val_loss: 31836220.0000 - val_mse: 31836220.0000\n",
      "Epoch 39/100\n",
      "28/28 [==============================] - 0s 4ms/step - loss: 26774624.0000 - mse: 26774624.0000 - val_loss: 31795454.0000 - val_mse: 31795454.0000\n",
      "Epoch 40/100\n",
      "28/28 [==============================] - 0s 4ms/step - loss: 26740894.0000 - mse: 26740894.0000 - val_loss: 31608892.0000 - val_mse: 31608892.0000\n",
      "Epoch 41/100\n",
      "28/28 [==============================] - 0s 5ms/step - loss: 26666050.0000 - mse: 26666050.0000 - val_loss: 31702516.0000 - val_mse: 31702516.0000\n",
      "Epoch 42/100\n",
      "28/28 [==============================] - 0s 4ms/step - loss: 26472754.0000 - mse: 26472754.0000 - val_loss: 31380324.0000 - val_mse: 31380324.0000\n",
      "Epoch 43/100\n",
      "28/28 [==============================] - 0s 3ms/step - loss: 26460734.0000 - mse: 26460734.0000 - val_loss: 31315714.0000 - val_mse: 31315714.0000\n",
      "Epoch 44/100\n",
      "28/28 [==============================] - 0s 4ms/step - loss: 26293340.0000 - mse: 26293340.0000 - val_loss: 31081396.0000 - val_mse: 31081396.0000\n",
      "Epoch 45/100\n",
      "28/28 [==============================] - 0s 6ms/step - loss: 26224888.0000 - mse: 26224888.0000 - val_loss: 31027998.0000 - val_mse: 31027998.0000\n",
      "Epoch 46/100\n",
      "28/28 [==============================] - 0s 3ms/step - loss: 26070168.0000 - mse: 26070168.0000 - val_loss: 30922402.0000 - val_mse: 30922402.0000\n",
      "Epoch 47/100\n",
      "28/28 [==============================] - 0s 3ms/step - loss: 26042150.0000 - mse: 26042150.0000 - val_loss: 31026998.0000 - val_mse: 31026998.0000\n",
      "Epoch 48/100\n",
      "28/28 [==============================] - 0s 4ms/step - loss: 25931582.0000 - mse: 25931582.0000 - val_loss: 30664502.0000 - val_mse: 30664502.0000\n",
      "Epoch 49/100\n",
      "28/28 [==============================] - 0s 5ms/step - loss: 25889588.0000 - mse: 25889588.0000 - val_loss: 30666650.0000 - val_mse: 30666650.0000\n",
      "Epoch 50/100\n",
      "28/28 [==============================] - 0s 4ms/step - loss: 25639576.0000 - mse: 25639576.0000 - val_loss: 30451470.0000 - val_mse: 30451470.0000\n",
      "Epoch 51/100\n",
      "28/28 [==============================] - 0s 5ms/step - loss: 25547500.0000 - mse: 25547500.0000 - val_loss: 30317266.0000 - val_mse: 30317266.0000\n",
      "Epoch 52/100\n"
     ]
    },
    {
     "name": "stdout",
     "output_type": "stream",
     "text": [
      "28/28 [==============================] - 0s 4ms/step - loss: 25427110.0000 - mse: 25427110.0000 - val_loss: 30159118.0000 - val_mse: 30159118.0000\n",
      "Epoch 53/100\n",
      "28/28 [==============================] - 0s 6ms/step - loss: 25375072.0000 - mse: 25375072.0000 - val_loss: 30051640.0000 - val_mse: 30051640.0000\n",
      "Epoch 54/100\n",
      "28/28 [==============================] - 0s 4ms/step - loss: 25267996.0000 - mse: 25267996.0000 - val_loss: 29920312.0000 - val_mse: 29920312.0000\n",
      "Epoch 55/100\n",
      "28/28 [==============================] - 0s 6ms/step - loss: 25188576.0000 - mse: 25188576.0000 - val_loss: 29889130.0000 - val_mse: 29889130.0000\n",
      "Epoch 56/100\n",
      "28/28 [==============================] - 0s 5ms/step - loss: 25086728.0000 - mse: 25086728.0000 - val_loss: 29666706.0000 - val_mse: 29666706.0000\n",
      "Epoch 57/100\n",
      "28/28 [==============================] - 0s 5ms/step - loss: 25005386.0000 - mse: 25005386.0000 - val_loss: 29581056.0000 - val_mse: 29581056.0000\n",
      "Epoch 58/100\n",
      "28/28 [==============================] - 0s 6ms/step - loss: 25008536.0000 - mse: 25008536.0000 - val_loss: 29871752.0000 - val_mse: 29871752.0000\n",
      "Epoch 59/100\n",
      "28/28 [==============================] - 0s 4ms/step - loss: 24973972.0000 - mse: 24973972.0000 - val_loss: 29357550.0000 - val_mse: 29357550.0000\n",
      "Epoch 60/100\n",
      "28/28 [==============================] - 0s 7ms/step - loss: 24906908.0000 - mse: 24906908.0000 - val_loss: 29152414.0000 - val_mse: 29152414.0000\n",
      "Epoch 61/100\n",
      "28/28 [==============================] - 0s 5ms/step - loss: 24653294.0000 - mse: 24653294.0000 - val_loss: 29148772.0000 - val_mse: 29148772.0000\n",
      "Epoch 62/100\n",
      "28/28 [==============================] - 0s 3ms/step - loss: 24705636.0000 - mse: 24705636.0000 - val_loss: 29043664.0000 - val_mse: 29043664.0000\n",
      "Epoch 63/100\n",
      "28/28 [==============================] - 0s 3ms/step - loss: 24545404.0000 - mse: 24545404.0000 - val_loss: 28883278.0000 - val_mse: 28883278.0000\n",
      "Epoch 64/100\n",
      "28/28 [==============================] - 0s 4ms/step - loss: 24402688.0000 - mse: 24402688.0000 - val_loss: 28925284.0000 - val_mse: 28925284.0000\n",
      "Epoch 65/100\n",
      "28/28 [==============================] - 0s 4ms/step - loss: 24345054.0000 - mse: 24345054.0000 - val_loss: 28775334.0000 - val_mse: 28775334.0000\n",
      "Epoch 66/100\n",
      "28/28 [==============================] - 0s 3ms/step - loss: 24226142.0000 - mse: 24226142.0000 - val_loss: 28673232.0000 - val_mse: 28673232.0000\n",
      "Epoch 67/100\n",
      "28/28 [==============================] - 0s 3ms/step - loss: 24127528.0000 - mse: 24127528.0000 - val_loss: 28519192.0000 - val_mse: 28519192.0000\n",
      "Epoch 68/100\n",
      "28/28 [==============================] - 0s 4ms/step - loss: 24116876.0000 - mse: 24116876.0000 - val_loss: 28383214.0000 - val_mse: 28383214.0000\n",
      "Epoch 69/100\n",
      "28/28 [==============================] - 0s 4ms/step - loss: 23951886.0000 - mse: 23951886.0000 - val_loss: 28323606.0000 - val_mse: 28323606.0000\n",
      "Epoch 70/100\n",
      "28/28 [==============================] - 0s 5ms/step - loss: 23938400.0000 - mse: 23938400.0000 - val_loss: 28199398.0000 - val_mse: 28199398.0000\n",
      "Epoch 71/100\n",
      "28/28 [==============================] - 0s 4ms/step - loss: 23975262.0000 - mse: 23975262.0000 - val_loss: 28083598.0000 - val_mse: 28083598.0000\n",
      "Epoch 72/100\n",
      "28/28 [==============================] - 0s 5ms/step - loss: 23784664.0000 - mse: 23784664.0000 - val_loss: 27960690.0000 - val_mse: 27960690.0000\n",
      "Epoch 73/100\n",
      "28/28 [==============================] - 0s 4ms/step - loss: 23645342.0000 - mse: 23645342.0000 - val_loss: 27824338.0000 - val_mse: 27824338.0000\n",
      "Epoch 74/100\n",
      "28/28 [==============================] - 0s 4ms/step - loss: 23634572.0000 - mse: 23634572.0000 - val_loss: 27705032.0000 - val_mse: 27705032.0000\n",
      "Epoch 75/100\n",
      "28/28 [==============================] - 0s 3ms/step - loss: 23555822.0000 - mse: 23555822.0000 - val_loss: 27644734.0000 - val_mse: 27644734.0000\n",
      "Epoch 76/100\n",
      "28/28 [==============================] - 0s 3ms/step - loss: 23369110.0000 - mse: 23369110.0000 - val_loss: 27776434.0000 - val_mse: 27776434.0000\n",
      "Epoch 77/100\n",
      "28/28 [==============================] - 0s 5ms/step - loss: 23326528.0000 - mse: 23326528.0000 - val_loss: 27426742.0000 - val_mse: 27426742.0000\n",
      "Epoch 78/100\n",
      "28/28 [==============================] - 0s 4ms/step - loss: 23345210.0000 - mse: 23345210.0000 - val_loss: 27593806.0000 - val_mse: 27593806.0000\n",
      "Epoch 79/100\n",
      "28/28 [==============================] - 0s 4ms/step - loss: 23159524.0000 - mse: 23159524.0000 - val_loss: 27360870.0000 - val_mse: 27360870.0000\n",
      "Epoch 80/100\n",
      "28/28 [==============================] - 0s 4ms/step - loss: 23217786.0000 - mse: 23217786.0000 - val_loss: 27576292.0000 - val_mse: 27576292.0000\n",
      "Epoch 81/100\n",
      "28/28 [==============================] - 0s 5ms/step - loss: 23049852.0000 - mse: 23049852.0000 - val_loss: 27085854.0000 - val_mse: 27085854.0000\n",
      "Epoch 82/100\n",
      "28/28 [==============================] - 0s 3ms/step - loss: 23082126.0000 - mse: 23082126.0000 - val_loss: 27036560.0000 - val_mse: 27036560.0000\n",
      "Epoch 83/100\n",
      "28/28 [==============================] - 0s 4ms/step - loss: 22994272.0000 - mse: 22994272.0000 - val_loss: 27103402.0000 - val_mse: 27103402.0000\n",
      "Epoch 84/100\n",
      "28/28 [==============================] - 0s 4ms/step - loss: 22899270.0000 - mse: 22899270.0000 - val_loss: 26948048.0000 - val_mse: 26948048.0000\n",
      "Epoch 85/100\n",
      "28/28 [==============================] - 0s 4ms/step - loss: 22864696.0000 - mse: 22864696.0000 - val_loss: 26878146.0000 - val_mse: 26878146.0000\n",
      "Epoch 86/100\n",
      "28/28 [==============================] - 0s 5ms/step - loss: 22777562.0000 - mse: 22777562.0000 - val_loss: 26677742.0000 - val_mse: 26677742.0000\n",
      "Epoch 87/100\n",
      "28/28 [==============================] - 0s 5ms/step - loss: 22692514.0000 - mse: 22692514.0000 - val_loss: 26678532.0000 - val_mse: 26678532.0000\n",
      "Epoch 88/100\n",
      "28/28 [==============================] - 0s 5ms/step - loss: 22684934.0000 - mse: 22684934.0000 - val_loss: 26526772.0000 - val_mse: 26526772.0000\n",
      "Epoch 89/100\n",
      "28/28 [==============================] - 0s 4ms/step - loss: 22535994.0000 - mse: 22535994.0000 - val_loss: 26451428.0000 - val_mse: 26451428.0000\n",
      "Epoch 90/100\n",
      "28/28 [==============================] - 0s 4ms/step - loss: 22569434.0000 - mse: 22569434.0000 - val_loss: 26384714.0000 - val_mse: 26384714.0000\n",
      "Epoch 91/100\n",
      "28/28 [==============================] - 0s 5ms/step - loss: 22462748.0000 - mse: 22462748.0000 - val_loss: 26447100.0000 - val_mse: 26447100.0000\n",
      "Epoch 92/100\n",
      "28/28 [==============================] - 0s 4ms/step - loss: 22407038.0000 - mse: 22407038.0000 - val_loss: 26189718.0000 - val_mse: 26189718.0000\n",
      "Epoch 93/100\n",
      "28/28 [==============================] - 0s 7ms/step - loss: 22330784.0000 - mse: 22330784.0000 - val_loss: 26237978.0000 - val_mse: 26237978.0000\n",
      "Epoch 94/100\n",
      "28/28 [==============================] - 0s 5ms/step - loss: 22319072.0000 - mse: 22319072.0000 - val_loss: 26115428.0000 - val_mse: 26115428.0000\n",
      "Epoch 95/100\n",
      "28/28 [==============================] - 0s 6ms/step - loss: 22271476.0000 - mse: 22271476.0000 - val_loss: 26014492.0000 - val_mse: 26014492.0000\n",
      "Epoch 96/100\n",
      "28/28 [==============================] - 0s 4ms/step - loss: 22155598.0000 - mse: 22155598.0000 - val_loss: 26262242.0000 - val_mse: 26262242.0000\n",
      "Epoch 97/100\n",
      "28/28 [==============================] - 0s 4ms/step - loss: 22191802.0000 - mse: 22191802.0000 - val_loss: 25986550.0000 - val_mse: 25986550.0000\n",
      "Epoch 98/100\n",
      "28/28 [==============================] - 0s 4ms/step - loss: 22117148.0000 - mse: 22117148.0000 - val_loss: 25888896.0000 - val_mse: 25888896.0000\n",
      "Epoch 99/100\n",
      "28/28 [==============================] - 0s 4ms/step - loss: 22207576.0000 - mse: 22207576.0000 - val_loss: 25729740.0000 - val_mse: 25729740.0000\n",
      "Epoch 100/100\n",
      "28/28 [==============================] - 0s 5ms/step - loss: 21959598.0000 - mse: 21959598.0000 - val_loss: 25757502.0000 - val_mse: 25757502.0000\n"
     ]
    },
    {
     "data": {
      "text/plain": [
       "<keras.callbacks.History at 0x19ea51a5c70>"
      ]
     },
     "execution_count": 250,
     "metadata": {},
     "output_type": "execute_result"
    }
   ],
   "source": [
    "model.fit(x=X_train,\n",
    "    y=y_train,\n",
    "    batch_size=32,\n",
    "    epochs=100,\n",
    "    verbose=0,\n",
    "    validation_data=(X_test,y_test))"
   ]
  },
  {
   "cell_type": "code",
   "execution_count": 251,
   "id": "f8a8169c",
   "metadata": {},
   "outputs": [
    {
     "name": "stdout",
     "output_type": "stream",
     "text": [
      "14/14 [==============================] - 0s 3ms/step\n",
      "3078.5091036957824\n",
      "25757501.711697366\n",
      "0.8257056398016973\n"
     ]
    }
   ],
   "source": [
    "P35=model.predict(X_test)\n",
    "\n",
    "print(mean_absolute_error(y_test,P35))\n",
    "print(mean_squared_error(y_test,P35))\n",
    "print(r2_score(y_test,P35))"
   ]
  },
  {
   "cell_type": "markdown",
   "id": "1d45163d",
   "metadata": {},
   "source": [
    "### With Early Stopping"
   ]
  },
  {
   "cell_type": "code",
   "execution_count": 252,
   "id": "bb8bf1b0",
   "metadata": {},
   "outputs": [],
   "source": [
    "model1 = Sequential()\n",
    "\n",
    "model1.add(Dense(15,activation='relu'))\n",
    "\n",
    "model1.add(Dense(14,activation='relu'))\n",
    "\n",
    "model1.add(Dense(14,activation='relu'))\n",
    "\n",
    "model1.add(Dense(14,activation='relu'))\n",
    "\n",
    "model1.add(Dense(12,activation='relu'))\n",
    "\n",
    "model1.add(Dense(10,activation='relu'))\n",
    "\n",
    "model1.add(Dense(6,activation='relu'))\n",
    "\n",
    "model1.add(Dense(1))\n",
    "\n",
    "model1.compile(loss='mse',optimizer='adam',metrics=['mse'])"
   ]
  },
  {
   "cell_type": "code",
   "execution_count": 253,
   "id": "5a0fbf9f",
   "metadata": {},
   "outputs": [],
   "source": [
    "early= EarlyStopping(monitor='val_loss',\n",
    "    patience=25,\n",
    "    mode='min')"
   ]
  },
  {
   "cell_type": "code",
   "execution_count": 254,
   "id": "da210705",
   "metadata": {},
   "outputs": [
    {
     "name": "stdout",
     "output_type": "stream",
     "text": [
      "Epoch 1/600\n",
      "28/28 [==============================] - 1s 13ms/step - loss: 295390624.0000 - mse: 295390624.0000 - val_loss: 336671712.0000 - val_mse: 336671712.0000\n",
      "Epoch 2/600\n",
      "28/28 [==============================] - 0s 5ms/step - loss: 295380928.0000 - mse: 295380928.0000 - val_loss: 336652320.0000 - val_mse: 336652320.0000\n",
      "Epoch 3/600\n",
      "28/28 [==============================] - 0s 4ms/step - loss: 295338176.0000 - mse: 295338176.0000 - val_loss: 336545440.0000 - val_mse: 336545440.0000\n",
      "Epoch 4/600\n",
      "28/28 [==============================] - 0s 4ms/step - loss: 295018464.0000 - mse: 295018464.0000 - val_loss: 335728256.0000 - val_mse: 335728256.0000\n",
      "Epoch 5/600\n",
      "28/28 [==============================] - 0s 5ms/step - loss: 292862688.0000 - mse: 292862688.0000 - val_loss: 330520032.0000 - val_mse: 330520032.0000\n",
      "Epoch 6/600\n",
      "28/28 [==============================] - 0s 5ms/step - loss: 281365248.0000 - mse: 281365248.0000 - val_loss: 305249184.0000 - val_mse: 305249184.0000\n",
      "Epoch 7/600\n",
      "28/28 [==============================] - 0s 4ms/step - loss: 235128944.0000 - mse: 235128944.0000 - val_loss: 219131584.0000 - val_mse: 219131584.0000\n",
      "Epoch 8/600\n",
      "28/28 [==============================] - 0s 5ms/step - loss: 135785968.0000 - mse: 135785968.0000 - val_loss: 107633736.0000 - val_mse: 107633736.0000\n",
      "Epoch 9/600\n",
      "28/28 [==============================] - 0s 5ms/step - loss: 82837952.0000 - mse: 82837952.0000 - val_loss: 85107192.0000 - val_mse: 85107192.0000\n",
      "Epoch 10/600\n",
      "28/28 [==============================] - 0s 5ms/step - loss: 67057320.0000 - mse: 67057320.0000 - val_loss: 71616680.0000 - val_mse: 71616680.0000\n",
      "Epoch 11/600\n",
      "28/28 [==============================] - 0s 4ms/step - loss: 57055764.0000 - mse: 57055764.0000 - val_loss: 61695260.0000 - val_mse: 61695260.0000\n",
      "Epoch 12/600\n",
      "28/28 [==============================] - 0s 4ms/step - loss: 49947868.0000 - mse: 49947868.0000 - val_loss: 54519132.0000 - val_mse: 54519132.0000\n",
      "Epoch 13/600\n",
      "28/28 [==============================] - 0s 5ms/step - loss: 44528168.0000 - mse: 44528168.0000 - val_loss: 49223020.0000 - val_mse: 49223020.0000\n",
      "Epoch 14/600\n",
      "28/28 [==============================] - 0s 4ms/step - loss: 40374128.0000 - mse: 40374128.0000 - val_loss: 44712208.0000 - val_mse: 44712208.0000\n",
      "Epoch 15/600\n",
      "28/28 [==============================] - 0s 4ms/step - loss: 37160948.0000 - mse: 37160948.0000 - val_loss: 41428516.0000 - val_mse: 41428516.0000\n",
      "Epoch 16/600\n",
      "28/28 [==============================] - 0s 5ms/step - loss: 35088264.0000 - mse: 35088264.0000 - val_loss: 39791868.0000 - val_mse: 39791868.0000\n",
      "Epoch 17/600\n",
      "28/28 [==============================] - 0s 4ms/step - loss: 33242222.0000 - mse: 33242222.0000 - val_loss: 37644308.0000 - val_mse: 37644308.0000\n",
      "Epoch 18/600\n",
      "28/28 [==============================] - 0s 5ms/step - loss: 32236972.0000 - mse: 32236972.0000 - val_loss: 37028588.0000 - val_mse: 37028588.0000\n",
      "Epoch 19/600\n",
      "28/28 [==============================] - 0s 5ms/step - loss: 31474206.0000 - mse: 31474206.0000 - val_loss: 35679632.0000 - val_mse: 35679632.0000\n",
      "Epoch 20/600\n",
      "28/28 [==============================] - 0s 5ms/step - loss: 30593452.0000 - mse: 30593452.0000 - val_loss: 34971812.0000 - val_mse: 34971812.0000\n",
      "Epoch 21/600\n",
      "28/28 [==============================] - 0s 5ms/step - loss: 30079826.0000 - mse: 30079826.0000 - val_loss: 34563488.0000 - val_mse: 34563488.0000\n",
      "Epoch 22/600\n",
      "28/28 [==============================] - 0s 4ms/step - loss: 29667472.0000 - mse: 29667472.0000 - val_loss: 34081916.0000 - val_mse: 34081916.0000\n",
      "Epoch 23/600\n",
      "28/28 [==============================] - 0s 4ms/step - loss: 29417568.0000 - mse: 29417568.0000 - val_loss: 33793440.0000 - val_mse: 33793440.0000\n",
      "Epoch 24/600\n",
      "28/28 [==============================] - 0s 5ms/step - loss: 29167984.0000 - mse: 29167984.0000 - val_loss: 33601508.0000 - val_mse: 33601508.0000\n",
      "Epoch 25/600\n",
      "28/28 [==============================] - 0s 4ms/step - loss: 28966330.0000 - mse: 28966330.0000 - val_loss: 33225328.0000 - val_mse: 33225328.0000\n",
      "Epoch 26/600\n",
      "28/28 [==============================] - 0s 4ms/step - loss: 28732930.0000 - mse: 28732930.0000 - val_loss: 33126466.0000 - val_mse: 33126466.0000\n",
      "Epoch 27/600\n",
      "28/28 [==============================] - 0s 5ms/step - loss: 28513086.0000 - mse: 28513086.0000 - val_loss: 32801882.0000 - val_mse: 32801882.0000\n",
      "Epoch 28/600\n",
      "28/28 [==============================] - 0s 5ms/step - loss: 28325358.0000 - mse: 28325358.0000 - val_loss: 32639394.0000 - val_mse: 32639394.0000\n",
      "Epoch 29/600\n",
      "28/28 [==============================] - 0s 4ms/step - loss: 28191696.0000 - mse: 28191696.0000 - val_loss: 32947972.0000 - val_mse: 32947972.0000\n",
      "Epoch 30/600\n",
      "28/28 [==============================] - 0s 4ms/step - loss: 27790184.0000 - mse: 27790184.0000 - val_loss: 32339328.0000 - val_mse: 32339328.0000\n",
      "Epoch 31/600\n",
      "28/28 [==============================] - 0s 5ms/step - loss: 27505932.0000 - mse: 27505932.0000 - val_loss: 32110088.0000 - val_mse: 32110088.0000\n",
      "Epoch 32/600\n",
      "28/28 [==============================] - 0s 5ms/step - loss: 27372912.0000 - mse: 27372912.0000 - val_loss: 31882226.0000 - val_mse: 31882226.0000\n",
      "Epoch 33/600\n",
      "28/28 [==============================] - 0s 4ms/step - loss: 27116396.0000 - mse: 27116396.0000 - val_loss: 31932838.0000 - val_mse: 31932838.0000\n",
      "Epoch 34/600\n",
      "28/28 [==============================] - 0s 4ms/step - loss: 26998744.0000 - mse: 26998744.0000 - val_loss: 31579560.0000 - val_mse: 31579560.0000\n",
      "Epoch 35/600\n",
      "28/28 [==============================] - 0s 4ms/step - loss: 26619264.0000 - mse: 26619264.0000 - val_loss: 31605698.0000 - val_mse: 31605698.0000\n",
      "Epoch 36/600\n",
      "28/28 [==============================] - 0s 4ms/step - loss: 26539808.0000 - mse: 26539808.0000 - val_loss: 31147720.0000 - val_mse: 31147720.0000\n",
      "Epoch 37/600\n",
      "28/28 [==============================] - 0s 4ms/step - loss: 26218584.0000 - mse: 26218584.0000 - val_loss: 31074134.0000 - val_mse: 31074134.0000\n",
      "Epoch 38/600\n",
      "28/28 [==============================] - 0s 4ms/step - loss: 26073794.0000 - mse: 26073794.0000 - val_loss: 30713254.0000 - val_mse: 30713254.0000\n",
      "Epoch 39/600\n",
      "28/28 [==============================] - 0s 6ms/step - loss: 25843992.0000 - mse: 25843992.0000 - val_loss: 30699562.0000 - val_mse: 30699562.0000\n",
      "Epoch 40/600\n",
      "28/28 [==============================] - 0s 4ms/step - loss: 25649102.0000 - mse: 25649102.0000 - val_loss: 30306060.0000 - val_mse: 30306060.0000\n",
      "Epoch 41/600\n",
      "28/28 [==============================] - 0s 4ms/step - loss: 25379614.0000 - mse: 25379614.0000 - val_loss: 30235350.0000 - val_mse: 30235350.0000\n",
      "Epoch 42/600\n",
      "28/28 [==============================] - 0s 4ms/step - loss: 25189680.0000 - mse: 25189680.0000 - val_loss: 29965590.0000 - val_mse: 29965590.0000\n",
      "Epoch 43/600\n",
      "28/28 [==============================] - 0s 4ms/step - loss: 25033168.0000 - mse: 25033168.0000 - val_loss: 29999550.0000 - val_mse: 29999550.0000\n",
      "Epoch 44/600\n",
      "28/28 [==============================] - 0s 4ms/step - loss: 24810874.0000 - mse: 24810874.0000 - val_loss: 29462402.0000 - val_mse: 29462402.0000\n",
      "Epoch 45/600\n",
      "28/28 [==============================] - 0s 4ms/step - loss: 24643102.0000 - mse: 24643102.0000 - val_loss: 29493838.0000 - val_mse: 29493838.0000\n",
      "Epoch 46/600\n",
      "28/28 [==============================] - 0s 4ms/step - loss: 24491186.0000 - mse: 24491186.0000 - val_loss: 29135384.0000 - val_mse: 29135384.0000\n",
      "Epoch 47/600\n",
      "28/28 [==============================] - 0s 5ms/step - loss: 24355022.0000 - mse: 24355022.0000 - val_loss: 28889510.0000 - val_mse: 28889510.0000\n",
      "Epoch 48/600\n",
      "28/28 [==============================] - 0s 4ms/step - loss: 24050278.0000 - mse: 24050278.0000 - val_loss: 29143978.0000 - val_mse: 29143978.0000\n",
      "Epoch 49/600\n",
      "28/28 [==============================] - 0s 4ms/step - loss: 24160720.0000 - mse: 24160720.0000 - val_loss: 28637808.0000 - val_mse: 28637808.0000\n",
      "Epoch 50/600\n",
      "28/28 [==============================] - 0s 4ms/step - loss: 23881514.0000 - mse: 23881514.0000 - val_loss: 28448154.0000 - val_mse: 28448154.0000\n",
      "Epoch 51/600\n",
      "28/28 [==============================] - 0s 4ms/step - loss: 23562328.0000 - mse: 23562328.0000 - val_loss: 28177854.0000 - val_mse: 28177854.0000\n",
      "Epoch 52/600\n"
     ]
    },
    {
     "name": "stdout",
     "output_type": "stream",
     "text": [
      "28/28 [==============================] - 0s 4ms/step - loss: 23435822.0000 - mse: 23435822.0000 - val_loss: 27980456.0000 - val_mse: 27980456.0000\n",
      "Epoch 53/600\n",
      "28/28 [==============================] - 0s 4ms/step - loss: 23311194.0000 - mse: 23311194.0000 - val_loss: 27974090.0000 - val_mse: 27974090.0000\n",
      "Epoch 54/600\n",
      "28/28 [==============================] - 0s 4ms/step - loss: 23142354.0000 - mse: 23142354.0000 - val_loss: 27700270.0000 - val_mse: 27700270.0000\n",
      "Epoch 55/600\n",
      "28/28 [==============================] - 0s 4ms/step - loss: 22942976.0000 - mse: 22942976.0000 - val_loss: 27484562.0000 - val_mse: 27484562.0000\n",
      "Epoch 56/600\n",
      "28/28 [==============================] - 0s 4ms/step - loss: 22842196.0000 - mse: 22842196.0000 - val_loss: 27595324.0000 - val_mse: 27595324.0000\n",
      "Epoch 57/600\n",
      "28/28 [==============================] - 0s 4ms/step - loss: 22709746.0000 - mse: 22709746.0000 - val_loss: 27180444.0000 - val_mse: 27180444.0000\n",
      "Epoch 58/600\n",
      "28/28 [==============================] - 0s 4ms/step - loss: 22578840.0000 - mse: 22578840.0000 - val_loss: 27052404.0000 - val_mse: 27052404.0000\n",
      "Epoch 59/600\n",
      "28/28 [==============================] - 0s 4ms/step - loss: 22430158.0000 - mse: 22430158.0000 - val_loss: 26928756.0000 - val_mse: 26928756.0000\n",
      "Epoch 60/600\n",
      "28/28 [==============================] - 0s 4ms/step - loss: 22328900.0000 - mse: 22328900.0000 - val_loss: 26895976.0000 - val_mse: 26895976.0000\n",
      "Epoch 61/600\n",
      "28/28 [==============================] - 0s 4ms/step - loss: 22233048.0000 - mse: 22233048.0000 - val_loss: 26677902.0000 - val_mse: 26677902.0000\n",
      "Epoch 62/600\n",
      "28/28 [==============================] - 0s 4ms/step - loss: 22099336.0000 - mse: 22099336.0000 - val_loss: 26543714.0000 - val_mse: 26543714.0000\n",
      "Epoch 63/600\n",
      "28/28 [==============================] - 0s 4ms/step - loss: 22149146.0000 - mse: 22149146.0000 - val_loss: 26388224.0000 - val_mse: 26388224.0000\n",
      "Epoch 64/600\n",
      "28/28 [==============================] - 0s 4ms/step - loss: 21905102.0000 - mse: 21905102.0000 - val_loss: 26394802.0000 - val_mse: 26394802.0000\n",
      "Epoch 65/600\n",
      "28/28 [==============================] - 0s 4ms/step - loss: 21819280.0000 - mse: 21819280.0000 - val_loss: 26282372.0000 - val_mse: 26282372.0000\n",
      "Epoch 66/600\n",
      "28/28 [==============================] - 0s 4ms/step - loss: 21769112.0000 - mse: 21769112.0000 - val_loss: 26058222.0000 - val_mse: 26058222.0000\n",
      "Epoch 67/600\n",
      "28/28 [==============================] - 0s 4ms/step - loss: 21624892.0000 - mse: 21624892.0000 - val_loss: 25846972.0000 - val_mse: 25846972.0000\n",
      "Epoch 68/600\n",
      "28/28 [==============================] - 0s 4ms/step - loss: 21633428.0000 - mse: 21633428.0000 - val_loss: 25881648.0000 - val_mse: 25881648.0000\n",
      "Epoch 69/600\n",
      "28/28 [==============================] - 0s 5ms/step - loss: 21447154.0000 - mse: 21447154.0000 - val_loss: 25812670.0000 - val_mse: 25812670.0000\n",
      "Epoch 70/600\n",
      "28/28 [==============================] - 0s 6ms/step - loss: 21423474.0000 - mse: 21423474.0000 - val_loss: 25926340.0000 - val_mse: 25926340.0000\n",
      "Epoch 71/600\n",
      "28/28 [==============================] - 0s 5ms/step - loss: 21459092.0000 - mse: 21459092.0000 - val_loss: 25456190.0000 - val_mse: 25456190.0000\n",
      "Epoch 72/600\n",
      "28/28 [==============================] - 0s 4ms/step - loss: 21273260.0000 - mse: 21273260.0000 - val_loss: 25330072.0000 - val_mse: 25330072.0000\n",
      "Epoch 73/600\n",
      "28/28 [==============================] - 0s 4ms/step - loss: 21268012.0000 - mse: 21268012.0000 - val_loss: 25364280.0000 - val_mse: 25364280.0000\n",
      "Epoch 74/600\n",
      "28/28 [==============================] - 0s 4ms/step - loss: 21101994.0000 - mse: 21101994.0000 - val_loss: 25453666.0000 - val_mse: 25453666.0000\n",
      "Epoch 75/600\n",
      "28/28 [==============================] - 0s 4ms/step - loss: 21119866.0000 - mse: 21119866.0000 - val_loss: 25258902.0000 - val_mse: 25258902.0000\n",
      "Epoch 76/600\n",
      "28/28 [==============================] - 0s 4ms/step - loss: 20937568.0000 - mse: 20937568.0000 - val_loss: 25118642.0000 - val_mse: 25118642.0000\n",
      "Epoch 77/600\n",
      "28/28 [==============================] - 0s 5ms/step - loss: 20873094.0000 - mse: 20873094.0000 - val_loss: 25165710.0000 - val_mse: 25165710.0000\n",
      "Epoch 78/600\n",
      "28/28 [==============================] - 0s 4ms/step - loss: 20997918.0000 - mse: 20997918.0000 - val_loss: 25256112.0000 - val_mse: 25256112.0000\n",
      "Epoch 79/600\n",
      "28/28 [==============================] - 0s 5ms/step - loss: 20803572.0000 - mse: 20803572.0000 - val_loss: 24917196.0000 - val_mse: 24917196.0000\n",
      "Epoch 80/600\n",
      "28/28 [==============================] - 0s 5ms/step - loss: 20686944.0000 - mse: 20686944.0000 - val_loss: 24883072.0000 - val_mse: 24883072.0000\n",
      "Epoch 81/600\n",
      "28/28 [==============================] - 0s 4ms/step - loss: 20719966.0000 - mse: 20719966.0000 - val_loss: 24848490.0000 - val_mse: 24848490.0000\n",
      "Epoch 82/600\n",
      "28/28 [==============================] - 0s 4ms/step - loss: 20592070.0000 - mse: 20592070.0000 - val_loss: 24750812.0000 - val_mse: 24750812.0000\n",
      "Epoch 83/600\n",
      "28/28 [==============================] - 0s 4ms/step - loss: 20619078.0000 - mse: 20619078.0000 - val_loss: 24830094.0000 - val_mse: 24830094.0000\n",
      "Epoch 84/600\n",
      "28/28 [==============================] - 0s 4ms/step - loss: 20538796.0000 - mse: 20538796.0000 - val_loss: 24679232.0000 - val_mse: 24679232.0000\n",
      "Epoch 85/600\n",
      "28/28 [==============================] - 0s 4ms/step - loss: 20495088.0000 - mse: 20495088.0000 - val_loss: 24567166.0000 - val_mse: 24567166.0000\n",
      "Epoch 86/600\n",
      "28/28 [==============================] - 0s 5ms/step - loss: 20429870.0000 - mse: 20429870.0000 - val_loss: 24681738.0000 - val_mse: 24681738.0000\n",
      "Epoch 87/600\n",
      "28/28 [==============================] - 0s 6ms/step - loss: 20485884.0000 - mse: 20485884.0000 - val_loss: 24657486.0000 - val_mse: 24657486.0000\n",
      "Epoch 88/600\n",
      "28/28 [==============================] - 0s 5ms/step - loss: 20561688.0000 - mse: 20561688.0000 - val_loss: 24591850.0000 - val_mse: 24591850.0000\n",
      "Epoch 89/600\n",
      "28/28 [==============================] - 0s 4ms/step - loss: 20380688.0000 - mse: 20380688.0000 - val_loss: 24486690.0000 - val_mse: 24486690.0000\n",
      "Epoch 90/600\n",
      "28/28 [==============================] - 0s 5ms/step - loss: 20360448.0000 - mse: 20360448.0000 - val_loss: 24416162.0000 - val_mse: 24416162.0000\n",
      "Epoch 91/600\n",
      "28/28 [==============================] - 0s 4ms/step - loss: 20263428.0000 - mse: 20263428.0000 - val_loss: 24426300.0000 - val_mse: 24426300.0000\n",
      "Epoch 92/600\n",
      "28/28 [==============================] - 0s 4ms/step - loss: 20285004.0000 - mse: 20285004.0000 - val_loss: 24327934.0000 - val_mse: 24327934.0000\n",
      "Epoch 93/600\n",
      "28/28 [==============================] - 0s 4ms/step - loss: 20198814.0000 - mse: 20198814.0000 - val_loss: 24361770.0000 - val_mse: 24361770.0000\n",
      "Epoch 94/600\n",
      "28/28 [==============================] - 0s 4ms/step - loss: 20233278.0000 - mse: 20233278.0000 - val_loss: 24308556.0000 - val_mse: 24308556.0000\n",
      "Epoch 95/600\n",
      "28/28 [==============================] - 0s 4ms/step - loss: 20197744.0000 - mse: 20197744.0000 - val_loss: 24346504.0000 - val_mse: 24346504.0000\n",
      "Epoch 96/600\n",
      "28/28 [==============================] - 0s 4ms/step - loss: 20151214.0000 - mse: 20151214.0000 - val_loss: 24258622.0000 - val_mse: 24258622.0000\n",
      "Epoch 97/600\n",
      "28/28 [==============================] - 0s 4ms/step - loss: 20139578.0000 - mse: 20139578.0000 - val_loss: 24278494.0000 - val_mse: 24278494.0000\n",
      "Epoch 98/600\n",
      "28/28 [==============================] - 0s 4ms/step - loss: 20051742.0000 - mse: 20051742.0000 - val_loss: 24215708.0000 - val_mse: 24215708.0000\n",
      "Epoch 99/600\n",
      "28/28 [==============================] - 0s 4ms/step - loss: 20029714.0000 - mse: 20029714.0000 - val_loss: 24311236.0000 - val_mse: 24311236.0000\n",
      "Epoch 100/600\n",
      "28/28 [==============================] - 0s 4ms/step - loss: 20165406.0000 - mse: 20165406.0000 - val_loss: 24181144.0000 - val_mse: 24181144.0000\n",
      "Epoch 101/600\n",
      "28/28 [==============================] - 0s 6ms/step - loss: 20022984.0000 - mse: 20022984.0000 - val_loss: 24153652.0000 - val_mse: 24153652.0000\n",
      "Epoch 102/600\n",
      "28/28 [==============================] - 0s 4ms/step - loss: 20008956.0000 - mse: 20008956.0000 - val_loss: 24241010.0000 - val_mse: 24241010.0000\n",
      "Epoch 103/600\n"
     ]
    },
    {
     "name": "stdout",
     "output_type": "stream",
     "text": [
      "28/28 [==============================] - 0s 4ms/step - loss: 19987494.0000 - mse: 19987494.0000 - val_loss: 24066082.0000 - val_mse: 24066082.0000\n",
      "Epoch 104/600\n",
      "28/28 [==============================] - 0s 4ms/step - loss: 19935258.0000 - mse: 19935258.0000 - val_loss: 24222824.0000 - val_mse: 24222824.0000\n",
      "Epoch 105/600\n",
      "28/28 [==============================] - 0s 4ms/step - loss: 19902570.0000 - mse: 19902570.0000 - val_loss: 24013314.0000 - val_mse: 24013314.0000\n",
      "Epoch 106/600\n",
      "28/28 [==============================] - 0s 4ms/step - loss: 19890832.0000 - mse: 19890832.0000 - val_loss: 23999876.0000 - val_mse: 23999876.0000\n",
      "Epoch 107/600\n",
      "28/28 [==============================] - 0s 4ms/step - loss: 19859498.0000 - mse: 19859498.0000 - val_loss: 24071510.0000 - val_mse: 24071510.0000\n",
      "Epoch 108/600\n",
      "28/28 [==============================] - 0s 4ms/step - loss: 19871740.0000 - mse: 19871740.0000 - val_loss: 23992180.0000 - val_mse: 23992180.0000\n",
      "Epoch 109/600\n",
      "28/28 [==============================] - 0s 4ms/step - loss: 19853126.0000 - mse: 19853126.0000 - val_loss: 24049316.0000 - val_mse: 24049316.0000\n",
      "Epoch 110/600\n",
      "28/28 [==============================] - 0s 4ms/step - loss: 19934940.0000 - mse: 19934940.0000 - val_loss: 24022800.0000 - val_mse: 24022800.0000\n",
      "Epoch 111/600\n",
      "28/28 [==============================] - 0s 4ms/step - loss: 19875716.0000 - mse: 19875716.0000 - val_loss: 23945220.0000 - val_mse: 23945220.0000\n",
      "Epoch 112/600\n",
      "28/28 [==============================] - 0s 4ms/step - loss: 19843724.0000 - mse: 19843724.0000 - val_loss: 23908088.0000 - val_mse: 23908088.0000\n",
      "Epoch 113/600\n",
      "28/28 [==============================] - 0s 4ms/step - loss: 19860728.0000 - mse: 19860728.0000 - val_loss: 23868946.0000 - val_mse: 23868946.0000\n",
      "Epoch 114/600\n",
      "28/28 [==============================] - 0s 4ms/step - loss: 19852870.0000 - mse: 19852870.0000 - val_loss: 23878054.0000 - val_mse: 23878054.0000\n",
      "Epoch 115/600\n",
      "28/28 [==============================] - 0s 4ms/step - loss: 19784660.0000 - mse: 19784660.0000 - val_loss: 23833590.0000 - val_mse: 23833590.0000\n",
      "Epoch 116/600\n",
      "28/28 [==============================] - 0s 4ms/step - loss: 19774110.0000 - mse: 19774110.0000 - val_loss: 23802930.0000 - val_mse: 23802930.0000\n",
      "Epoch 117/600\n",
      "28/28 [==============================] - 0s 4ms/step - loss: 19690116.0000 - mse: 19690116.0000 - val_loss: 23956840.0000 - val_mse: 23956840.0000\n",
      "Epoch 118/600\n",
      "28/28 [==============================] - 0s 4ms/step - loss: 19727432.0000 - mse: 19727432.0000 - val_loss: 23936152.0000 - val_mse: 23936152.0000\n",
      "Epoch 119/600\n",
      "28/28 [==============================] - 0s 4ms/step - loss: 19821564.0000 - mse: 19821564.0000 - val_loss: 23907690.0000 - val_mse: 23907690.0000\n",
      "Epoch 120/600\n",
      "28/28 [==============================] - 0s 4ms/step - loss: 19777778.0000 - mse: 19777778.0000 - val_loss: 23794312.0000 - val_mse: 23794312.0000\n",
      "Epoch 121/600\n",
      "28/28 [==============================] - 0s 4ms/step - loss: 19685706.0000 - mse: 19685706.0000 - val_loss: 23886090.0000 - val_mse: 23886090.0000\n",
      "Epoch 122/600\n",
      "28/28 [==============================] - 0s 4ms/step - loss: 19673836.0000 - mse: 19673836.0000 - val_loss: 23751986.0000 - val_mse: 23751986.0000\n",
      "Epoch 123/600\n",
      "28/28 [==============================] - 0s 4ms/step - loss: 19679846.0000 - mse: 19679846.0000 - val_loss: 23704574.0000 - val_mse: 23704574.0000\n",
      "Epoch 124/600\n",
      "28/28 [==============================] - 0s 4ms/step - loss: 19644150.0000 - mse: 19644150.0000 - val_loss: 23653552.0000 - val_mse: 23653552.0000\n",
      "Epoch 125/600\n",
      "28/28 [==============================] - 0s 4ms/step - loss: 19622780.0000 - mse: 19622780.0000 - val_loss: 23601780.0000 - val_mse: 23601780.0000\n",
      "Epoch 126/600\n",
      "28/28 [==============================] - 0s 4ms/step - loss: 19728382.0000 - mse: 19728382.0000 - val_loss: 23809544.0000 - val_mse: 23809544.0000\n",
      "Epoch 127/600\n",
      "28/28 [==============================] - 0s 4ms/step - loss: 19628254.0000 - mse: 19628254.0000 - val_loss: 24010894.0000 - val_mse: 24010894.0000\n",
      "Epoch 128/600\n",
      "28/28 [==============================] - 0s 4ms/step - loss: 19543680.0000 - mse: 19543680.0000 - val_loss: 23902192.0000 - val_mse: 23902192.0000\n",
      "Epoch 129/600\n",
      "28/28 [==============================] - 0s 4ms/step - loss: 19683500.0000 - mse: 19683500.0000 - val_loss: 23789654.0000 - val_mse: 23789654.0000\n",
      "Epoch 130/600\n",
      "28/28 [==============================] - 0s 4ms/step - loss: 19628292.0000 - mse: 19628292.0000 - val_loss: 23613354.0000 - val_mse: 23613354.0000\n",
      "Epoch 131/600\n",
      "28/28 [==============================] - 0s 4ms/step - loss: 19550672.0000 - mse: 19550672.0000 - val_loss: 23559890.0000 - val_mse: 23559890.0000\n",
      "Epoch 132/600\n",
      "28/28 [==============================] - 0s 4ms/step - loss: 19488688.0000 - mse: 19488688.0000 - val_loss: 23661758.0000 - val_mse: 23661758.0000\n",
      "Epoch 133/600\n",
      "28/28 [==============================] - 0s 4ms/step - loss: 19634304.0000 - mse: 19634304.0000 - val_loss: 23522052.0000 - val_mse: 23522052.0000\n",
      "Epoch 134/600\n",
      "28/28 [==============================] - 0s 4ms/step - loss: 19718984.0000 - mse: 19718984.0000 - val_loss: 23809130.0000 - val_mse: 23809130.0000\n",
      "Epoch 135/600\n",
      "28/28 [==============================] - 0s 4ms/step - loss: 19586750.0000 - mse: 19586750.0000 - val_loss: 23564258.0000 - val_mse: 23564258.0000\n",
      "Epoch 136/600\n",
      "28/28 [==============================] - 0s 4ms/step - loss: 19499930.0000 - mse: 19499930.0000 - val_loss: 23484578.0000 - val_mse: 23484578.0000\n",
      "Epoch 137/600\n",
      "28/28 [==============================] - 0s 4ms/step - loss: 19444674.0000 - mse: 19444674.0000 - val_loss: 23547276.0000 - val_mse: 23547276.0000\n",
      "Epoch 138/600\n",
      "28/28 [==============================] - 0s 4ms/step - loss: 19449154.0000 - mse: 19449154.0000 - val_loss: 23485236.0000 - val_mse: 23485236.0000\n",
      "Epoch 139/600\n",
      "28/28 [==============================] - 0s 4ms/step - loss: 19435348.0000 - mse: 19435348.0000 - val_loss: 23548402.0000 - val_mse: 23548402.0000\n",
      "Epoch 140/600\n",
      "28/28 [==============================] - 0s 4ms/step - loss: 19453608.0000 - mse: 19453608.0000 - val_loss: 23454578.0000 - val_mse: 23454578.0000\n",
      "Epoch 141/600\n",
      "28/28 [==============================] - 0s 4ms/step - loss: 19487640.0000 - mse: 19487640.0000 - val_loss: 23491896.0000 - val_mse: 23491896.0000\n",
      "Epoch 142/600\n",
      "28/28 [==============================] - 0s 4ms/step - loss: 19386646.0000 - mse: 19386646.0000 - val_loss: 23390168.0000 - val_mse: 23390168.0000\n",
      "Epoch 143/600\n",
      "28/28 [==============================] - 0s 4ms/step - loss: 19491650.0000 - mse: 19491650.0000 - val_loss: 23571418.0000 - val_mse: 23571418.0000\n",
      "Epoch 144/600\n",
      "28/28 [==============================] - 0s 4ms/step - loss: 19478398.0000 - mse: 19478398.0000 - val_loss: 23422492.0000 - val_mse: 23422492.0000\n",
      "Epoch 145/600\n",
      "28/28 [==============================] - 0s 4ms/step - loss: 19443564.0000 - mse: 19443564.0000 - val_loss: 23400654.0000 - val_mse: 23400654.0000\n",
      "Epoch 146/600\n",
      "28/28 [==============================] - 0s 4ms/step - loss: 19386426.0000 - mse: 19386426.0000 - val_loss: 23483778.0000 - val_mse: 23483778.0000\n",
      "Epoch 147/600\n",
      "28/28 [==============================] - 0s 4ms/step - loss: 19326372.0000 - mse: 19326372.0000 - val_loss: 23634998.0000 - val_mse: 23634998.0000\n",
      "Epoch 148/600\n",
      "28/28 [==============================] - 0s 4ms/step - loss: 19415398.0000 - mse: 19415398.0000 - val_loss: 23491160.0000 - val_mse: 23491160.0000\n",
      "Epoch 149/600\n",
      "28/28 [==============================] - 0s 4ms/step - loss: 19423016.0000 - mse: 19423016.0000 - val_loss: 23370980.0000 - val_mse: 23370980.0000\n",
      "Epoch 150/600\n",
      "28/28 [==============================] - 0s 4ms/step - loss: 19366966.0000 - mse: 19366966.0000 - val_loss: 23400732.0000 - val_mse: 23400732.0000\n",
      "Epoch 151/600\n",
      "28/28 [==============================] - 0s 4ms/step - loss: 19341534.0000 - mse: 19341534.0000 - val_loss: 23322146.0000 - val_mse: 23322146.0000\n",
      "Epoch 152/600\n",
      "28/28 [==============================] - 0s 4ms/step - loss: 19357360.0000 - mse: 19357360.0000 - val_loss: 23382532.0000 - val_mse: 23382532.0000\n",
      "Epoch 153/600\n",
      "28/28 [==============================] - 0s 4ms/step - loss: 19348764.0000 - mse: 19348764.0000 - val_loss: 23283648.0000 - val_mse: 23283648.0000\n"
     ]
    },
    {
     "name": "stdout",
     "output_type": "stream",
     "text": [
      "Epoch 154/600\n",
      "28/28 [==============================] - 0s 4ms/step - loss: 19307936.0000 - mse: 19307936.0000 - val_loss: 23321860.0000 - val_mse: 23321860.0000\n",
      "Epoch 155/600\n",
      "28/28 [==============================] - 0s 4ms/step - loss: 19282550.0000 - mse: 19282550.0000 - val_loss: 23377776.0000 - val_mse: 23377776.0000\n",
      "Epoch 156/600\n",
      "28/28 [==============================] - 0s 4ms/step - loss: 19282804.0000 - mse: 19282804.0000 - val_loss: 23321142.0000 - val_mse: 23321142.0000\n",
      "Epoch 157/600\n",
      "28/28 [==============================] - 0s 4ms/step - loss: 19235228.0000 - mse: 19235228.0000 - val_loss: 23340572.0000 - val_mse: 23340572.0000\n",
      "Epoch 158/600\n",
      "28/28 [==============================] - 0s 4ms/step - loss: 19312100.0000 - mse: 19312100.0000 - val_loss: 23246862.0000 - val_mse: 23246862.0000\n",
      "Epoch 159/600\n",
      "28/28 [==============================] - 0s 4ms/step - loss: 19288178.0000 - mse: 19288178.0000 - val_loss: 23200726.0000 - val_mse: 23200726.0000\n",
      "Epoch 160/600\n",
      "28/28 [==============================] - 0s 4ms/step - loss: 19214672.0000 - mse: 19214672.0000 - val_loss: 23230898.0000 - val_mse: 23230898.0000\n",
      "Epoch 161/600\n",
      "28/28 [==============================] - 0s 4ms/step - loss: 19273824.0000 - mse: 19273824.0000 - val_loss: 23268900.0000 - val_mse: 23268900.0000\n",
      "Epoch 162/600\n",
      "28/28 [==============================] - 0s 4ms/step - loss: 19215862.0000 - mse: 19215862.0000 - val_loss: 23288092.0000 - val_mse: 23288092.0000\n",
      "Epoch 163/600\n",
      "28/28 [==============================] - 0s 4ms/step - loss: 19285828.0000 - mse: 19285828.0000 - val_loss: 23273838.0000 - val_mse: 23273838.0000\n",
      "Epoch 164/600\n",
      "28/28 [==============================] - 0s 4ms/step - loss: 19200394.0000 - mse: 19200394.0000 - val_loss: 23213658.0000 - val_mse: 23213658.0000\n",
      "Epoch 165/600\n",
      "28/28 [==============================] - 0s 4ms/step - loss: 19194376.0000 - mse: 19194376.0000 - val_loss: 23168118.0000 - val_mse: 23168118.0000\n",
      "Epoch 166/600\n",
      "28/28 [==============================] - 0s 4ms/step - loss: 19242656.0000 - mse: 19242656.0000 - val_loss: 23170662.0000 - val_mse: 23170662.0000\n",
      "Epoch 167/600\n",
      "28/28 [==============================] - 0s 4ms/step - loss: 19210452.0000 - mse: 19210452.0000 - val_loss: 23204044.0000 - val_mse: 23204044.0000\n",
      "Epoch 168/600\n",
      "28/28 [==============================] - 0s 5ms/step - loss: 19265726.0000 - mse: 19265726.0000 - val_loss: 23439166.0000 - val_mse: 23439166.0000\n",
      "Epoch 169/600\n",
      "28/28 [==============================] - 0s 4ms/step - loss: 19272728.0000 - mse: 19272728.0000 - val_loss: 23194984.0000 - val_mse: 23194984.0000\n",
      "Epoch 170/600\n",
      "28/28 [==============================] - 0s 5ms/step - loss: 19208796.0000 - mse: 19208796.0000 - val_loss: 23164860.0000 - val_mse: 23164860.0000\n",
      "Epoch 171/600\n",
      "28/28 [==============================] - 0s 5ms/step - loss: 19384942.0000 - mse: 19384942.0000 - val_loss: 23164584.0000 - val_mse: 23164584.0000\n",
      "Epoch 172/600\n",
      "28/28 [==============================] - 0s 4ms/step - loss: 19157894.0000 - mse: 19157894.0000 - val_loss: 23052686.0000 - val_mse: 23052686.0000\n",
      "Epoch 173/600\n",
      "28/28 [==============================] - 0s 4ms/step - loss: 19140806.0000 - mse: 19140806.0000 - val_loss: 23128414.0000 - val_mse: 23128414.0000\n",
      "Epoch 174/600\n",
      "28/28 [==============================] - 0s 6ms/step - loss: 19123232.0000 - mse: 19123232.0000 - val_loss: 23050690.0000 - val_mse: 23050690.0000\n",
      "Epoch 175/600\n",
      "28/28 [==============================] - 0s 4ms/step - loss: 19136280.0000 - mse: 19136280.0000 - val_loss: 23039080.0000 - val_mse: 23039080.0000\n",
      "Epoch 176/600\n",
      "28/28 [==============================] - 0s 4ms/step - loss: 19242596.0000 - mse: 19242596.0000 - val_loss: 23124726.0000 - val_mse: 23124726.0000\n",
      "Epoch 177/600\n",
      "28/28 [==============================] - 0s 4ms/step - loss: 19050618.0000 - mse: 19050618.0000 - val_loss: 23094326.0000 - val_mse: 23094326.0000\n",
      "Epoch 178/600\n",
      "28/28 [==============================] - 0s 4ms/step - loss: 19072142.0000 - mse: 19072142.0000 - val_loss: 23236616.0000 - val_mse: 23236616.0000\n",
      "Epoch 179/600\n",
      "28/28 [==============================] - 0s 4ms/step - loss: 19280480.0000 - mse: 19280480.0000 - val_loss: 23126450.0000 - val_mse: 23126450.0000\n",
      "Epoch 180/600\n",
      "28/28 [==============================] - 0s 4ms/step - loss: 19001604.0000 - mse: 19001604.0000 - val_loss: 23299148.0000 - val_mse: 23299148.0000\n",
      "Epoch 181/600\n",
      "28/28 [==============================] - 0s 4ms/step - loss: 19101162.0000 - mse: 19101162.0000 - val_loss: 23080184.0000 - val_mse: 23080184.0000\n",
      "Epoch 182/600\n",
      "28/28 [==============================] - 0s 4ms/step - loss: 19129010.0000 - mse: 19129010.0000 - val_loss: 22966648.0000 - val_mse: 22966648.0000\n",
      "Epoch 183/600\n",
      "28/28 [==============================] - 0s 4ms/step - loss: 19110880.0000 - mse: 19110880.0000 - val_loss: 23190784.0000 - val_mse: 23190784.0000\n",
      "Epoch 184/600\n",
      "28/28 [==============================] - 0s 4ms/step - loss: 19073882.0000 - mse: 19073882.0000 - val_loss: 22975502.0000 - val_mse: 22975502.0000\n",
      "Epoch 185/600\n",
      "28/28 [==============================] - 0s 4ms/step - loss: 19284888.0000 - mse: 19284888.0000 - val_loss: 22960718.0000 - val_mse: 22960718.0000\n",
      "Epoch 186/600\n",
      "28/28 [==============================] - 0s 4ms/step - loss: 19185170.0000 - mse: 19185170.0000 - val_loss: 23212322.0000 - val_mse: 23212322.0000\n",
      "Epoch 187/600\n",
      "28/28 [==============================] - 0s 4ms/step - loss: 19128454.0000 - mse: 19128454.0000 - val_loss: 22922404.0000 - val_mse: 22922404.0000\n",
      "Epoch 188/600\n",
      "28/28 [==============================] - 0s 4ms/step - loss: 19007084.0000 - mse: 19007084.0000 - val_loss: 23034038.0000 - val_mse: 23034038.0000\n",
      "Epoch 189/600\n",
      "28/28 [==============================] - 0s 4ms/step - loss: 19189284.0000 - mse: 19189284.0000 - val_loss: 22986384.0000 - val_mse: 22986384.0000\n",
      "Epoch 190/600\n",
      "28/28 [==============================] - 0s 4ms/step - loss: 18993860.0000 - mse: 18993860.0000 - val_loss: 23002522.0000 - val_mse: 23002522.0000\n",
      "Epoch 191/600\n",
      "28/28 [==============================] - 0s 4ms/step - loss: 19017682.0000 - mse: 19017682.0000 - val_loss: 23175838.0000 - val_mse: 23175838.0000\n",
      "Epoch 192/600\n",
      "28/28 [==============================] - 0s 4ms/step - loss: 19082884.0000 - mse: 19082884.0000 - val_loss: 22899676.0000 - val_mse: 22899676.0000\n",
      "Epoch 193/600\n",
      "28/28 [==============================] - 0s 4ms/step - loss: 19164220.0000 - mse: 19164220.0000 - val_loss: 23127402.0000 - val_mse: 23127402.0000\n",
      "Epoch 194/600\n",
      "28/28 [==============================] - 0s 4ms/step - loss: 19127882.0000 - mse: 19127882.0000 - val_loss: 22978774.0000 - val_mse: 22978774.0000\n",
      "Epoch 195/600\n",
      "28/28 [==============================] - 0s 4ms/step - loss: 19050654.0000 - mse: 19050654.0000 - val_loss: 22884278.0000 - val_mse: 22884278.0000\n",
      "Epoch 196/600\n",
      "28/28 [==============================] - 0s 4ms/step - loss: 19005466.0000 - mse: 19005466.0000 - val_loss: 22954202.0000 - val_mse: 22954202.0000\n",
      "Epoch 197/600\n",
      "28/28 [==============================] - 0s 4ms/step - loss: 18939258.0000 - mse: 18939258.0000 - val_loss: 23040948.0000 - val_mse: 23040948.0000\n",
      "Epoch 198/600\n",
      "28/28 [==============================] - 0s 4ms/step - loss: 19070316.0000 - mse: 19070316.0000 - val_loss: 22940254.0000 - val_mse: 22940254.0000\n",
      "Epoch 199/600\n",
      "28/28 [==============================] - 0s 4ms/step - loss: 18959808.0000 - mse: 18959808.0000 - val_loss: 22849024.0000 - val_mse: 22849024.0000\n",
      "Epoch 200/600\n",
      "28/28 [==============================] - 0s 4ms/step - loss: 19014212.0000 - mse: 19014212.0000 - val_loss: 22884786.0000 - val_mse: 22884786.0000\n",
      "Epoch 201/600\n",
      "28/28 [==============================] - 0s 4ms/step - loss: 19012542.0000 - mse: 19012542.0000 - val_loss: 22819282.0000 - val_mse: 22819282.0000\n",
      "Epoch 202/600\n",
      "28/28 [==============================] - 0s 4ms/step - loss: 18946236.0000 - mse: 18946236.0000 - val_loss: 22964808.0000 - val_mse: 22964808.0000\n",
      "Epoch 203/600\n",
      "28/28 [==============================] - 0s 4ms/step - loss: 19038328.0000 - mse: 19038328.0000 - val_loss: 22906344.0000 - val_mse: 22906344.0000\n",
      "Epoch 204/600\n",
      "28/28 [==============================] - 0s 4ms/step - loss: 18890798.0000 - mse: 18890798.0000 - val_loss: 22938052.0000 - val_mse: 22938052.0000\n"
     ]
    },
    {
     "name": "stdout",
     "output_type": "stream",
     "text": [
      "Epoch 205/600\n",
      "28/28 [==============================] - 0s 4ms/step - loss: 18906004.0000 - mse: 18906004.0000 - val_loss: 22775822.0000 - val_mse: 22775822.0000\n",
      "Epoch 206/600\n",
      "28/28 [==============================] - 0s 4ms/step - loss: 18963014.0000 - mse: 18963014.0000 - val_loss: 23220352.0000 - val_mse: 23220352.0000\n",
      "Epoch 207/600\n",
      "28/28 [==============================] - 0s 5ms/step - loss: 19154450.0000 - mse: 19154450.0000 - val_loss: 23101482.0000 - val_mse: 23101482.0000\n",
      "Epoch 208/600\n",
      "28/28 [==============================] - 0s 3ms/step - loss: 18917450.0000 - mse: 18917450.0000 - val_loss: 22933542.0000 - val_mse: 22933542.0000\n",
      "Epoch 209/600\n",
      "28/28 [==============================] - 0s 3ms/step - loss: 18865776.0000 - mse: 18865776.0000 - val_loss: 22771430.0000 - val_mse: 22771430.0000\n",
      "Epoch 210/600\n",
      "28/28 [==============================] - 0s 5ms/step - loss: 18946644.0000 - mse: 18946644.0000 - val_loss: 22869650.0000 - val_mse: 22869650.0000\n",
      "Epoch 211/600\n",
      "28/28 [==============================] - 0s 4ms/step - loss: 18857906.0000 - mse: 18857906.0000 - val_loss: 22830878.0000 - val_mse: 22830878.0000\n",
      "Epoch 212/600\n",
      "28/28 [==============================] - 0s 4ms/step - loss: 18957594.0000 - mse: 18957594.0000 - val_loss: 22798298.0000 - val_mse: 22798298.0000\n",
      "Epoch 213/600\n",
      "28/28 [==============================] - 0s 4ms/step - loss: 18967408.0000 - mse: 18967408.0000 - val_loss: 22868082.0000 - val_mse: 22868082.0000\n",
      "Epoch 214/600\n",
      "28/28 [==============================] - 0s 4ms/step - loss: 19094320.0000 - mse: 19094320.0000 - val_loss: 22739318.0000 - val_mse: 22739318.0000\n",
      "Epoch 215/600\n",
      "28/28 [==============================] - 0s 4ms/step - loss: 18829252.0000 - mse: 18829252.0000 - val_loss: 22782858.0000 - val_mse: 22782858.0000\n",
      "Epoch 216/600\n",
      "28/28 [==============================] - 0s 4ms/step - loss: 19058682.0000 - mse: 19058682.0000 - val_loss: 22859510.0000 - val_mse: 22859510.0000\n",
      "Epoch 217/600\n",
      "28/28 [==============================] - 0s 4ms/step - loss: 18857000.0000 - mse: 18857000.0000 - val_loss: 22783626.0000 - val_mse: 22783626.0000\n",
      "Epoch 218/600\n",
      "28/28 [==============================] - 0s 4ms/step - loss: 18847692.0000 - mse: 18847692.0000 - val_loss: 22829000.0000 - val_mse: 22829000.0000\n",
      "Epoch 219/600\n",
      "28/28 [==============================] - 0s 4ms/step - loss: 18911896.0000 - mse: 18911896.0000 - val_loss: 23080482.0000 - val_mse: 23080482.0000\n",
      "Epoch 220/600\n",
      "28/28 [==============================] - 0s 4ms/step - loss: 18837694.0000 - mse: 18837694.0000 - val_loss: 22726710.0000 - val_mse: 22726710.0000\n",
      "Epoch 221/600\n",
      "28/28 [==============================] - 0s 4ms/step - loss: 18876524.0000 - mse: 18876524.0000 - val_loss: 22845080.0000 - val_mse: 22845080.0000\n",
      "Epoch 222/600\n",
      "28/28 [==============================] - 0s 4ms/step - loss: 18786924.0000 - mse: 18786924.0000 - val_loss: 22748278.0000 - val_mse: 22748278.0000\n",
      "Epoch 223/600\n",
      "28/28 [==============================] - 0s 4ms/step - loss: 18839432.0000 - mse: 18839432.0000 - val_loss: 22902056.0000 - val_mse: 22902056.0000\n",
      "Epoch 224/600\n",
      "28/28 [==============================] - 0s 4ms/step - loss: 18755034.0000 - mse: 18755034.0000 - val_loss: 22759528.0000 - val_mse: 22759528.0000\n",
      "Epoch 225/600\n",
      "28/28 [==============================] - 0s 4ms/step - loss: 18824394.0000 - mse: 18824394.0000 - val_loss: 22834154.0000 - val_mse: 22834154.0000\n",
      "Epoch 226/600\n",
      "28/28 [==============================] - 0s 4ms/step - loss: 18764538.0000 - mse: 18764538.0000 - val_loss: 22797628.0000 - val_mse: 22797628.0000\n",
      "Epoch 227/600\n",
      "28/28 [==============================] - 0s 5ms/step - loss: 18753688.0000 - mse: 18753688.0000 - val_loss: 22823472.0000 - val_mse: 22823472.0000\n",
      "Epoch 228/600\n",
      "28/28 [==============================] - 0s 4ms/step - loss: 18843378.0000 - mse: 18843378.0000 - val_loss: 22765104.0000 - val_mse: 22765104.0000\n",
      "Epoch 229/600\n",
      "28/28 [==============================] - 0s 5ms/step - loss: 18756676.0000 - mse: 18756676.0000 - val_loss: 22866378.0000 - val_mse: 22866378.0000\n",
      "Epoch 230/600\n",
      "28/28 [==============================] - 0s 5ms/step - loss: 18797026.0000 - mse: 18797026.0000 - val_loss: 22763396.0000 - val_mse: 22763396.0000\n",
      "Epoch 231/600\n",
      "28/28 [==============================] - 0s 5ms/step - loss: 18741316.0000 - mse: 18741316.0000 - val_loss: 22710876.0000 - val_mse: 22710876.0000\n",
      "Epoch 232/600\n",
      "28/28 [==============================] - 0s 5ms/step - loss: 18905316.0000 - mse: 18905316.0000 - val_loss: 23494396.0000 - val_mse: 23494396.0000\n",
      "Epoch 233/600\n",
      "28/28 [==============================] - 0s 5ms/step - loss: 18917758.0000 - mse: 18917758.0000 - val_loss: 22749768.0000 - val_mse: 22749768.0000\n",
      "Epoch 234/600\n",
      "28/28 [==============================] - 0s 5ms/step - loss: 18731278.0000 - mse: 18731278.0000 - val_loss: 23247014.0000 - val_mse: 23247014.0000\n",
      "Epoch 235/600\n",
      "28/28 [==============================] - 0s 4ms/step - loss: 18874248.0000 - mse: 18874248.0000 - val_loss: 22841790.0000 - val_mse: 22841790.0000\n",
      "Epoch 236/600\n",
      "28/28 [==============================] - 0s 5ms/step - loss: 18708902.0000 - mse: 18708902.0000 - val_loss: 22719306.0000 - val_mse: 22719306.0000\n",
      "Epoch 237/600\n",
      "28/28 [==============================] - 0s 5ms/step - loss: 18710032.0000 - mse: 18710032.0000 - val_loss: 23177000.0000 - val_mse: 23177000.0000\n",
      "Epoch 238/600\n",
      "28/28 [==============================] - 0s 5ms/step - loss: 18740108.0000 - mse: 18740108.0000 - val_loss: 22745584.0000 - val_mse: 22745584.0000\n",
      "Epoch 239/600\n",
      "28/28 [==============================] - 0s 4ms/step - loss: 18777862.0000 - mse: 18777862.0000 - val_loss: 22733004.0000 - val_mse: 22733004.0000\n",
      "Epoch 240/600\n",
      "28/28 [==============================] - 0s 4ms/step - loss: 18745346.0000 - mse: 18745346.0000 - val_loss: 22887384.0000 - val_mse: 22887384.0000\n",
      "Epoch 241/600\n",
      "28/28 [==============================] - 0s 4ms/step - loss: 18657302.0000 - mse: 18657302.0000 - val_loss: 22759528.0000 - val_mse: 22759528.0000\n",
      "Epoch 242/600\n",
      "28/28 [==============================] - 0s 5ms/step - loss: 18689326.0000 - mse: 18689326.0000 - val_loss: 22706432.0000 - val_mse: 22706432.0000\n",
      "Epoch 243/600\n",
      "28/28 [==============================] - 0s 4ms/step - loss: 18634984.0000 - mse: 18634984.0000 - val_loss: 22733302.0000 - val_mse: 22733302.0000\n",
      "Epoch 244/600\n",
      "28/28 [==============================] - 0s 4ms/step - loss: 18651064.0000 - mse: 18651064.0000 - val_loss: 22650158.0000 - val_mse: 22650158.0000\n",
      "Epoch 245/600\n",
      "28/28 [==============================] - 0s 4ms/step - loss: 18674346.0000 - mse: 18674346.0000 - val_loss: 22883720.0000 - val_mse: 22883720.0000\n",
      "Epoch 246/600\n",
      "28/28 [==============================] - 0s 4ms/step - loss: 18904708.0000 - mse: 18904708.0000 - val_loss: 22763288.0000 - val_mse: 22763288.0000\n",
      "Epoch 247/600\n",
      "28/28 [==============================] - 0s 4ms/step - loss: 18725204.0000 - mse: 18725204.0000 - val_loss: 22661990.0000 - val_mse: 22661990.0000\n",
      "Epoch 248/600\n",
      "28/28 [==============================] - 0s 4ms/step - loss: 18710804.0000 - mse: 18710804.0000 - val_loss: 22767516.0000 - val_mse: 22767516.0000\n",
      "Epoch 249/600\n",
      "28/28 [==============================] - 0s 4ms/step - loss: 18666594.0000 - mse: 18666594.0000 - val_loss: 22727748.0000 - val_mse: 22727748.0000\n",
      "Epoch 250/600\n",
      "28/28 [==============================] - 0s 5ms/step - loss: 18612838.0000 - mse: 18612838.0000 - val_loss: 22687890.0000 - val_mse: 22687890.0000\n",
      "Epoch 251/600\n",
      "28/28 [==============================] - 0s 4ms/step - loss: 18672698.0000 - mse: 18672698.0000 - val_loss: 22759568.0000 - val_mse: 22759568.0000\n",
      "Epoch 252/600\n",
      "28/28 [==============================] - 0s 4ms/step - loss: 18561794.0000 - mse: 18561794.0000 - val_loss: 22763222.0000 - val_mse: 22763222.0000\n",
      "Epoch 253/600\n",
      "28/28 [==============================] - 0s 4ms/step - loss: 18759210.0000 - mse: 18759210.0000 - val_loss: 22764956.0000 - val_mse: 22764956.0000\n",
      "Epoch 254/600\n",
      "28/28 [==============================] - 0s 4ms/step - loss: 18643046.0000 - mse: 18643046.0000 - val_loss: 22834764.0000 - val_mse: 22834764.0000\n",
      "Epoch 255/600\n",
      "28/28 [==============================] - 0s 4ms/step - loss: 18718292.0000 - mse: 18718292.0000 - val_loss: 22752318.0000 - val_mse: 22752318.0000\n"
     ]
    },
    {
     "name": "stdout",
     "output_type": "stream",
     "text": [
      "Epoch 256/600\n",
      "28/28 [==============================] - 0s 4ms/step - loss: 18676884.0000 - mse: 18676884.0000 - val_loss: 22712078.0000 - val_mse: 22712078.0000\n",
      "Epoch 257/600\n",
      "28/28 [==============================] - 0s 4ms/step - loss: 18599766.0000 - mse: 18599766.0000 - val_loss: 22654120.0000 - val_mse: 22654120.0000\n",
      "Epoch 258/600\n",
      "28/28 [==============================] - 0s 4ms/step - loss: 18601662.0000 - mse: 18601662.0000 - val_loss: 22742716.0000 - val_mse: 22742716.0000\n",
      "Epoch 259/600\n",
      "28/28 [==============================] - 0s 4ms/step - loss: 18644930.0000 - mse: 18644930.0000 - val_loss: 22684732.0000 - val_mse: 22684732.0000\n",
      "Epoch 260/600\n",
      "28/28 [==============================] - 0s 4ms/step - loss: 18561772.0000 - mse: 18561772.0000 - val_loss: 22727842.0000 - val_mse: 22727842.0000\n",
      "Epoch 261/600\n",
      "28/28 [==============================] - 0s 4ms/step - loss: 18601756.0000 - mse: 18601756.0000 - val_loss: 22709566.0000 - val_mse: 22709566.0000\n",
      "Epoch 262/600\n",
      "28/28 [==============================] - 0s 4ms/step - loss: 18641376.0000 - mse: 18641376.0000 - val_loss: 22654550.0000 - val_mse: 22654550.0000\n",
      "Epoch 263/600\n",
      "28/28 [==============================] - 0s 4ms/step - loss: 18650634.0000 - mse: 18650634.0000 - val_loss: 22714072.0000 - val_mse: 22714072.0000\n",
      "Epoch 264/600\n",
      "28/28 [==============================] - 0s 4ms/step - loss: 18645258.0000 - mse: 18645258.0000 - val_loss: 22763170.0000 - val_mse: 22763170.0000\n",
      "Epoch 265/600\n",
      "28/28 [==============================] - 0s 4ms/step - loss: 18548062.0000 - mse: 18548062.0000 - val_loss: 22622916.0000 - val_mse: 22622916.0000\n",
      "Epoch 266/600\n",
      "28/28 [==============================] - 0s 4ms/step - loss: 18571762.0000 - mse: 18571762.0000 - val_loss: 22707946.0000 - val_mse: 22707946.0000\n",
      "Epoch 267/600\n",
      "28/28 [==============================] - 0s 4ms/step - loss: 18518040.0000 - mse: 18518040.0000 - val_loss: 22648330.0000 - val_mse: 22648330.0000\n",
      "Epoch 268/600\n",
      "28/28 [==============================] - 0s 4ms/step - loss: 18510548.0000 - mse: 18510548.0000 - val_loss: 22654642.0000 - val_mse: 22654642.0000\n",
      "Epoch 269/600\n",
      "28/28 [==============================] - 0s 4ms/step - loss: 18575310.0000 - mse: 18575310.0000 - val_loss: 22709002.0000 - val_mse: 22709002.0000\n",
      "Epoch 270/600\n",
      "28/28 [==============================] - 0s 4ms/step - loss: 18529154.0000 - mse: 18529154.0000 - val_loss: 22578906.0000 - val_mse: 22578906.0000\n",
      "Epoch 271/600\n",
      "28/28 [==============================] - 0s 4ms/step - loss: 18509126.0000 - mse: 18509126.0000 - val_loss: 22754002.0000 - val_mse: 22754002.0000\n",
      "Epoch 272/600\n",
      "28/28 [==============================] - 0s 4ms/step - loss: 18564790.0000 - mse: 18564790.0000 - val_loss: 22592984.0000 - val_mse: 22592984.0000\n",
      "Epoch 273/600\n",
      "28/28 [==============================] - 0s 4ms/step - loss: 18654740.0000 - mse: 18654740.0000 - val_loss: 22679368.0000 - val_mse: 22679368.0000\n",
      "Epoch 274/600\n",
      "28/28 [==============================] - 0s 4ms/step - loss: 18503550.0000 - mse: 18503550.0000 - val_loss: 22600662.0000 - val_mse: 22600662.0000\n",
      "Epoch 275/600\n",
      "28/28 [==============================] - 0s 4ms/step - loss: 18521568.0000 - mse: 18521568.0000 - val_loss: 23124182.0000 - val_mse: 23124182.0000\n",
      "Epoch 276/600\n",
      "28/28 [==============================] - 0s 4ms/step - loss: 18512532.0000 - mse: 18512532.0000 - val_loss: 22579990.0000 - val_mse: 22579990.0000\n",
      "Epoch 277/600\n",
      "28/28 [==============================] - 0s 4ms/step - loss: 18532208.0000 - mse: 18532208.0000 - val_loss: 22758404.0000 - val_mse: 22758404.0000\n",
      "Epoch 278/600\n",
      "28/28 [==============================] - 0s 4ms/step - loss: 18473268.0000 - mse: 18473268.0000 - val_loss: 22593126.0000 - val_mse: 22593126.0000\n",
      "Epoch 279/600\n",
      "28/28 [==============================] - 0s 4ms/step - loss: 18534530.0000 - mse: 18534530.0000 - val_loss: 22613010.0000 - val_mse: 22613010.0000\n",
      "Epoch 280/600\n",
      "28/28 [==============================] - 0s 4ms/step - loss: 18472692.0000 - mse: 18472692.0000 - val_loss: 22717764.0000 - val_mse: 22717764.0000\n",
      "Epoch 281/600\n",
      "28/28 [==============================] - 0s 4ms/step - loss: 18381846.0000 - mse: 18381846.0000 - val_loss: 22709752.0000 - val_mse: 22709752.0000\n",
      "Epoch 282/600\n",
      "28/28 [==============================] - 0s 4ms/step - loss: 18377150.0000 - mse: 18377150.0000 - val_loss: 23333684.0000 - val_mse: 23333684.0000\n",
      "Epoch 283/600\n",
      "28/28 [==============================] - 0s 4ms/step - loss: 18692588.0000 - mse: 18692588.0000 - val_loss: 22568678.0000 - val_mse: 22568678.0000\n",
      "Epoch 284/600\n",
      "28/28 [==============================] - 0s 4ms/step - loss: 18402196.0000 - mse: 18402196.0000 - val_loss: 22658616.0000 - val_mse: 22658616.0000\n",
      "Epoch 285/600\n",
      "28/28 [==============================] - 0s 4ms/step - loss: 18583738.0000 - mse: 18583738.0000 - val_loss: 22703000.0000 - val_mse: 22703000.0000\n",
      "Epoch 286/600\n",
      "28/28 [==============================] - 0s 4ms/step - loss: 18503628.0000 - mse: 18503628.0000 - val_loss: 22773078.0000 - val_mse: 22773078.0000\n",
      "Epoch 287/600\n",
      "28/28 [==============================] - 0s 4ms/step - loss: 18494650.0000 - mse: 18494650.0000 - val_loss: 22600498.0000 - val_mse: 22600498.0000\n",
      "Epoch 288/600\n",
      "28/28 [==============================] - 0s 4ms/step - loss: 18575560.0000 - mse: 18575560.0000 - val_loss: 23128320.0000 - val_mse: 23128320.0000\n",
      "Epoch 289/600\n",
      "28/28 [==============================] - 0s 4ms/step - loss: 18652114.0000 - mse: 18652114.0000 - val_loss: 22531382.0000 - val_mse: 22531382.0000\n",
      "Epoch 290/600\n",
      "28/28 [==============================] - 0s 4ms/step - loss: 18472564.0000 - mse: 18472564.0000 - val_loss: 22665400.0000 - val_mse: 22665400.0000\n",
      "Epoch 291/600\n",
      "28/28 [==============================] - 0s 4ms/step - loss: 18382968.0000 - mse: 18382968.0000 - val_loss: 22568244.0000 - val_mse: 22568244.0000\n",
      "Epoch 292/600\n",
      "28/28 [==============================] - 0s 4ms/step - loss: 18420650.0000 - mse: 18420650.0000 - val_loss: 22847868.0000 - val_mse: 22847868.0000\n",
      "Epoch 293/600\n",
      "28/28 [==============================] - 0s 4ms/step - loss: 18457368.0000 - mse: 18457368.0000 - val_loss: 22684624.0000 - val_mse: 22684624.0000\n",
      "Epoch 294/600\n",
      "28/28 [==============================] - 0s 4ms/step - loss: 18407720.0000 - mse: 18407720.0000 - val_loss: 22574540.0000 - val_mse: 22574540.0000\n",
      "Epoch 295/600\n",
      "28/28 [==============================] - 0s 4ms/step - loss: 18450964.0000 - mse: 18450964.0000 - val_loss: 22624214.0000 - val_mse: 22624214.0000\n",
      "Epoch 296/600\n",
      "28/28 [==============================] - 0s 4ms/step - loss: 18589738.0000 - mse: 18589738.0000 - val_loss: 22852874.0000 - val_mse: 22852874.0000\n",
      "Epoch 297/600\n",
      "28/28 [==============================] - 0s 4ms/step - loss: 18431860.0000 - mse: 18431860.0000 - val_loss: 22580840.0000 - val_mse: 22580840.0000\n",
      "Epoch 298/600\n",
      "28/28 [==============================] - 0s 4ms/step - loss: 18375156.0000 - mse: 18375156.0000 - val_loss: 22467886.0000 - val_mse: 22467886.0000\n",
      "Epoch 299/600\n",
      "28/28 [==============================] - 0s 4ms/step - loss: 18401996.0000 - mse: 18401996.0000 - val_loss: 22477044.0000 - val_mse: 22477044.0000\n",
      "Epoch 300/600\n",
      "28/28 [==============================] - 0s 4ms/step - loss: 18363000.0000 - mse: 18363000.0000 - val_loss: 22455204.0000 - val_mse: 22455204.0000\n",
      "Epoch 301/600\n",
      "28/28 [==============================] - 0s 6ms/step - loss: 18537682.0000 - mse: 18537682.0000 - val_loss: 22557528.0000 - val_mse: 22557528.0000\n",
      "Epoch 302/600\n",
      "28/28 [==============================] - 0s 4ms/step - loss: 18399410.0000 - mse: 18399410.0000 - val_loss: 22434786.0000 - val_mse: 22434786.0000\n",
      "Epoch 303/600\n",
      "28/28 [==============================] - 0s 4ms/step - loss: 18368712.0000 - mse: 18368712.0000 - val_loss: 22471848.0000 - val_mse: 22471848.0000\n",
      "Epoch 304/600\n",
      "28/28 [==============================] - 0s 4ms/step - loss: 18609188.0000 - mse: 18609188.0000 - val_loss: 22476988.0000 - val_mse: 22476988.0000\n",
      "Epoch 305/600\n",
      "28/28 [==============================] - 0s 4ms/step - loss: 18480830.0000 - mse: 18480830.0000 - val_loss: 22624240.0000 - val_mse: 22624240.0000\n",
      "Epoch 306/600\n",
      "28/28 [==============================] - 0s 4ms/step - loss: 18378086.0000 - mse: 18378086.0000 - val_loss: 22492668.0000 - val_mse: 22492668.0000\n"
     ]
    },
    {
     "name": "stdout",
     "output_type": "stream",
     "text": [
      "Epoch 307/600\n",
      "28/28 [==============================] - 0s 4ms/step - loss: 18396582.0000 - mse: 18396582.0000 - val_loss: 22520960.0000 - val_mse: 22520960.0000\n",
      "Epoch 308/600\n",
      "28/28 [==============================] - 0s 4ms/step - loss: 18407096.0000 - mse: 18407096.0000 - val_loss: 22413016.0000 - val_mse: 22413016.0000\n",
      "Epoch 309/600\n",
      "28/28 [==============================] - 0s 4ms/step - loss: 18376108.0000 - mse: 18376108.0000 - val_loss: 22535960.0000 - val_mse: 22535960.0000\n",
      "Epoch 310/600\n",
      "28/28 [==============================] - 0s 4ms/step - loss: 18291682.0000 - mse: 18291682.0000 - val_loss: 22445842.0000 - val_mse: 22445842.0000\n",
      "Epoch 311/600\n",
      "28/28 [==============================] - 0s 4ms/step - loss: 18346636.0000 - mse: 18346636.0000 - val_loss: 22500370.0000 - val_mse: 22500370.0000\n",
      "Epoch 312/600\n",
      "28/28 [==============================] - 0s 4ms/step - loss: 18338978.0000 - mse: 18338978.0000 - val_loss: 22434564.0000 - val_mse: 22434564.0000\n",
      "Epoch 313/600\n",
      "28/28 [==============================] - 0s 4ms/step - loss: 18398238.0000 - mse: 18398238.0000 - val_loss: 22485064.0000 - val_mse: 22485064.0000\n",
      "Epoch 314/600\n",
      "28/28 [==============================] - 0s 4ms/step - loss: 18331820.0000 - mse: 18331820.0000 - val_loss: 22426060.0000 - val_mse: 22426060.0000\n",
      "Epoch 315/600\n",
      "28/28 [==============================] - 0s 4ms/step - loss: 18379080.0000 - mse: 18379080.0000 - val_loss: 22439716.0000 - val_mse: 22439716.0000\n",
      "Epoch 316/600\n",
      "28/28 [==============================] - 0s 4ms/step - loss: 18330920.0000 - mse: 18330920.0000 - val_loss: 22510762.0000 - val_mse: 22510762.0000\n",
      "Epoch 317/600\n",
      "28/28 [==============================] - 0s 4ms/step - loss: 18310202.0000 - mse: 18310202.0000 - val_loss: 22361546.0000 - val_mse: 22361546.0000\n",
      "Epoch 318/600\n",
      "28/28 [==============================] - 0s 4ms/step - loss: 18343366.0000 - mse: 18343366.0000 - val_loss: 22443798.0000 - val_mse: 22443798.0000\n",
      "Epoch 319/600\n",
      "28/28 [==============================] - 0s 4ms/step - loss: 18273142.0000 - mse: 18273142.0000 - val_loss: 22743254.0000 - val_mse: 22743254.0000\n",
      "Epoch 320/600\n",
      "28/28 [==============================] - 0s 4ms/step - loss: 18246866.0000 - mse: 18246866.0000 - val_loss: 22372104.0000 - val_mse: 22372104.0000\n",
      "Epoch 321/600\n",
      "28/28 [==============================] - 0s 4ms/step - loss: 18318344.0000 - mse: 18318344.0000 - val_loss: 22424578.0000 - val_mse: 22424578.0000\n",
      "Epoch 322/600\n",
      "28/28 [==============================] - 0s 4ms/step - loss: 18310240.0000 - mse: 18310240.0000 - val_loss: 22482290.0000 - val_mse: 22482290.0000\n",
      "Epoch 323/600\n",
      "28/28 [==============================] - 0s 4ms/step - loss: 18378344.0000 - mse: 18378344.0000 - val_loss: 22441078.0000 - val_mse: 22441078.0000\n",
      "Epoch 324/600\n",
      "28/28 [==============================] - 0s 4ms/step - loss: 18210066.0000 - mse: 18210066.0000 - val_loss: 22424202.0000 - val_mse: 22424202.0000\n",
      "Epoch 325/600\n",
      "28/28 [==============================] - 0s 4ms/step - loss: 18355302.0000 - mse: 18355302.0000 - val_loss: 22543602.0000 - val_mse: 22543602.0000\n",
      "Epoch 326/600\n",
      "28/28 [==============================] - 0s 4ms/step - loss: 18218136.0000 - mse: 18218136.0000 - val_loss: 22479374.0000 - val_mse: 22479374.0000\n",
      "Epoch 327/600\n",
      "28/28 [==============================] - 0s 4ms/step - loss: 18365756.0000 - mse: 18365756.0000 - val_loss: 22537226.0000 - val_mse: 22537226.0000\n",
      "Epoch 328/600\n",
      "28/28 [==============================] - 0s 4ms/step - loss: 18294320.0000 - mse: 18294320.0000 - val_loss: 22338910.0000 - val_mse: 22338910.0000\n",
      "Epoch 329/600\n",
      "28/28 [==============================] - 0s 4ms/step - loss: 18285186.0000 - mse: 18285186.0000 - val_loss: 22385288.0000 - val_mse: 22385288.0000\n",
      "Epoch 330/600\n",
      "28/28 [==============================] - 0s 4ms/step - loss: 18287630.0000 - mse: 18287630.0000 - val_loss: 22351298.0000 - val_mse: 22351298.0000\n",
      "Epoch 331/600\n",
      "28/28 [==============================] - 0s 4ms/step - loss: 18279382.0000 - mse: 18279382.0000 - val_loss: 22410596.0000 - val_mse: 22410596.0000\n",
      "Epoch 332/600\n",
      "28/28 [==============================] - 0s 4ms/step - loss: 18269890.0000 - mse: 18269890.0000 - val_loss: 22425582.0000 - val_mse: 22425582.0000\n",
      "Epoch 333/600\n",
      "28/28 [==============================] - 0s 4ms/step - loss: 18307648.0000 - mse: 18307648.0000 - val_loss: 22370370.0000 - val_mse: 22370370.0000\n",
      "Epoch 334/600\n",
      "28/28 [==============================] - 0s 4ms/step - loss: 18195462.0000 - mse: 18195462.0000 - val_loss: 22448310.0000 - val_mse: 22448310.0000\n",
      "Epoch 335/600\n",
      "28/28 [==============================] - 0s 4ms/step - loss: 18225432.0000 - mse: 18225432.0000 - val_loss: 22309852.0000 - val_mse: 22309852.0000\n",
      "Epoch 336/600\n",
      "28/28 [==============================] - 0s 4ms/step - loss: 18295282.0000 - mse: 18295282.0000 - val_loss: 22611396.0000 - val_mse: 22611396.0000\n",
      "Epoch 337/600\n",
      "28/28 [==============================] - 0s 4ms/step - loss: 18317704.0000 - mse: 18317704.0000 - val_loss: 22607318.0000 - val_mse: 22607318.0000\n",
      "Epoch 338/600\n",
      "28/28 [==============================] - 0s 4ms/step - loss: 18284152.0000 - mse: 18284152.0000 - val_loss: 22505130.0000 - val_mse: 22505130.0000\n",
      "Epoch 339/600\n",
      "28/28 [==============================] - 0s 4ms/step - loss: 18386810.0000 - mse: 18386810.0000 - val_loss: 22598888.0000 - val_mse: 22598888.0000\n",
      "Epoch 340/600\n",
      "28/28 [==============================] - 0s 4ms/step - loss: 18257652.0000 - mse: 18257652.0000 - val_loss: 22480252.0000 - val_mse: 22480252.0000\n",
      "Epoch 341/600\n",
      "28/28 [==============================] - 0s 4ms/step - loss: 18210368.0000 - mse: 18210368.0000 - val_loss: 22347970.0000 - val_mse: 22347970.0000\n",
      "Epoch 342/600\n",
      "28/28 [==============================] - 0s 4ms/step - loss: 18206892.0000 - mse: 18206892.0000 - val_loss: 22392806.0000 - val_mse: 22392806.0000\n",
      "Epoch 343/600\n",
      "28/28 [==============================] - 0s 4ms/step - loss: 18295484.0000 - mse: 18295484.0000 - val_loss: 22404936.0000 - val_mse: 22404936.0000\n",
      "Epoch 344/600\n",
      "28/28 [==============================] - 0s 5ms/step - loss: 18127910.0000 - mse: 18127910.0000 - val_loss: 22426198.0000 - val_mse: 22426198.0000\n",
      "Epoch 345/600\n",
      "28/28 [==============================] - 0s 4ms/step - loss: 18205760.0000 - mse: 18205760.0000 - val_loss: 22408706.0000 - val_mse: 22408706.0000\n",
      "Epoch 346/600\n",
      "28/28 [==============================] - 0s 4ms/step - loss: 18154436.0000 - mse: 18154436.0000 - val_loss: 22359372.0000 - val_mse: 22359372.0000\n",
      "Epoch 347/600\n",
      "28/28 [==============================] - 0s 4ms/step - loss: 18161858.0000 - mse: 18161858.0000 - val_loss: 22364622.0000 - val_mse: 22364622.0000\n",
      "Epoch 348/600\n",
      "28/28 [==============================] - 0s 4ms/step - loss: 18159830.0000 - mse: 18159830.0000 - val_loss: 22418650.0000 - val_mse: 22418650.0000\n",
      "Epoch 349/600\n",
      "28/28 [==============================] - 0s 4ms/step - loss: 18316818.0000 - mse: 18316818.0000 - val_loss: 22482006.0000 - val_mse: 22482006.0000\n",
      "Epoch 350/600\n",
      "28/28 [==============================] - 0s 4ms/step - loss: 18197626.0000 - mse: 18197626.0000 - val_loss: 22371582.0000 - val_mse: 22371582.0000\n",
      "Epoch 351/600\n",
      "28/28 [==============================] - 0s 4ms/step - loss: 18147276.0000 - mse: 18147276.0000 - val_loss: 22380982.0000 - val_mse: 22380982.0000\n",
      "Epoch 352/600\n",
      "28/28 [==============================] - 0s 4ms/step - loss: 18150464.0000 - mse: 18150464.0000 - val_loss: 22426492.0000 - val_mse: 22426492.0000\n",
      "Epoch 353/600\n",
      "28/28 [==============================] - 0s 4ms/step - loss: 18158168.0000 - mse: 18158168.0000 - val_loss: 22578882.0000 - val_mse: 22578882.0000\n",
      "Epoch 354/600\n",
      "28/28 [==============================] - 0s 4ms/step - loss: 18205382.0000 - mse: 18205382.0000 - val_loss: 22328094.0000 - val_mse: 22328094.0000\n",
      "Epoch 355/600\n",
      "28/28 [==============================] - 0s 4ms/step - loss: 18162886.0000 - mse: 18162886.0000 - val_loss: 22432124.0000 - val_mse: 22432124.0000\n",
      "Epoch 356/600\n",
      "28/28 [==============================] - 0s 4ms/step - loss: 18155622.0000 - mse: 18155622.0000 - val_loss: 22456258.0000 - val_mse: 22456258.0000\n",
      "Epoch 357/600\n",
      "28/28 [==============================] - 0s 4ms/step - loss: 18225770.0000 - mse: 18225770.0000 - val_loss: 22441368.0000 - val_mse: 22441368.0000\n"
     ]
    },
    {
     "name": "stdout",
     "output_type": "stream",
     "text": [
      "Epoch 358/600\n",
      "28/28 [==============================] - 0s 4ms/step - loss: 18193606.0000 - mse: 18193606.0000 - val_loss: 22343638.0000 - val_mse: 22343638.0000\n",
      "Epoch 359/600\n",
      "28/28 [==============================] - 0s 4ms/step - loss: 18133072.0000 - mse: 18133072.0000 - val_loss: 22646832.0000 - val_mse: 22646832.0000\n",
      "Epoch 360/600\n",
      "28/28 [==============================] - 0s 4ms/step - loss: 18172076.0000 - mse: 18172076.0000 - val_loss: 22447518.0000 - val_mse: 22447518.0000\n"
     ]
    },
    {
     "data": {
      "text/plain": [
       "<keras.callbacks.History at 0x19ea943d700>"
      ]
     },
     "execution_count": 254,
     "metadata": {},
     "output_type": "execute_result"
    }
   ],
   "source": [
    "model1.fit(x=X_train,\n",
    "    y=y_train,\n",
    "    batch_size=32,\n",
    "    epochs=600,\n",
    "    verbose=0,\n",
    "    validation_data=(X_test,y_test),callbacks=[early])"
   ]
  },
  {
   "cell_type": "code",
   "execution_count": 255,
   "id": "a2badccb",
   "metadata": {},
   "outputs": [
    {
     "name": "stdout",
     "output_type": "stream",
     "text": [
      "14/14 [==============================] - 0s 2ms/step\n",
      "2701.9017642987196\n",
      "22447517.836728934\n",
      "0.8481034456219849\n"
     ]
    }
   ],
   "source": [
    "P36=model1.predict(X_test)\n",
    "\n",
    "print(mean_absolute_error(y_test,P36))\n",
    "print(mean_squared_error(y_test,P36))\n",
    "print(r2_score(y_test,P36))"
   ]
  },
  {
   "cell_type": "markdown",
   "id": "e7a862c8",
   "metadata": {},
   "source": [
    "## Feature Selection"
   ]
  },
  {
   "cell_type": "markdown",
   "id": "04c7bb31",
   "metadata": {},
   "source": [
    "### RVCE (Recursive feature elimination with cross validation)"
   ]
  },
  {
   "cell_type": "markdown",
   "id": "77321ad6",
   "metadata": {},
   "source": [
    "**http://scikit-learn.org/stable/modules/generated/sklearn.feature_selection.RFECV.html Now we will not only find best features but we also find how many features do we need for best accuracy.**"
   ]
  },
  {
   "cell_type": "code",
   "execution_count": 256,
   "id": "aa6eb673",
   "metadata": {},
   "outputs": [
    {
     "data": {
      "text/plain": [
       "(1309, 9)"
      ]
     },
     "execution_count": 256,
     "metadata": {},
     "output_type": "execute_result"
    }
   ],
   "source": [
    "X.shape"
   ]
  },
  {
   "cell_type": "code",
   "execution_count": 257,
   "id": "7a53d174",
   "metadata": {
    "scrolled": true
   },
   "outputs": [
    {
     "name": "stdout",
     "output_type": "stream",
     "text": [
      "Optimal number of features : 8\n",
      "Best features : Index(['age', 'sex', 'bmi', 'children', 'smoker', 'region_northeast',\n",
      "       'region_northwest', 'region_southwest'],\n",
      "      dtype='object')\n"
     ]
    }
   ],
   "source": [
    "from sklearn.feature_selection import SelectFromModel, RFECV\n",
    "model = GradientBoostingRegressor()\n",
    "\n",
    "M37 = RFECV(estimator=model, step=1, cv=kfold, scoring='r2', n_jobs=2)\n",
    "\n",
    "M37 = M37.fit(X_train, y_train)\n",
    "\n",
    "print('Optimal number of features :', M37.n_features_)\n",
    "\n",
    "print('Best features :', X.columns[M37.support_])"
   ]
  },
  {
   "cell_type": "code",
   "execution_count": 258,
   "id": "d4bd8066",
   "metadata": {
    "scrolled": true
   },
   "outputs": [
    {
     "data": {
      "image/png": "[encoded data removed]",
      "text/plain": [
       "<Figure size 720x360 with 1 Axes>"
      ]
     },
     "metadata": {},
     "output_type": "display_data"
    }
   ],
   "source": [
    "plt.figure(figsize=(10,5))\n",
    "plt.plot(range(1, len(M37.grid_scores_)+1), np.mean(M37.grid_scores_, axis=1), color='purple')\n",
    "plt.xlabel(\"No. of Features\")\n",
    "plt.ylabel(\"Accuracy\")\n",
    "plt.title(\"No. of Features vs Accuracy\")\n",
    "plt.show()"
   ]
  },
  {
   "cell_type": "code",
   "execution_count": 259,
   "id": "2921d15a",
   "metadata": {},
   "outputs": [
    {
     "name": "stdout",
     "output_type": "stream",
     "text": [
      "2377.6839577906803\n",
      "19556661.793321487\n",
      "0.8676651216785676\n"
     ]
    }
   ],
   "source": [
    "P37=M37.predict(X_test)\n",
    "\n",
    "print(mean_absolute_error(y_test,P37))\n",
    "print(mean_squared_error(y_test,P37))\n",
    "print(r2_score(y_test,P37))"
   ]
  },
  {
   "cell_type": "code",
   "execution_count": 260,
   "id": "c1b78757",
   "metadata": {
    "scrolled": false
   },
   "outputs": [
    {
     "data": {
      "image/png": "[encoded data removed]",
      "text/plain": [
       "<Figure size 432x288 with 1 Axes>"
      ]
     },
     "metadata": {},
     "output_type": "display_data"
    }
   ],
   "source": [
    "# # Plot number of features VS. cross-validation scores\n",
    "\n",
    "plt.figure()\n",
    "plt.xlabel(\"Number of features selected (RFE)\")\n",
    "plt.ylabel(\"Cross validation score (Accuracy)\")\n",
    "plt.plot(range(1, len(M37.grid_scores_) + 1), M37.grid_scores_)\n",
    "plt.legend(['Fold-1','Fold-2','Fold-3','Fold-4','Fold-5'])\n",
    "plt.show()"
   ]
  },
  {
   "cell_type": "code",
   "execution_count": 261,
   "id": "f9223025",
   "metadata": {},
   "outputs": [
    {
     "data": {
      "text/plain": [
       "Index(['age', 'sex', 'bmi', 'children', 'smoker', 'region_northeast',\n",
       "       'region_northwest', 'region_southwest'],\n",
       "      dtype='object')"
      ]
     },
     "execution_count": 261,
     "metadata": {},
     "output_type": "execute_result"
    }
   ],
   "source": [
    "best_feature_rvce=X.columns[M37.support_]\n",
    "best_feature_rvce"
   ]
  },
  {
   "cell_type": "markdown",
   "id": "8be01859",
   "metadata": {},
   "source": [
    "### RFE (Recursive feature elimination )"
   ]
  },
  {
   "cell_type": "markdown",
   "id": "e6640d1e",
   "metadata": {},
   "source": [
    "**http://scikit-learn.org/stable/modules/generated/sklearn.feature_selection.RFE.html Basically, it uses one of the classification methods , assign weights to each of features. Whose absolute weights are the smallest are pruned from the current set features. That procedure is recursively repeated on the pruned set until the desired number of features**"
   ]
  },
  {
   "cell_type": "code",
   "execution_count": 262,
   "id": "0d2a3c41",
   "metadata": {},
   "outputs": [],
   "source": [
    "from sklearn.feature_selection import RFE "
   ]
  },
  {
   "cell_type": "code",
   "execution_count": 263,
   "id": "82dfa0ac",
   "metadata": {},
   "outputs": [
    {
     "name": "stdout",
     "output_type": "stream",
     "text": [
      "No of Features:2\n",
      "4399.131921892443\n",
      "35451952.51788241\n",
      "0.7601057955446515\n",
      "\n",
      "\n",
      "No of Features:3\n",
      "2489.3653516153495\n",
      "20482451.485394493\n",
      "0.8614005419897397\n",
      "\n",
      "\n",
      "No of Features:4\n",
      "2370.525344935432\n",
      "19719475.824025612\n",
      "0.8665634011922211\n",
      "\n",
      "\n",
      "No of Features:5\n",
      "2367.981464589844\n",
      "19578406.23994028\n",
      "0.8675179826254984\n",
      "\n",
      "\n",
      "No of Features:6\n",
      "2359.935804037654\n",
      "19498798.965907868\n",
      "0.8680566644840851\n",
      "\n",
      "\n",
      "No of Features:7\n",
      "2339.107404286628\n",
      "19564547.278320022\n",
      "0.8676117626386244\n",
      "\n",
      "\n",
      "No of Features:8\n",
      "2377.68395779068\n",
      "19556661.793321487\n",
      "0.8676651216785676\n",
      "\n",
      "\n",
      "No of Features:9\n",
      "2362.266263764687\n",
      "19530549.41258231\n",
      "0.8678418174134697\n",
      "\n",
      "\n"
     ]
    }
   ],
   "source": [
    "for i in range (2,len(X.columns)+1):\n",
    "    M38 = RFE(estimator=GradientBoostingRegressor(), n_features_to_select=i, step=1)\n",
    "    M38 = M38.fit(X_train, y_train)\n",
    "    P38=M38.predict(X_test)\n",
    "    print(f'No of Features:{i}')\n",
    "    print(mean_absolute_error(y_test,P38))\n",
    "    print(mean_squared_error(y_test,P38))\n",
    "    print(r2_score(y_test,P38))\n",
    "    print('\\n')"
   ]
  },
  {
   "cell_type": "code",
   "execution_count": 264,
   "id": "48f8a32d",
   "metadata": {
    "scrolled": true
   },
   "outputs": [
    {
     "name": "stdout",
     "output_type": "stream",
     "text": [
      "No of Features:4\n",
      "2364.7959057869407\n",
      "19658431.30014438\n",
      "0.8669764737158135\n",
      "Chosen best 4 feature by rfe: Index(['age', 'bmi', 'children', 'smoker'], dtype='object')\n"
     ]
    }
   ],
   "source": [
    "M38 = RFE(estimator=GradientBoostingRegressor(), n_features_to_select=4, step=1)\n",
    "M38 = M38.fit(X_train, y_train)\n",
    "P38 = M38.predict(X_test)\n",
    "print(f'No of Features:{4}')\n",
    "print(mean_absolute_error(y_test,P38))\n",
    "print(mean_squared_error(y_test,P38))\n",
    "print(r2_score(y_test,P38))\n",
    "print('Chosen best 4 feature by rfe:',X.columns[M38.support_])"
   ]
  },
  {
   "cell_type": "code",
   "execution_count": 265,
   "id": "73d31518",
   "metadata": {},
   "outputs": [
    {
     "data": {
      "text/plain": [
       "Index(['age', 'bmi', 'children', 'smoker'], dtype='object')"
      ]
     },
     "execution_count": 265,
     "metadata": {},
     "output_type": "execute_result"
    }
   ],
   "source": [
    "best_feature_rfe=X.columns[M38.support_]\n",
    "best_feature_rfe"
   ]
  },
  {
   "cell_type": "markdown",
   "id": "4c39fd59",
   "metadata": {},
   "source": [
    "### Feature by BOOSTING Technique"
   ]
  },
  {
   "cell_type": "markdown",
   "id": "bdc8d6ac",
   "metadata": {},
   "source": [
    "**http://scikit-learn.org/stable/modules/generated/sklearn.ensemble.RandomForestClassifier.html In BOOSTING method there is a featureimportances attributes that is the feature importances (the higher, the more important the feature). !!! To use feature_importance method, in training data there should not be correlated features.**"
   ]
  },
  {
   "cell_type": "code",
   "execution_count": 266,
   "id": "7c24e68b",
   "metadata": {},
   "outputs": [
    {
     "data": {
      "text/html": [
       "<div>\n",
       "<style scoped>\n",
       "    .dataframe tbody tr th:only-of-type {\n",
       "        vertical-align: middle;\n",
       "    }\n",
       "\n",
       "    .dataframe tbody tr th {\n",
       "        vertical-align: top;\n",
       "    }\n",
       "\n",
       "    .dataframe thead th {\n",
       "        text-align: right;\n",
       "    }\n",
       "</style>\n",
       "<table border=\"1\" class=\"dataframe\">\n",
       "  <thead>\n",
       "    <tr style=\"text-align: right;\">\n",
       "      <th></th>\n",
       "      <th>0</th>\n",
       "    </tr>\n",
       "  </thead>\n",
       "  <tbody>\n",
       "    <tr>\n",
       "      <th>smoker</th>\n",
       "      <td>0.662555</td>\n",
       "    </tr>\n",
       "    <tr>\n",
       "      <th>bmi</th>\n",
       "      <td>0.188103</td>\n",
       "    </tr>\n",
       "    <tr>\n",
       "      <th>age</th>\n",
       "      <td>0.131834</td>\n",
       "    </tr>\n",
       "    <tr>\n",
       "      <th>children</th>\n",
       "      <td>0.010270</td>\n",
       "    </tr>\n",
       "    <tr>\n",
       "      <th>sex</th>\n",
       "      <td>0.001652</td>\n",
       "    </tr>\n",
       "  </tbody>\n",
       "</table>\n",
       "</div>"
      ],
      "text/plain": [
       "                 0\n",
       "smoker    0.662555\n",
       "bmi       0.188103\n",
       "age       0.131834\n",
       "children  0.010270\n",
       "sex       0.001652"
      ]
     },
     "execution_count": 266,
     "metadata": {},
     "output_type": "execute_result"
    }
   ],
   "source": [
    "feature_imp = pd.DataFrame(M14.feature_importances_ ,index=X.columns[0:40])[:5]\n",
    "feature_imp.sort_values(by=0,ascending=False)"
   ]
  },
  {
   "cell_type": "code",
   "execution_count": 267,
   "id": "999db101",
   "metadata": {},
   "outputs": [
    {
     "data": {
      "text/plain": [
       "<AxesSubplot:>"
      ]
     },
     "execution_count": 267,
     "metadata": {},
     "output_type": "execute_result"
    },
    {
     "data": {
      "image/png": "[encoded data removed]",
      "text/plain": [
       "<Figure size 432x288 with 1 Axes>"
      ]
     },
     "metadata": {},
     "output_type": "display_data"
    }
   ],
   "source": [
    "feature_imp.sort_values(by=0,ascending=True).plot(kind='barh')"
   ]
  },
  {
   "cell_type": "markdown",
   "id": "a8aa0f02",
   "metadata": {},
   "source": [
    "###  Univariate feature selection "
   ]
  },
  {
   "cell_type": "markdown",
   "id": "aace5f08",
   "metadata": {},
   "source": [
    "**In univariate feature selection, we will use SelectKBest that removes all but the k highest scoring features. http://scikit-learn.org/stable/modules/generated/sklearn.feature_selection.SelectKBest.html#sklearn.feature_selection.SelectKBest**"
   ]
  },
  {
   "cell_type": "code",
   "execution_count": 268,
   "id": "bab1a729",
   "metadata": {},
   "outputs": [],
   "source": [
    "from sklearn.feature_selection import SelectKBest\n",
    "from sklearn.feature_selection import chi2"
   ]
  },
  {
   "cell_type": "code",
   "execution_count": 270,
   "id": "607ade57",
   "metadata": {},
   "outputs": [],
   "source": [
    "# for i in range (2,len(X.columns)+1):\n",
    "#     select_feature = SelectKBest(chi2, k=i).fit(X_train, y_train)\n",
    "#     X_train_2 = select_feature.transform(X_train)\n",
    "#     X_test_2 = select_feature.transform(X_test)\n",
    "#     M39 =GradientBoostingRegressor()\n",
    "#     M39,fit(X_train_2,y_train)\n",
    "#     P39=M39.predict(X_test_2)\n",
    "#     print(f'No of Features:{i}')\n",
    "#     print(mean_absolute_error(y_test,P39))\n",
    "#     print(mean_squared_error(y_test,P39))\n",
    "#     print(r2_score(y_test,P39))\n",
    "#     print('\\n')"
   ]
  },
  {
   "cell_type": "code",
   "execution_count": 272,
   "id": "8abe4758",
   "metadata": {},
   "outputs": [],
   "source": [
    "# print('Score list:', select_feature.scores_)\n",
    "# print('Feature list:', X.columns)"
   ]
  },
  {
   "cell_type": "markdown",
   "id": "dc85f9ba",
   "metadata": {},
   "source": [
    "### Feature Extraction with PCA"
   ]
  },
  {
   "cell_type": "code",
   "execution_count": 273,
   "id": "606e6472",
   "metadata": {},
   "outputs": [
    {
     "data": {
      "text/plain": [
       "Text(0.5, 1.0, 'Scree Plot')"
      ]
     },
     "execution_count": 273,
     "metadata": {},
     "output_type": "execute_result"
    },
    {
     "data": {
      "image/png": "[encoded data removed]",
      "text/plain": [
       "<Figure size 1008x936 with 1 Axes>"
      ]
     },
     "metadata": {},
     "output_type": "display_data"
    }
   ],
   "source": [
    "from sklearn.decomposition import PCA\n",
    "pca = PCA()\n",
    "pca.fit(X_train)\n",
    "\n",
    "plt.figure(1, figsize=(14, 13))\n",
    "plt.style.use(\"ggplot\") \n",
    "plt.plot(pca.explained_variance_, marker='o')\n",
    "plt.xlabel(\"Eigenvalue number\")\n",
    "plt.ylabel(\"Eigenvalue size\")\n",
    "plt.title(\"Scree Plot\")"
   ]
  },
  {
   "cell_type": "code",
   "execution_count": 274,
   "id": "e162ec6b",
   "metadata": {},
   "outputs": [],
   "source": [
    "pca = PCA(n_components = 8)\n",
    "  \n",
    "X_train_pca = pca.fit_transform(X_train)\n",
    "X_test_pca = pca.transform(X_test)"
   ]
  },
  {
   "cell_type": "code",
   "execution_count": 275,
   "id": "78dcc7d5",
   "metadata": {},
   "outputs": [
    {
     "name": "stdout",
     "output_type": "stream",
     "text": [
      "3130.798429076913\n",
      "31493700.58630922\n",
      "0.7868902638381714\n"
     ]
    }
   ],
   "source": [
    "M40=TransformedTargetRegressor(regressor=M19,func=np.log, inverse_func=np.exp)\n",
    "M40.fit(X_train_pca,y_train)\n",
    "P40=M40.predict(X_test_pca)\n",
    "print(mean_absolute_error(y_test,P40))\n",
    "print(mean_squared_error(y_test,P40))\n",
    "print(r2_score(y_test,P40))"
   ]
  },
  {
   "cell_type": "markdown",
   "id": "c307fe6b",
   "metadata": {},
   "source": [
    "### FeatureWiz"
   ]
  },
  {
   "cell_type": "code",
   "execution_count": 276,
   "id": "473e6428",
   "metadata": {
    "scrolled": false
   },
   "outputs": [
    {
     "name": "stdout",
     "output_type": "stream",
     "text": [
      "Imported 0.2.04 version. Select nrows to a small number when running on huge datasets.\n",
      "output = featurewiz(dataname, target, corr_limit=0.90, verbose=2, sep=',', \n",
      "\t\theader=0, test_data='',feature_engg='', category_encoders='',\n",
      "\t\tdask_xgboost_flag=False, nrows=None, skip_sulov=False)\n",
      "Create new features via 'feature_engg' flag : ['interactions','groupby','target']\n",
      "\n",
      "wiz = FeatureWiz(verbose=1)\n",
      "        X_train_selected = wiz.fit_transform(X_train, y_train)\n",
      "        X_test_selected = wiz.transform(X_test)\n",
      "        wiz.features  ### provides a list of selected features ###            \n",
      "        \n"
     ]
    }
   ],
   "source": [
    "import featurewiz as gwiz\n",
    "wiz =gwiz.FeatureWiz(verbose=2)"
   ]
  },
  {
   "cell_type": "code",
   "execution_count": 280,
   "id": "63b56d9c",
   "metadata": {},
   "outputs": [],
   "source": [
    "X2=df_raw.drop('charges',axis=1)\n",
    "y2=df_raw['charges']"
   ]
  },
  {
   "cell_type": "code",
   "execution_count": 281,
   "id": "7453a5e1",
   "metadata": {},
   "outputs": [],
   "source": [
    "from sklearn.model_selection import train_test_split\n",
    "X_train_1, X_test_1, y_train_1, y_test_1 = train_test_split(X2, y2, test_size=0.33, random_state=42)"
   ]
  },
  {
   "cell_type": "code",
   "execution_count": 282,
   "id": "4e7b367d",
   "metadata": {},
   "outputs": [
    {
     "name": "stdout",
     "output_type": "stream",
     "text": [
      "############################################################################################\n",
      "############       F A S T   F E A T U R E  E N G G    A N D    S E L E C T I O N ! ########\n",
      "# Be judicious with featurewiz. Don't use it to create too many un-interpretable features! #\n",
      "############################################################################################\n",
      "featurewiz has selected 0.9 as the correlation limit. Change this limit to fit your needs...\n",
      "Skipping feature engineering since no feature_engg input...\n",
      "Skipping category encoding since no category encoders specified in input...\n",
      "#### Single_Label Regression problem ####\n",
      "    Loaded train data. Shape = (896, 7)\n",
      "#### Single_Label Regression problem ####\n",
      "No test data filename given...\n",
      "#######################################################################################\n",
      "######################## C L A S S I F Y I N G  V A R I A B L E S  ####################\n",
      "#######################################################################################\n",
      "        No variables were removed since no ID or low-information variables found in data set\n",
      "No GPU active on this device\n",
      "    Tuning XGBoost using CPU hyper-parameters. This will take time...\n",
      "    After removing redundant variables from further processing, features left = 6\n",
      "No interactions created for categorical vars since feature engg does not specify it\n",
      "#######################################################################################\n",
      "#####  Searching for Uncorrelated List Of Variables (SULOV) in 3 features ############\n",
      "#######################################################################################\n",
      "Selecting all (3) variables since none of numeric vars are highly correlated...\n",
      "Time taken for SULOV method = 0 seconds\n",
      "    Adding 3 categorical variables to reduced numeric variables  of 3\n",
      "Final list of selected 6 vars after SULOV = ['age', 'bmi', 'children', 'region', 'sex', 'smoker']\n",
      "Converting all features to numeric before sending to XGBoost...\n",
      "    there were no mixed data types or object columns that errored. Data is all numeric...\n",
      "Shape of train data after adding missing values flags = (896, 7)\n",
      "#######################################################################################\n",
      "#####    R E C U R S I V E   X G B O O S T : F E A T U R E   S E L E C T I O N  #######\n",
      "#######################################################################################\n",
      "    using regular XGBoost\n",
      "Current number of predictors before recursive XGBoost = 6 \n",
      "    Taking top 1 features per iteration...\n",
      "    XGBoost version using 1.6.1 as tree method: hist\n",
      "Number of booster rounds = 100\n",
      "        using 6 variables...\n",
      "            selecting 3 features in this iteration\n",
      "            Time taken for regular XGBoost feature selection = 0 seconds\n",
      "        using 4 variables...\n",
      "            selecting 2 features in this iteration\n",
      "            Time taken for regular XGBoost feature selection = 0 seconds\n"
     ]
    },
    {
     "data": {
      "image/png": "[encoded data removed]",
      "text/plain": [
       "<Figure size 720x360 with 2 Axes>"
      ]
     },
     "metadata": {},
     "output_type": "display_data"
    },
    {
     "name": "stdout",
     "output_type": "stream",
     "text": [
      "    Completed XGBoost feature selection in 0 seconds\n",
      "#######################################################################################\n",
      "#####          F E A T U R E   S E L E C T I O N   C O M P L E T E D            #######\n",
      "#######################################################################################\n",
      "Selected 4 important features:\n",
      "['smoker', 'bmi', 'age', 'children']\n",
      "Total Time taken for featurewiz selection = 1 seconds\n",
      "Output contains a list of 4 important features and a train dataframe\n",
      "    Time taken to create entire pipeline = 1 second(s)\n"
     ]
    },
    {
     "data": {
      "text/html": [
       "<div>\n",
       "<style scoped>\n",
       "    .dataframe tbody tr th:only-of-type {\n",
       "        vertical-align: middle;\n",
       "    }\n",
       "\n",
       "    .dataframe tbody tr th {\n",
       "        vertical-align: top;\n",
       "    }\n",
       "\n",
       "    .dataframe thead th {\n",
       "        text-align: right;\n",
       "    }\n",
       "</style>\n",
       "<table border=\"1\" class=\"dataframe\">\n",
       "  <thead>\n",
       "    <tr style=\"text-align: right;\">\n",
       "      <th></th>\n",
       "      <th>smoker</th>\n",
       "      <th>bmi</th>\n",
       "      <th>age</th>\n",
       "      <th>children</th>\n",
       "    </tr>\n",
       "  </thead>\n",
       "  <tbody>\n",
       "    <tr>\n",
       "      <th>1046</th>\n",
       "      <td>no</td>\n",
       "      <td>25.080</td>\n",
       "      <td>43</td>\n",
       "      <td>0</td>\n",
       "    </tr>\n",
       "    <tr>\n",
       "      <th>682</th>\n",
       "      <td>yes</td>\n",
       "      <td>35.300</td>\n",
       "      <td>39</td>\n",
       "      <td>2</td>\n",
       "    </tr>\n",
       "    <tr>\n",
       "      <th>1037</th>\n",
       "      <td>yes</td>\n",
       "      <td>30.495</td>\n",
       "      <td>45</td>\n",
       "      <td>1</td>\n",
       "    </tr>\n",
       "    <tr>\n",
       "      <th>490</th>\n",
       "      <td>no</td>\n",
       "      <td>32.900</td>\n",
       "      <td>19</td>\n",
       "      <td>0</td>\n",
       "    </tr>\n",
       "    <tr>\n",
       "      <th>39</th>\n",
       "      <td>yes</td>\n",
       "      <td>39.900</td>\n",
       "      <td>60</td>\n",
       "      <td>0</td>\n",
       "    </tr>\n",
       "  </tbody>\n",
       "</table>\n",
       "</div>"
      ],
      "text/plain": [
       "     smoker     bmi  age  children\n",
       "1046     no  25.080   43         0\n",
       "682     yes  35.300   39         2\n",
       "1037    yes  30.495   45         1\n",
       "490      no  32.900   19         0\n",
       "39      yes  39.900   60         0"
      ]
     },
     "execution_count": 282,
     "metadata": {},
     "output_type": "execute_result"
    }
   ],
   "source": [
    "X_train_1 = wiz.fit_transform(X_train_1, y_train_1)\n",
    "X_train_1.head()"
   ]
  },
  {
   "cell_type": "code",
   "execution_count": 283,
   "id": "34849339",
   "metadata": {},
   "outputs": [
    {
     "data": {
      "text/html": [
       "<div>\n",
       "<style scoped>\n",
       "    .dataframe tbody tr th:only-of-type {\n",
       "        vertical-align: middle;\n",
       "    }\n",
       "\n",
       "    .dataframe tbody tr th {\n",
       "        vertical-align: top;\n",
       "    }\n",
       "\n",
       "    .dataframe thead th {\n",
       "        text-align: right;\n",
       "    }\n",
       "</style>\n",
       "<table border=\"1\" class=\"dataframe\">\n",
       "  <thead>\n",
       "    <tr style=\"text-align: right;\">\n",
       "      <th></th>\n",
       "      <th>smoker</th>\n",
       "      <th>bmi</th>\n",
       "      <th>age</th>\n",
       "      <th>children</th>\n",
       "    </tr>\n",
       "  </thead>\n",
       "  <tbody>\n",
       "    <tr>\n",
       "      <th>764</th>\n",
       "      <td>no</td>\n",
       "      <td>25.175</td>\n",
       "      <td>45</td>\n",
       "      <td>2</td>\n",
       "    </tr>\n",
       "    <tr>\n",
       "      <th>887</th>\n",
       "      <td>no</td>\n",
       "      <td>30.020</td>\n",
       "      <td>36</td>\n",
       "      <td>0</td>\n",
       "    </tr>\n",
       "    <tr>\n",
       "      <th>890</th>\n",
       "      <td>yes</td>\n",
       "      <td>26.885</td>\n",
       "      <td>64</td>\n",
       "      <td>0</td>\n",
       "    </tr>\n",
       "    <tr>\n",
       "      <th>1293</th>\n",
       "      <td>no</td>\n",
       "      <td>25.745</td>\n",
       "      <td>46</td>\n",
       "      <td>3</td>\n",
       "    </tr>\n",
       "    <tr>\n",
       "      <th>259</th>\n",
       "      <td>yes</td>\n",
       "      <td>31.920</td>\n",
       "      <td>19</td>\n",
       "      <td>0</td>\n",
       "    </tr>\n",
       "  </tbody>\n",
       "</table>\n",
       "</div>"
      ],
      "text/plain": [
       "     smoker     bmi  age  children\n",
       "764      no  25.175   45         2\n",
       "887      no  30.020   36         0\n",
       "890     yes  26.885   64         0\n",
       "1293     no  25.745   46         3\n",
       "259     yes  31.920   19         0"
      ]
     },
     "execution_count": 283,
     "metadata": {},
     "output_type": "execute_result"
    }
   ],
   "source": [
    "X_test_1= wiz.transform(X_test_1)\n",
    "X_test_1.head()"
   ]
  },
  {
   "cell_type": "code",
   "execution_count": 284,
   "id": "f4ba6589",
   "metadata": {},
   "outputs": [
    {
     "data": {
      "text/plain": [
       "['smoker', 'bmi', 'age', 'children']"
      ]
     },
     "execution_count": 284,
     "metadata": {},
     "output_type": "execute_result"
    }
   ],
   "source": [
    "wiz.features[:5]"
   ]
  },
  {
   "cell_type": "code",
   "execution_count": 285,
   "id": "f1f8cea6",
   "metadata": {},
   "outputs": [],
   "source": [
    "from flaml import AutoML\n",
    "automl = AutoML()"
   ]
  },
  {
   "cell_type": "code",
   "execution_count": 290,
   "id": "26116cb0",
   "metadata": {
    "scrolled": true
   },
   "outputs": [],
   "source": [
    "automl.fit(X_train_1, y_train_1, task=\"regression\",metric='mape',time_budget=60,early_stop=True,verbose=0)"
   ]
  },
  {
   "cell_type": "code",
   "execution_count": 291,
   "id": "2ddf512f",
   "metadata": {
    "scrolled": false
   },
   "outputs": [
    {
     "name": "stdout",
     "output_type": "stream",
     "text": [
      "Best ML leaner: xgboost\n",
      "Best hyperparmeter config: {'n_estimators': 11, 'max_leaves': 7, 'min_child_weight': 56.34831502711251, 'learning_rate': 0.1353456218577713, 'subsample': 0.8655741451265335, 'colsample_bylevel': 1.0, 'colsample_bytree': 1.0, 'reg_alpha': 0.0036421638759196883, 'reg_lambda': 0.11947641160235725}\n",
      "Best mape on validation data: 0.2268\n",
      "Training duration of best run: 0.05491 s\n"
     ]
    }
   ],
   "source": [
    "print('Best ML leaner:', automl.best_estimator)\n",
    "print('Best hyperparmeter config:', automl.best_config)\n",
    "print('Best mape on validation data: {0:.4g}'.format(automl.best_loss))\n",
    "print('Training duration of best run: {0:.4g} s'.format(automl.best_config_train_time))"
   ]
  },
  {
   "cell_type": "code",
   "execution_count": 295,
   "id": "86cca40f",
   "metadata": {
    "scrolled": true
   },
   "outputs": [
    {
     "name": "stdout",
     "output_type": "stream",
     "text": [
      "3134.5253164936016\n",
      "33701575.77618004\n",
      "0.7700252147271649\n"
     ]
    }
   ],
   "source": [
    "P41=automl.predict(X_test_1)\n",
    "print(mean_absolute_error(y_test_1,P41))\n",
    "print(mean_squared_error(y_test_1,P41))\n",
    "print(r2_score(y_test_1,P41))"
   ]
  },
  {
   "cell_type": "code",
   "execution_count": 298,
   "id": "c4abe40a",
   "metadata": {},
   "outputs": [],
   "source": [
    "Name=['Linear Regression','Linear Regression digree 2','Linear Regression digree 3','Ridge Regression',\n",
    "      'Ridge Regression digree 2','Ridge Regression digree 3','Lasso','Lasso digree 2','Lasso digree 3','SGDRegressor',\n",
    "     'Decision Tree Regressor','Random Forest Regressor','AdaBoost Regressor','Gradient Boosting Regressor','KNN Regressor',\n",
    "      'Support Vector Machine','Neural Network Regression','Histogram Boosting','XGB Boosting','Light GBM','CAT Boosting',\n",
    "      'BaggingRegressor','NuSVR','ExtraTreesRegressor','PoissonRegressor','HuberRegressor',\n",
    "      'RidgeCV','BayesianRidge','ElasticNetCV','TransformedTargetRegressor','TweedieRegressor',\n",
    "      'RANSACRegressor','OrthogonalMatchingPursuitCV','PassiveAggressiveRegressor','RVCE','RFE','PCA']\n",
    "clfs= [M1,M2,M3,M4,M5,M6,M7,M8,M9,M10,M11,M12,M13,M14,M15,M16,M17,M18,M19,M20,M21,M22,M23,M24,M25,M26,M27,M28,M29,M30,\n",
    "       M31,M32,M33,M34,M37,M38,M40]"
   ]
  },
  {
   "cell_type": "code",
   "execution_count": 299,
   "id": "92096405",
   "metadata": {
    "scrolled": false
   },
   "outputs": [
    {
     "data": {
      "text/html": [
       "<div>\n",
       "<style scoped>\n",
       "    .dataframe tbody tr th:only-of-type {\n",
       "        vertical-align: middle;\n",
       "    }\n",
       "\n",
       "    .dataframe tbody tr th {\n",
       "        vertical-align: top;\n",
       "    }\n",
       "\n",
       "    .dataframe thead th {\n",
       "        text-align: right;\n",
       "    }\n",
       "</style>\n",
       "<table border=\"1\" class=\"dataframe\">\n",
       "  <thead>\n",
       "    <tr style=\"text-align: right;\">\n",
       "      <th></th>\n",
       "      <th>R2</th>\n",
       "    </tr>\n",
       "  </thead>\n",
       "  <tbody>\n",
       "    <tr>\n",
       "      <th>PCA</th>\n",
       "      <td>0.871447</td>\n",
       "    </tr>\n",
       "    <tr>\n",
       "      <th>TransformedTargetRegressor</th>\n",
       "      <td>0.871447</td>\n",
       "    </tr>\n",
       "    <tr>\n",
       "      <th>Gradient Boosting Regressor</th>\n",
       "      <td>0.868556</td>\n",
       "    </tr>\n",
       "    <tr>\n",
       "      <th>RVCE</th>\n",
       "      <td>0.867805</td>\n",
       "    </tr>\n",
       "    <tr>\n",
       "      <th>RFE</th>\n",
       "      <td>0.865898</td>\n",
       "    </tr>\n",
       "    <tr>\n",
       "      <th>XGB Boosting</th>\n",
       "      <td>0.863943</td>\n",
       "    </tr>\n",
       "    <tr>\n",
       "      <th>Histogram Boosting</th>\n",
       "      <td>0.856632</td>\n",
       "    </tr>\n",
       "    <tr>\n",
       "      <th>CAT Boosting</th>\n",
       "      <td>0.856200</td>\n",
       "    </tr>\n",
       "    <tr>\n",
       "      <th>Random Forest Regressor</th>\n",
       "      <td>0.854623</td>\n",
       "    </tr>\n",
       "    <tr>\n",
       "      <th>Light GBM</th>\n",
       "      <td>0.853369</td>\n",
       "    </tr>\n",
       "    <tr>\n",
       "      <th>Lasso digree 2</th>\n",
       "      <td>0.847351</td>\n",
       "    </tr>\n",
       "    <tr>\n",
       "      <th>Ridge Regression digree 2</th>\n",
       "      <td>0.847318</td>\n",
       "    </tr>\n",
       "    <tr>\n",
       "      <th>PoissonRegressor</th>\n",
       "      <td>0.845985</td>\n",
       "    </tr>\n",
       "    <tr>\n",
       "      <th>ExtraTreesRegressor</th>\n",
       "      <td>0.845296</td>\n",
       "    </tr>\n",
       "    <tr>\n",
       "      <th>BaggingRegressor</th>\n",
       "      <td>0.844032</td>\n",
       "    </tr>\n",
       "    <tr>\n",
       "      <th>Linear Regression digree 2</th>\n",
       "      <td>0.844015</td>\n",
       "    </tr>\n",
       "    <tr>\n",
       "      <th>Lasso digree 3</th>\n",
       "      <td>0.842149</td>\n",
       "    </tr>\n",
       "    <tr>\n",
       "      <th>Ridge Regression digree 3</th>\n",
       "      <td>0.841995</td>\n",
       "    </tr>\n",
       "    <tr>\n",
       "      <th>Linear Regression digree 3</th>\n",
       "      <td>0.841408</td>\n",
       "    </tr>\n",
       "    <tr>\n",
       "      <th>AdaBoost Regressor</th>\n",
       "      <td>0.833789</td>\n",
       "    </tr>\n",
       "    <tr>\n",
       "      <th>KNN Regressor</th>\n",
       "      <td>0.802003</td>\n",
       "    </tr>\n",
       "    <tr>\n",
       "      <th>Linear Regression</th>\n",
       "      <td>0.758113</td>\n",
       "    </tr>\n",
       "    <tr>\n",
       "      <th>Lasso</th>\n",
       "      <td>0.758102</td>\n",
       "    </tr>\n",
       "    <tr>\n",
       "      <th>RidgeCV</th>\n",
       "      <td>0.758069</td>\n",
       "    </tr>\n",
       "    <tr>\n",
       "      <th>Ridge Regression</th>\n",
       "      <td>0.758069</td>\n",
       "    </tr>\n",
       "    <tr>\n",
       "      <th>BayesianRidge</th>\n",
       "      <td>0.757990</td>\n",
       "    </tr>\n",
       "    <tr>\n",
       "      <th>SGDRegressor</th>\n",
       "      <td>0.757902</td>\n",
       "    </tr>\n",
       "    <tr>\n",
       "      <th>OrthogonalMatchingPursuitCV</th>\n",
       "      <td>0.757756</td>\n",
       "    </tr>\n",
       "    <tr>\n",
       "      <th>PassiveAggressiveRegressor</th>\n",
       "      <td>0.728566</td>\n",
       "    </tr>\n",
       "    <tr>\n",
       "      <th>Decision Tree Regressor</th>\n",
       "      <td>0.718346</td>\n",
       "    </tr>\n",
       "    <tr>\n",
       "      <th>HuberRegressor</th>\n",
       "      <td>0.692997</td>\n",
       "    </tr>\n",
       "    <tr>\n",
       "      <th>Neural Network Regression</th>\n",
       "      <td>0.557625</td>\n",
       "    </tr>\n",
       "    <tr>\n",
       "      <th>TweedieRegressor</th>\n",
       "      <td>0.553880</td>\n",
       "    </tr>\n",
       "    <tr>\n",
       "      <th>RANSACRegressor</th>\n",
       "      <td>0.546108</td>\n",
       "    </tr>\n",
       "    <tr>\n",
       "      <th>ElasticNetCV</th>\n",
       "      <td>0.496866</td>\n",
       "    </tr>\n",
       "    <tr>\n",
       "      <th>NuSVR</th>\n",
       "      <td>-0.097466</td>\n",
       "    </tr>\n",
       "    <tr>\n",
       "      <th>Support Vector Machine</th>\n",
       "      <td>-0.130215</td>\n",
       "    </tr>\n",
       "  </tbody>\n",
       "</table>\n",
       "</div>"
      ],
      "text/plain": [
       "                                   R2\n",
       "PCA                          0.871447\n",
       "TransformedTargetRegressor   0.871447\n",
       "Gradient Boosting Regressor  0.868556\n",
       "RVCE                         0.867805\n",
       "RFE                          0.865898\n",
       "XGB Boosting                 0.863943\n",
       "Histogram Boosting           0.856632\n",
       "CAT Boosting                 0.856200\n",
       "Random Forest Regressor      0.854623\n",
       "Light GBM                    0.853369\n",
       "Lasso digree 2               0.847351\n",
       "Ridge Regression digree 2    0.847318\n",
       "PoissonRegressor             0.845985\n",
       "ExtraTreesRegressor          0.845296\n",
       "BaggingRegressor             0.844032\n",
       "Linear Regression digree 2   0.844015\n",
       "Lasso digree 3               0.842149\n",
       "Ridge Regression digree 3    0.841995\n",
       "Linear Regression digree 3   0.841408\n",
       "AdaBoost Regressor           0.833789\n",
       "KNN Regressor                0.802003\n",
       "Linear Regression            0.758113\n",
       "Lasso                        0.758102\n",
       "RidgeCV                      0.758069\n",
       "Ridge Regression             0.758069\n",
       "BayesianRidge                0.757990\n",
       "SGDRegressor                 0.757902\n",
       "OrthogonalMatchingPursuitCV  0.757756\n",
       "PassiveAggressiveRegressor   0.728566\n",
       "Decision Tree Regressor      0.718346\n",
       "HuberRegressor               0.692997\n",
       "Neural Network Regression    0.557625\n",
       "TweedieRegressor             0.553880\n",
       "RANSACRegressor              0.546108\n",
       "ElasticNetCV                 0.496866\n",
       "NuSVR                       -0.097466\n",
       "Support Vector Machine      -0.130215"
      ]
     },
     "execution_count": 299,
     "metadata": {},
     "output_type": "execute_result"
    }
   ],
   "source": [
    "results=[]\n",
    "for i in clfs:\n",
    "    i.fit(X_train,y_train)\n",
    "    r2=r2_score(y_test, i.predict(X_test))\n",
    "    results.append(r2)\n",
    "\n",
    "## Dataframe from result\n",
    "score= pd.DataFrame(results,index=Name)\n",
    "score.columns=['R2']\n",
    "score.sort_values(by='R2',ascending=False)"
   ]
  },
  {
   "cell_type": "markdown",
   "id": "87cf0ef2",
   "metadata": {},
   "source": [
    "## Hyper parameter Tuning"
   ]
  },
  {
   "cell_type": "code",
   "execution_count": 301,
   "id": "c109b5f0",
   "metadata": {},
   "outputs": [
    {
     "name": "stdout",
     "output_type": "stream",
     "text": [
      "Parameters currently in use:\n",
      "\n",
      "{'alpha': 0.9,\n",
      " 'ccp_alpha': 0.0,\n",
      " 'criterion': 'friedman_mse',\n",
      " 'init': None,\n",
      " 'learning_rate': 0.1,\n",
      " 'loss': 'squared_error',\n",
      " 'max_depth': 3,\n",
      " 'max_features': None,\n",
      " 'max_leaf_nodes': None,\n",
      " 'min_impurity_decrease': 0.0,\n",
      " 'min_samples_leaf': 1,\n",
      " 'min_samples_split': 2,\n",
      " 'min_weight_fraction_leaf': 0.0,\n",
      " 'n_estimators': 100,\n",
      " 'n_iter_no_change': None,\n",
      " 'random_state': None,\n",
      " 'subsample': 1.0,\n",
      " 'tol': 0.0001,\n",
      " 'validation_fraction': 0.1,\n",
      " 'verbose': 0,\n",
      " 'warm_start': False}\n"
     ]
    }
   ],
   "source": [
    "from pprint import pprint\n",
    "print('Parameters currently in use:\\n')\n",
    "pprint(M14.get_params())"
   ]
  },
  {
   "cell_type": "code",
   "execution_count": 302,
   "id": "697e8cc9",
   "metadata": {},
   "outputs": [],
   "source": [
    "from sklearn.model_selection import RandomizedSearchCV"
   ]
  },
  {
   "cell_type": "code",
   "execution_count": 303,
   "id": "632049a4",
   "metadata": {},
   "outputs": [],
   "source": [
    "# Number of trees in random forest\n",
    "n_estimators = [int(x) for x in np.linspace(start = 200, stop = 2000, num = 10)]\n",
    "\n",
    "# Number of features to consider at every split\n",
    "max_features = ['auto', 'sqrt']\n",
    "\n",
    "# Maximum number of levels in tree\n",
    "max_depth = [int(x) for x in np.linspace(10, 110, num = 11)]\n",
    "max_depth.append(None)\n",
    "\n",
    "# Minimum number of samples required to split a node\n",
    "min_samples_split = [2, 5, 10]\n",
    "\n",
    "# Minimum number of samples required at each leaf node\n",
    "min_samples_leaf = [1, 2, 4]"
   ]
  },
  {
   "cell_type": "code",
   "execution_count": 305,
   "id": "cffd1c6f",
   "metadata": {},
   "outputs": [
    {
     "name": "stdout",
     "output_type": "stream",
     "text": [
      "{'max_depth': [10, 20, 30, 40, 50, 60, 70, 80, 90, 100, 110, None],\n",
      " 'max_features': ['auto', 'sqrt'],\n",
      " 'min_samples_leaf': [1, 2, 4],\n",
      " 'min_samples_split': [2, 5, 10],\n",
      " 'n_estimators': [200, 400, 600, 800, 1000, 1200, 1400, 1600, 1800, 2000]}\n"
     ]
    }
   ],
   "source": [
    "random_grid = {'n_estimators': n_estimators,\n",
    "               'max_features': max_features,\n",
    "               'max_depth': max_depth,\n",
    "               'min_samples_split': min_samples_split,\n",
    "               'min_samples_leaf': min_samples_leaf}\n",
    "pprint(random_grid)"
   ]
  },
  {
   "cell_type": "code",
   "execution_count": 306,
   "id": "851fe63b",
   "metadata": {},
   "outputs": [
    {
     "name": "stdout",
     "output_type": "stream",
     "text": [
      "Fitting 3 folds for each of 5 candidates, totalling 15 fits\n"
     ]
    },
    {
     "data": {
      "text/html": [
       "<style>#sk-container-id-1 {color: black;background-color: white;}#sk-container-id-1 pre{padding: 0;}#sk-container-id-1 div.sk-toggleable {background-color: white;}#sk-container-id-1 label.sk-toggleable__label {cursor: pointer;display: block;width: 100%;margin-bottom: 0;padding: 0.3em;box-sizing: border-box;text-align: center;}#sk-container-id-1 label.sk-toggleable__label-arrow:before {content: \"▸\";float: left;margin-right: 0.25em;color: #696969;}#sk-container-id-1 label.sk-toggleable__label-arrow:hover:before {color: black;}#sk-container-id-1 div.sk-estimator:hover label.sk-toggleable__label-arrow:before {color: black;}#sk-container-id-1 div.sk-toggleable__content {max-height: 0;max-width: 0;overflow: hidden;text-align: left;background-color: #f0f8ff;}#sk-container-id-1 div.sk-toggleable__content pre {margin: 0.2em;color: black;border-radius: 0.25em;background-color: #f0f8ff;}#sk-container-id-1 input.sk-toggleable__control:checked~div.sk-toggleable__content {max-height: 200px;max-width: 100%;overflow: auto;}#sk-container-id-1 input.sk-toggleable__control:checked~label.sk-toggleable__label-arrow:before {content: \"▾\";}#sk-container-id-1 div.sk-estimator input.sk-toggleable__control:checked~label.sk-toggleable__label {background-color: #d4ebff;}#sk-container-id-1 div.sk-label input.sk-toggleable__control:checked~label.sk-toggleable__label {background-color: #d4ebff;}#sk-container-id-1 input.sk-hidden--visually {border: 0;clip: rect(1px 1px 1px 1px);clip: rect(1px, 1px, 1px, 1px);height: 1px;margin: -1px;overflow: hidden;padding: 0;position: absolute;width: 1px;}#sk-container-id-1 div.sk-estimator {font-family: monospace;background-color: #f0f8ff;border: 1px dotted black;border-radius: 0.25em;box-sizing: border-box;margin-bottom: 0.5em;}#sk-container-id-1 div.sk-estimator:hover {background-color: #d4ebff;}#sk-container-id-1 div.sk-parallel-item::after {content: \"\";width: 100%;border-bottom: 1px solid gray;flex-grow: 1;}#sk-container-id-1 div.sk-label:hover label.sk-toggleable__label {background-color: #d4ebff;}#sk-container-id-1 div.sk-serial::before {content: \"\";position: absolute;border-left: 1px solid gray;box-sizing: border-box;top: 0;bottom: 0;left: 50%;z-index: 0;}#sk-container-id-1 div.sk-serial {display: flex;flex-direction: column;align-items: center;background-color: white;padding-right: 0.2em;padding-left: 0.2em;position: relative;}#sk-container-id-1 div.sk-item {position: relative;z-index: 1;}#sk-container-id-1 div.sk-parallel {display: flex;align-items: stretch;justify-content: center;background-color: white;position: relative;}#sk-container-id-1 div.sk-item::before, #sk-container-id-1 div.sk-parallel-item::before {content: \"\";position: absolute;border-left: 1px solid gray;box-sizing: border-box;top: 0;bottom: 0;left: 50%;z-index: -1;}#sk-container-id-1 div.sk-parallel-item {display: flex;flex-direction: column;z-index: 1;position: relative;background-color: white;}#sk-container-id-1 div.sk-parallel-item:first-child::after {align-self: flex-end;width: 50%;}#sk-container-id-1 div.sk-parallel-item:last-child::after {align-self: flex-start;width: 50%;}#sk-container-id-1 div.sk-parallel-item:only-child::after {width: 0;}#sk-container-id-1 div.sk-dashed-wrapped {border: 1px dashed gray;margin: 0 0.4em 0.5em 0.4em;box-sizing: border-box;padding-bottom: 0.4em;background-color: white;}#sk-container-id-1 div.sk-label label {font-family: monospace;font-weight: bold;display: inline-block;line-height: 1.2em;}#sk-container-id-1 div.sk-label-container {text-align: center;}#sk-container-id-1 div.sk-container {/* jupyter's `normalize.less` sets `[hidden] { display: none; }` but bootstrap.min.css set `[hidden] { display: none !important; }` so we also need the `!important` here to be able to override the default hidden behavior on the sphinx rendered scikit-learn.org. See: https://github.com/scikit-learn/scikit-learn/issues/21755 */display: inline-block !important;position: relative;}#sk-container-id-1 div.sk-text-repr-fallback {display: none;}</style><div id=\"sk-container-id-1\" class=\"sk-top-container\"><div class=\"sk-text-repr-fallback\"><pre>RandomizedSearchCV(cv=3, estimator=GradientBoostingRegressor(), n_iter=5,\n",
       "                   n_jobs=-1,\n",
       "                   param_distributions={&#x27;max_depth&#x27;: [10, 20, 30, 40, 50, 60,\n",
       "                                                      70, 80, 90, 100, 110,\n",
       "                                                      None],\n",
       "                                        &#x27;max_features&#x27;: [&#x27;auto&#x27;, &#x27;sqrt&#x27;],\n",
       "                                        &#x27;min_samples_leaf&#x27;: [1, 2, 4],\n",
       "                                        &#x27;min_samples_split&#x27;: [2, 5, 10],\n",
       "                                        &#x27;n_estimators&#x27;: [200, 400, 600, 800,\n",
       "                                                         1000, 1200, 1400, 1600,\n",
       "                                                         1800, 2000]},\n",
       "                   return_train_score=True, verbose=True)</pre><b>In a Jupyter environment, please rerun this cell to show the HTML representation or trust the notebook. <br />On GitHub, the HTML representation is unable to render, please try loading this page with nbviewer.org.</b></div><div class=\"sk-container\" hidden><div class=\"sk-item sk-dashed-wrapped\"><div class=\"sk-label-container\"><div class=\"sk-label sk-toggleable\"><input class=\"sk-toggleable__control sk-hidden--visually\" id=\"sk-estimator-id-1\" type=\"checkbox\" ><label for=\"sk-estimator-id-1\" class=\"sk-toggleable__label sk-toggleable__label-arrow\">RandomizedSearchCV</label><div class=\"sk-toggleable__content\"><pre>RandomizedSearchCV(cv=3, estimator=GradientBoostingRegressor(), n_iter=5,\n",
       "                   n_jobs=-1,\n",
       "                   param_distributions={&#x27;max_depth&#x27;: [10, 20, 30, 40, 50, 60,\n",
       "                                                      70, 80, 90, 100, 110,\n",
       "                                                      None],\n",
       "                                        &#x27;max_features&#x27;: [&#x27;auto&#x27;, &#x27;sqrt&#x27;],\n",
       "                                        &#x27;min_samples_leaf&#x27;: [1, 2, 4],\n",
       "                                        &#x27;min_samples_split&#x27;: [2, 5, 10],\n",
       "                                        &#x27;n_estimators&#x27;: [200, 400, 600, 800,\n",
       "                                                         1000, 1200, 1400, 1600,\n",
       "                                                         1800, 2000]},\n",
       "                   return_train_score=True, verbose=True)</pre></div></div></div><div class=\"sk-parallel\"><div class=\"sk-parallel-item\"><div class=\"sk-item\"><div class=\"sk-label-container\"><div class=\"sk-label sk-toggleable\"><input class=\"sk-toggleable__control sk-hidden--visually\" id=\"sk-estimator-id-2\" type=\"checkbox\" ><label for=\"sk-estimator-id-2\" class=\"sk-toggleable__label sk-toggleable__label-arrow\">estimator: GradientBoostingRegressor</label><div class=\"sk-toggleable__content\"><pre>GradientBoostingRegressor()</pre></div></div></div><div class=\"sk-serial\"><div class=\"sk-item\"><div class=\"sk-estimator sk-toggleable\"><input class=\"sk-toggleable__control sk-hidden--visually\" id=\"sk-estimator-id-3\" type=\"checkbox\" ><label for=\"sk-estimator-id-3\" class=\"sk-toggleable__label sk-toggleable__label-arrow\">GradientBoostingRegressor</label><div class=\"sk-toggleable__content\"><pre>GradientBoostingRegressor()</pre></div></div></div></div></div></div></div></div></div></div>"
      ],
      "text/plain": [
       "RandomizedSearchCV(cv=3, estimator=GradientBoostingRegressor(), n_iter=5,\n",
       "                   n_jobs=-1,\n",
       "                   param_distributions={'max_depth': [10, 20, 30, 40, 50, 60,\n",
       "                                                      70, 80, 90, 100, 110,\n",
       "                                                      None],\n",
       "                                        'max_features': ['auto', 'sqrt'],\n",
       "                                        'min_samples_leaf': [1, 2, 4],\n",
       "                                        'min_samples_split': [2, 5, 10],\n",
       "                                        'n_estimators': [200, 400, 600, 800,\n",
       "                                                         1000, 1200, 1400, 1600,\n",
       "                                                         1800, 2000]},\n",
       "                   return_train_score=True, verbose=True)"
      ]
     },
     "execution_count": 306,
     "metadata": {},
     "output_type": "execute_result"
    }
   ],
   "source": [
    "rs = RandomizedSearchCV(estimator=M14, param_distributions=random_grid, \n",
    "                 return_train_score= True, n_jobs=-1, verbose=True, cv = 3, n_iter=5)\n",
    "rs.fit(X_train, y_train)"
   ]
  },
  {
   "cell_type": "code",
   "execution_count": 307,
   "id": "aa8d2652",
   "metadata": {},
   "outputs": [
    {
     "name": "stdout",
     "output_type": "stream",
     "text": [
      "2814.2754348064395\n",
      "23358889.95767571\n",
      "0.8419364259125055\n"
     ]
    }
   ],
   "source": [
    "P42=rs.predict(X_test)\n",
    "print(mean_absolute_error(y_test,P42))\n",
    "print(mean_squared_error(y_test,P42))\n",
    "print(r2_score(y_test,P42))"
   ]
  },
  {
   "cell_type": "code",
   "execution_count": 308,
   "id": "311f6219",
   "metadata": {},
   "outputs": [],
   "source": [
    "param_grid = {\n",
    "    'criterion': ['mse', 'mae', 'friedman_mse'], \n",
    "    'learning_rate': [0.05, 0.1, 0.15, 0.2], \n",
    "    'max_depth': [2, 3, 4, 5], \n",
    "    'max_features': ['sqrt', None], \n",
    "    'max_leaf_nodes': list(range(2, 10)),\n",
    "    'n_estimators': list(range(50, 500, 50)),\n",
    "    'subsample': [0.8, 0.9, 1.0]\n",
    "}"
   ]
  },
  {
   "cell_type": "code",
   "execution_count": 310,
   "id": "fba3704d",
   "metadata": {},
   "outputs": [
    {
     "name": "stdout",
     "output_type": "stream",
     "text": [
      "Fitting 3 folds for each of 5 candidates, totalling 15 fits\n"
     ]
    },
    {
     "data": {
      "text/html": [
       "<style>#sk-container-id-2 {color: black;background-color: white;}#sk-container-id-2 pre{padding: 0;}#sk-container-id-2 div.sk-toggleable {background-color: white;}#sk-container-id-2 label.sk-toggleable__label {cursor: pointer;display: block;width: 100%;margin-bottom: 0;padding: 0.3em;box-sizing: border-box;text-align: center;}#sk-container-id-2 label.sk-toggleable__label-arrow:before {content: \"▸\";float: left;margin-right: 0.25em;color: #696969;}#sk-container-id-2 label.sk-toggleable__label-arrow:hover:before {color: black;}#sk-container-id-2 div.sk-estimator:hover label.sk-toggleable__label-arrow:before {color: black;}#sk-container-id-2 div.sk-toggleable__content {max-height: 0;max-width: 0;overflow: hidden;text-align: left;background-color: #f0f8ff;}#sk-container-id-2 div.sk-toggleable__content pre {margin: 0.2em;color: black;border-radius: 0.25em;background-color: #f0f8ff;}#sk-container-id-2 input.sk-toggleable__control:checked~div.sk-toggleable__content {max-height: 200px;max-width: 100%;overflow: auto;}#sk-container-id-2 input.sk-toggleable__control:checked~label.sk-toggleable__label-arrow:before {content: \"▾\";}#sk-container-id-2 div.sk-estimator input.sk-toggleable__control:checked~label.sk-toggleable__label {background-color: #d4ebff;}#sk-container-id-2 div.sk-label input.sk-toggleable__control:checked~label.sk-toggleable__label {background-color: #d4ebff;}#sk-container-id-2 input.sk-hidden--visually {border: 0;clip: rect(1px 1px 1px 1px);clip: rect(1px, 1px, 1px, 1px);height: 1px;margin: -1px;overflow: hidden;padding: 0;position: absolute;width: 1px;}#sk-container-id-2 div.sk-estimator {font-family: monospace;background-color: #f0f8ff;border: 1px dotted black;border-radius: 0.25em;box-sizing: border-box;margin-bottom: 0.5em;}#sk-container-id-2 div.sk-estimator:hover {background-color: #d4ebff;}#sk-container-id-2 div.sk-parallel-item::after {content: \"\";width: 100%;border-bottom: 1px solid gray;flex-grow: 1;}#sk-container-id-2 div.sk-label:hover label.sk-toggleable__label {background-color: #d4ebff;}#sk-container-id-2 div.sk-serial::before {content: \"\";position: absolute;border-left: 1px solid gray;box-sizing: border-box;top: 0;bottom: 0;left: 50%;z-index: 0;}#sk-container-id-2 div.sk-serial {display: flex;flex-direction: column;align-items: center;background-color: white;padding-right: 0.2em;padding-left: 0.2em;position: relative;}#sk-container-id-2 div.sk-item {position: relative;z-index: 1;}#sk-container-id-2 div.sk-parallel {display: flex;align-items: stretch;justify-content: center;background-color: white;position: relative;}#sk-container-id-2 div.sk-item::before, #sk-container-id-2 div.sk-parallel-item::before {content: \"\";position: absolute;border-left: 1px solid gray;box-sizing: border-box;top: 0;bottom: 0;left: 50%;z-index: -1;}#sk-container-id-2 div.sk-parallel-item {display: flex;flex-direction: column;z-index: 1;position: relative;background-color: white;}#sk-container-id-2 div.sk-parallel-item:first-child::after {align-self: flex-end;width: 50%;}#sk-container-id-2 div.sk-parallel-item:last-child::after {align-self: flex-start;width: 50%;}#sk-container-id-2 div.sk-parallel-item:only-child::after {width: 0;}#sk-container-id-2 div.sk-dashed-wrapped {border: 1px dashed gray;margin: 0 0.4em 0.5em 0.4em;box-sizing: border-box;padding-bottom: 0.4em;background-color: white;}#sk-container-id-2 div.sk-label label {font-family: monospace;font-weight: bold;display: inline-block;line-height: 1.2em;}#sk-container-id-2 div.sk-label-container {text-align: center;}#sk-container-id-2 div.sk-container {/* jupyter's `normalize.less` sets `[hidden] { display: none; }` but bootstrap.min.css set `[hidden] { display: none !important; }` so we also need the `!important` here to be able to override the default hidden behavior on the sphinx rendered scikit-learn.org. See: https://github.com/scikit-learn/scikit-learn/issues/21755 */display: inline-block !important;position: relative;}#sk-container-id-2 div.sk-text-repr-fallback {display: none;}</style><div id=\"sk-container-id-2\" class=\"sk-top-container\"><div class=\"sk-text-repr-fallback\"><pre>RandomizedSearchCV(cv=3, estimator=GradientBoostingRegressor(), n_iter=5,\n",
       "                   n_jobs=-1,\n",
       "                   param_distributions={&#x27;criterion&#x27;: [&#x27;mse&#x27;, &#x27;mae&#x27;,\n",
       "                                                      &#x27;friedman_mse&#x27;],\n",
       "                                        &#x27;learning_rate&#x27;: [0.05, 0.1, 0.15, 0.2],\n",
       "                                        &#x27;max_depth&#x27;: [2, 3, 4, 5],\n",
       "                                        &#x27;max_features&#x27;: [&#x27;sqrt&#x27;, None],\n",
       "                                        &#x27;max_leaf_nodes&#x27;: [2, 3, 4, 5, 6, 7, 8,\n",
       "                                                           9],\n",
       "                                        &#x27;n_estimators&#x27;: [50, 100, 150, 200, 250,\n",
       "                                                         300, 350, 400, 450],\n",
       "                                        &#x27;subsample&#x27;: [0.8, 0.9, 1.0]},\n",
       "                   return_train_score=True, verbose=True)</pre><b>In a Jupyter environment, please rerun this cell to show the HTML representation or trust the notebook. <br />On GitHub, the HTML representation is unable to render, please try loading this page with nbviewer.org.</b></div><div class=\"sk-container\" hidden><div class=\"sk-item sk-dashed-wrapped\"><div class=\"sk-label-container\"><div class=\"sk-label sk-toggleable\"><input class=\"sk-toggleable__control sk-hidden--visually\" id=\"sk-estimator-id-4\" type=\"checkbox\" ><label for=\"sk-estimator-id-4\" class=\"sk-toggleable__label sk-toggleable__label-arrow\">RandomizedSearchCV</label><div class=\"sk-toggleable__content\"><pre>RandomizedSearchCV(cv=3, estimator=GradientBoostingRegressor(), n_iter=5,\n",
       "                   n_jobs=-1,\n",
       "                   param_distributions={&#x27;criterion&#x27;: [&#x27;mse&#x27;, &#x27;mae&#x27;,\n",
       "                                                      &#x27;friedman_mse&#x27;],\n",
       "                                        &#x27;learning_rate&#x27;: [0.05, 0.1, 0.15, 0.2],\n",
       "                                        &#x27;max_depth&#x27;: [2, 3, 4, 5],\n",
       "                                        &#x27;max_features&#x27;: [&#x27;sqrt&#x27;, None],\n",
       "                                        &#x27;max_leaf_nodes&#x27;: [2, 3, 4, 5, 6, 7, 8,\n",
       "                                                           9],\n",
       "                                        &#x27;n_estimators&#x27;: [50, 100, 150, 200, 250,\n",
       "                                                         300, 350, 400, 450],\n",
       "                                        &#x27;subsample&#x27;: [0.8, 0.9, 1.0]},\n",
       "                   return_train_score=True, verbose=True)</pre></div></div></div><div class=\"sk-parallel\"><div class=\"sk-parallel-item\"><div class=\"sk-item\"><div class=\"sk-label-container\"><div class=\"sk-label sk-toggleable\"><input class=\"sk-toggleable__control sk-hidden--visually\" id=\"sk-estimator-id-5\" type=\"checkbox\" ><label for=\"sk-estimator-id-5\" class=\"sk-toggleable__label sk-toggleable__label-arrow\">estimator: GradientBoostingRegressor</label><div class=\"sk-toggleable__content\"><pre>GradientBoostingRegressor()</pre></div></div></div><div class=\"sk-serial\"><div class=\"sk-item\"><div class=\"sk-estimator sk-toggleable\"><input class=\"sk-toggleable__control sk-hidden--visually\" id=\"sk-estimator-id-6\" type=\"checkbox\" ><label for=\"sk-estimator-id-6\" class=\"sk-toggleable__label sk-toggleable__label-arrow\">GradientBoostingRegressor</label><div class=\"sk-toggleable__content\"><pre>GradientBoostingRegressor()</pre></div></div></div></div></div></div></div></div></div></div>"
      ],
      "text/plain": [
       "RandomizedSearchCV(cv=3, estimator=GradientBoostingRegressor(), n_iter=5,\n",
       "                   n_jobs=-1,\n",
       "                   param_distributions={'criterion': ['mse', 'mae',\n",
       "                                                      'friedman_mse'],\n",
       "                                        'learning_rate': [0.05, 0.1, 0.15, 0.2],\n",
       "                                        'max_depth': [2, 3, 4, 5],\n",
       "                                        'max_features': ['sqrt', None],\n",
       "                                        'max_leaf_nodes': [2, 3, 4, 5, 6, 7, 8,\n",
       "                                                           9],\n",
       "                                        'n_estimators': [50, 100, 150, 200, 250,\n",
       "                                                         300, 350, 400, 450],\n",
       "                                        'subsample': [0.8, 0.9, 1.0]},\n",
       "                   return_train_score=True, verbose=True)"
      ]
     },
     "execution_count": 310,
     "metadata": {},
     "output_type": "execute_result"
    }
   ],
   "source": [
    "rs1 = RandomizedSearchCV(estimator=GradientBoostingRegressor(), param_distributions=param_grid, \n",
    "                 return_train_score= True, n_jobs=-1, verbose=True, cv = 3, n_iter=5)\n",
    "rs1.fit(X_train, y_train)"
   ]
  },
  {
   "cell_type": "code",
   "execution_count": 311,
   "id": "9c022913",
   "metadata": {},
   "outputs": [
    {
     "name": "stdout",
     "output_type": "stream",
     "text": [
      "2904.6441419683097\n",
      "22000383.22464168\n",
      "0.8511290900345745\n"
     ]
    }
   ],
   "source": [
    "P42=rs1.predict(X_test)\n",
    "print(mean_absolute_error(y_test,P42))\n",
    "print(mean_squared_error(y_test,P42))\n",
    "print(r2_score(y_test,P42))"
   ]
  },
  {
   "cell_type": "code",
   "execution_count": 312,
   "id": "3e6873f1",
   "metadata": {},
   "outputs": [
    {
     "name": "stdout",
     "output_type": "stream",
     "text": [
      "Fitting 3 folds for each of 5 candidates, totalling 15 fits\n",
      "2418.566930884449\n",
      "22834392.86907913\n",
      "4778.534594316456\n",
      "0.8454855622187373\n"
     ]
    }
   ],
   "source": [
    "M43=TransformedTargetRegressor(regressor=rs1,func=np.log, inverse_func=np.exp)\n",
    "M43.fit(X_train,y_train)\n",
    "\n",
    "P43= M43.predict(X_test)\n",
    "\n",
    "print(mean_absolute_error(y_test,P43))\n",
    "print(mean_squared_error(y_test,P43))\n",
    "print(np.sqrt(mean_squared_error(y_test,P43)))\n",
    "print(r2_score(y_test,P43))"
   ]
  },
  {
   "cell_type": "markdown",
   "id": "1440b8c2",
   "metadata": {},
   "source": [
    "## Final Model"
   ]
  },
  {
   "cell_type": "code",
   "execution_count": 313,
   "id": "8b9944bd",
   "metadata": {},
   "outputs": [],
   "source": [
    "import pickle\n",
    "filename = 'finalized_model.sav'\n",
    "pickle.dump(M30, open(filename, 'wb'))"
   ]
  }
 ],
 "metadata": {
  "kernelspec": {
   "display_name": "Python 3 (ipykernel)",
   "language": "python",
   "name": "python3"
  },
  "language_info": {
   "codemirror_mode": {
    "name": "ipython",
    "version": 3
   },
   "file_extension": ".py",
   "mimetype": "text/x-python",
   "name": "python",
   "nbconvert_exporter": "python",
   "pygments_lexer": "ipython3",
   "version": "3.9.12"
  }
 },
 "nbformat": 4,
 "nbformat_minor": 5
}
